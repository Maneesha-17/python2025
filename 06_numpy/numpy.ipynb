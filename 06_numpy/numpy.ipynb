{
  "cells": [
    {
      "cell_type": "markdown",
      "metadata": {
        "colab_type": "text",
        "id": "view-in-github"
      },
      "source": [
        "<a href=\"https://colab.research.google.com/github/Maneesha-17/python2025/blob/class10/numpy.ipynb\" target=\"_parent\"><img src=\"https://colab.research.google.com/assets/colab-badge.svg\" alt=\"Open In Colab\"/></a>"
      ]
    },
    {
      "cell_type": "markdown",
      "metadata": {
        "id": "lK9rz4Jk0S9c"
      },
      "source": [
        "### Numpy"
      ]
    },
    {
      "cell_type": "markdown",
      "metadata": {
        "id": "yDoyOm3-0fJp"
      },
      "source": [
        "Q) Difference between Python List and Numpy array?\n",
        "\n",
        "Ans) numpy array is a list which contains elements of same data type only"
      ]
    },
    {
      "cell_type": "code",
      "execution_count": 1,
      "metadata": {
        "id": "YLH8jnMhzSJS"
      },
      "outputs": [],
      "source": [
        "mylist = [1, 2, 3, 'abc', None]"
      ]
    },
    {
      "cell_type": "code",
      "execution_count": 2,
      "metadata": {
        "id": "aVxMSMuq0mq5"
      },
      "outputs": [],
      "source": [
        "import numpy as np"
      ]
    },
    {
      "cell_type": "code",
      "execution_count": 3,
      "metadata": {
        "colab": {
          "base_uri": "https://localhost:8080/"
        },
        "id": "RHSYOQdM0oXO",
        "outputId": "da7dffe3-93f6-446f-aede-fd739f94f2ee"
      },
      "outputs": [
        {
          "data": {
            "text/plain": [
              "<module 'numpy' from '/home/codespace/.local/lib/python3.12/site-packages/numpy/__init__.py'>"
            ]
          },
          "execution_count": 3,
          "metadata": {},
          "output_type": "execute_result"
        }
      ],
      "source": [
        "np"
      ]
    },
    {
      "cell_type": "code",
      "execution_count": 4,
      "metadata": {
        "colab": {
          "base_uri": "https://localhost:8080/"
        },
        "id": "wy5_HHzE0rbE",
        "outputId": "4817fbed-4b1a-4113-afc2-394e1757c2d1"
      },
      "outputs": [
        {
          "name": "stdout",
          "output_type": "stream",
          "text": [
            "\n",
            "NumPy\n",
            "=====\n",
            "\n",
            "Provides\n",
            "  1. An array object of arbitrary homogeneous items\n",
            "  2. Fast mathematical operations over arrays\n",
            "  3. Linear Algebra, Fourier Transforms, Random Number Generation\n",
            "\n",
            "How to use the documentation\n",
            "----------------------------\n",
            "Documentation is available in two forms: docstrings provided\n",
            "with the code, and a loose standing reference guide, available from\n",
            "`the NumPy homepage <https://numpy.org>`_.\n",
            "\n",
            "We recommend exploring the docstrings using\n",
            "`IPython <https://ipython.org>`_, an advanced Python shell with\n",
            "TAB-completion and introspection capabilities.  See below for further\n",
            "instructions.\n",
            "\n",
            "The docstring examples assume that `numpy` has been imported as ``np``::\n",
            "\n",
            "  >>> import numpy as np\n",
            "\n",
            "Code snippets are indicated by three greater-than signs::\n",
            "\n",
            "  >>> x = 42\n",
            "  >>> x = x + 1\n",
            "\n",
            "Use the built-in ``help`` function to view a function's docstring::\n",
            "\n",
            "  >>> help(np.sort)\n",
            "  ... # doctest: +SKIP\n",
            "\n",
            "For some objects, ``np.info(obj)`` may provide additional help.  This is\n",
            "particularly true if you see the line \"Help on ufunc object:\" at the top\n",
            "of the help() page.  Ufuncs are implemented in C, not Python, for speed.\n",
            "The native Python help() does not know how to view their help, but our\n",
            "np.info() function does.\n",
            "\n",
            "Available subpackages\n",
            "---------------------\n",
            "lib\n",
            "    Basic functions used by several sub-packages.\n",
            "random\n",
            "    Core Random Tools\n",
            "linalg\n",
            "    Core Linear Algebra Tools\n",
            "fft\n",
            "    Core FFT routines\n",
            "polynomial\n",
            "    Polynomial tools\n",
            "testing\n",
            "    NumPy testing tools\n",
            "distutils\n",
            "    Enhancements to distutils with support for\n",
            "    Fortran compilers support and more (for Python <= 3.11)\n",
            "\n",
            "Utilities\n",
            "---------\n",
            "test\n",
            "    Run numpy unittests\n",
            "show_config\n",
            "    Show numpy build configuration\n",
            "__version__\n",
            "    NumPy version string\n",
            "\n",
            "Viewing documentation using IPython\n",
            "-----------------------------------\n",
            "\n",
            "Start IPython and import `numpy` usually under the alias ``np``: `import\n",
            "numpy as np`.  Then, directly past or use the ``%cpaste`` magic to paste\n",
            "examples into the shell.  To see which functions are available in `numpy`,\n",
            "type ``np.<TAB>`` (where ``<TAB>`` refers to the TAB key), or use\n",
            "``np.*cos*?<ENTER>`` (where ``<ENTER>`` refers to the ENTER key) to narrow\n",
            "down the list.  To view the docstring for a function, use\n",
            "``np.cos?<ENTER>`` (to view the docstring) and ``np.cos??<ENTER>`` (to view\n",
            "the source code).\n",
            "\n",
            "Copies vs. in-place operation\n",
            "-----------------------------\n",
            "Most of the functions in `numpy` return a copy of the array argument\n",
            "(e.g., `np.sort`).  In-place versions of these functions are often\n",
            "available as array methods, i.e. ``x = np.array([1,2,3]); x.sort()``.\n",
            "Exceptions to this rule are documented.\n",
            "\n",
            "\n"
          ]
        }
      ],
      "source": [
        "print(np.__doc__)"
      ]
    },
    {
      "cell_type": "code",
      "execution_count": 5,
      "metadata": {
        "colab": {
          "base_uri": "https://localhost:8080/"
        },
        "id": "f-KNu--p0v1l",
        "outputId": "e5b6c650-e906-4311-e5d3-e834ee6738ef"
      },
      "outputs": [
        {
          "data": {
            "text/plain": [
              "['False_',\n",
              " 'ScalarType',\n",
              " 'True_',\n",
              " '_CopyMode',\n",
              " '_NoValue',\n",
              " '__NUMPY_SETUP__',\n",
              " '__all__',\n",
              " '__array_api_version__',\n",
              " '__array_namespace_info__',\n",
              " '__builtins__',\n",
              " '__cached__',\n",
              " '__config__',\n",
              " '__dir__',\n",
              " '__doc__',\n",
              " '__expired_attributes__',\n",
              " '__file__',\n",
              " '__former_attrs__',\n",
              " '__future_scalars__',\n",
              " '__getattr__',\n",
              " '__loader__',\n",
              " '__name__',\n",
              " '__numpy_submodules__',\n",
              " '__package__',\n",
              " '__path__',\n",
              " '__spec__',\n",
              " '__version__',\n",
              " '_array_api_info',\n",
              " '_core',\n",
              " '_distributor_init',\n",
              " '_expired_attrs_2_0',\n",
              " '_globals',\n",
              " '_int_extended_msg',\n",
              " '_mat',\n",
              " '_msg',\n",
              " '_pyinstaller_hooks_dir',\n",
              " '_pytesttester',\n",
              " '_specific_msg',\n",
              " '_type_info',\n",
              " '_typing',\n",
              " '_utils',\n",
              " 'abs',\n",
              " 'absolute',\n",
              " 'acos',\n",
              " 'acosh',\n",
              " 'add',\n",
              " 'all',\n",
              " 'allclose',\n",
              " 'amax',\n",
              " 'amin',\n",
              " 'angle',\n",
              " 'any',\n",
              " 'append',\n",
              " 'apply_along_axis',\n",
              " 'apply_over_axes',\n",
              " 'arange',\n",
              " 'arccos',\n",
              " 'arccosh',\n",
              " 'arcsin',\n",
              " 'arcsinh',\n",
              " 'arctan',\n",
              " 'arctan2',\n",
              " 'arctanh',\n",
              " 'argmax',\n",
              " 'argmin',\n",
              " 'argpartition',\n",
              " 'argsort',\n",
              " 'argwhere',\n",
              " 'around',\n",
              " 'array',\n",
              " 'array2string',\n",
              " 'array_equal',\n",
              " 'array_equiv',\n",
              " 'array_repr',\n",
              " 'array_split',\n",
              " 'array_str',\n",
              " 'asanyarray',\n",
              " 'asarray',\n",
              " 'asarray_chkfinite',\n",
              " 'ascontiguousarray',\n",
              " 'asfortranarray',\n",
              " 'asin',\n",
              " 'asinh',\n",
              " 'asmatrix',\n",
              " 'astype',\n",
              " 'atan',\n",
              " 'atan2',\n",
              " 'atanh',\n",
              " 'atleast_1d',\n",
              " 'atleast_2d',\n",
              " 'atleast_3d',\n",
              " 'average',\n",
              " 'bartlett',\n",
              " 'base_repr',\n",
              " 'binary_repr',\n",
              " 'bincount',\n",
              " 'bitwise_and',\n",
              " 'bitwise_count',\n",
              " 'bitwise_invert',\n",
              " 'bitwise_left_shift',\n",
              " 'bitwise_not',\n",
              " 'bitwise_or',\n",
              " 'bitwise_right_shift',\n",
              " 'bitwise_xor',\n",
              " 'blackman',\n",
              " 'block',\n",
              " 'bmat',\n",
              " 'bool',\n",
              " 'bool_',\n",
              " 'broadcast',\n",
              " 'broadcast_arrays',\n",
              " 'broadcast_shapes',\n",
              " 'broadcast_to',\n",
              " 'busday_count',\n",
              " 'busday_offset',\n",
              " 'busdaycalendar',\n",
              " 'byte',\n",
              " 'bytes_',\n",
              " 'c_',\n",
              " 'can_cast',\n",
              " 'cbrt',\n",
              " 'cdouble',\n",
              " 'ceil',\n",
              " 'char',\n",
              " 'character',\n",
              " 'choose',\n",
              " 'clip',\n",
              " 'clongdouble',\n",
              " 'column_stack',\n",
              " 'common_type',\n",
              " 'complex128',\n",
              " 'complex256',\n",
              " 'complex64',\n",
              " 'complexfloating',\n",
              " 'compress',\n",
              " 'concat',\n",
              " 'concatenate',\n",
              " 'conj',\n",
              " 'conjugate',\n",
              " 'convolve',\n",
              " 'copy',\n",
              " 'copysign',\n",
              " 'copyto',\n",
              " 'core',\n",
              " 'corrcoef',\n",
              " 'correlate',\n",
              " 'cos',\n",
              " 'cosh',\n",
              " 'count_nonzero',\n",
              " 'cov',\n",
              " 'cross',\n",
              " 'csingle',\n",
              " 'ctypeslib',\n",
              " 'cumprod',\n",
              " 'cumsum',\n",
              " 'cumulative_prod',\n",
              " 'cumulative_sum',\n",
              " 'datetime64',\n",
              " 'datetime_as_string',\n",
              " 'datetime_data',\n",
              " 'deg2rad',\n",
              " 'degrees',\n",
              " 'delete',\n",
              " 'diag',\n",
              " 'diag_indices',\n",
              " 'diag_indices_from',\n",
              " 'diagflat',\n",
              " 'diagonal',\n",
              " 'diff',\n",
              " 'digitize',\n",
              " 'divide',\n",
              " 'divmod',\n",
              " 'dot',\n",
              " 'double',\n",
              " 'dsplit',\n",
              " 'dstack',\n",
              " 'dtype',\n",
              " 'dtypes',\n",
              " 'e',\n",
              " 'ediff1d',\n",
              " 'einsum',\n",
              " 'einsum_path',\n",
              " 'emath',\n",
              " 'empty',\n",
              " 'empty_like',\n",
              " 'equal',\n",
              " 'errstate',\n",
              " 'euler_gamma',\n",
              " 'exceptions',\n",
              " 'exp',\n",
              " 'exp2',\n",
              " 'expand_dims',\n",
              " 'expm1',\n",
              " 'extract',\n",
              " 'eye',\n",
              " 'f2py',\n",
              " 'fabs',\n",
              " 'fft',\n",
              " 'fill_diagonal',\n",
              " 'finfo',\n",
              " 'fix',\n",
              " 'flatiter',\n",
              " 'flatnonzero',\n",
              " 'flexible',\n",
              " 'flip',\n",
              " 'fliplr',\n",
              " 'flipud',\n",
              " 'float128',\n",
              " 'float16',\n",
              " 'float32',\n",
              " 'float64',\n",
              " 'float_power',\n",
              " 'floating',\n",
              " 'floor',\n",
              " 'floor_divide',\n",
              " 'fmax',\n",
              " 'fmin',\n",
              " 'fmod',\n",
              " 'format_float_positional',\n",
              " 'format_float_scientific',\n",
              " 'frexp',\n",
              " 'from_dlpack',\n",
              " 'frombuffer',\n",
              " 'fromfile',\n",
              " 'fromfunction',\n",
              " 'fromiter',\n",
              " 'frompyfunc',\n",
              " 'fromregex',\n",
              " 'fromstring',\n",
              " 'full',\n",
              " 'full_like',\n",
              " 'gcd',\n",
              " 'generic',\n",
              " 'genfromtxt',\n",
              " 'geomspace',\n",
              " 'get_include',\n",
              " 'get_printoptions',\n",
              " 'getbufsize',\n",
              " 'geterr',\n",
              " 'geterrcall',\n",
              " 'gradient',\n",
              " 'greater',\n",
              " 'greater_equal',\n",
              " 'half',\n",
              " 'hamming',\n",
              " 'hanning',\n",
              " 'heaviside',\n",
              " 'histogram',\n",
              " 'histogram2d',\n",
              " 'histogram_bin_edges',\n",
              " 'histogramdd',\n",
              " 'hsplit',\n",
              " 'hstack',\n",
              " 'hypot',\n",
              " 'i0',\n",
              " 'identity',\n",
              " 'iinfo',\n",
              " 'imag',\n",
              " 'in1d',\n",
              " 'index_exp',\n",
              " 'indices',\n",
              " 'inexact',\n",
              " 'inf',\n",
              " 'info',\n",
              " 'inner',\n",
              " 'insert',\n",
              " 'int16',\n",
              " 'int32',\n",
              " 'int64',\n",
              " 'int8',\n",
              " 'int_',\n",
              " 'intc',\n",
              " 'integer',\n",
              " 'interp',\n",
              " 'intersect1d',\n",
              " 'intp',\n",
              " 'invert',\n",
              " 'is_busday',\n",
              " 'isclose',\n",
              " 'iscomplex',\n",
              " 'iscomplexobj',\n",
              " 'isdtype',\n",
              " 'isfinite',\n",
              " 'isfortran',\n",
              " 'isin',\n",
              " 'isinf',\n",
              " 'isnan',\n",
              " 'isnat',\n",
              " 'isneginf',\n",
              " 'isposinf',\n",
              " 'isreal',\n",
              " 'isrealobj',\n",
              " 'isscalar',\n",
              " 'issubdtype',\n",
              " 'iterable',\n",
              " 'ix_',\n",
              " 'kaiser',\n",
              " 'kron',\n",
              " 'lcm',\n",
              " 'ldexp',\n",
              " 'left_shift',\n",
              " 'less',\n",
              " 'less_equal',\n",
              " 'lexsort',\n",
              " 'lib',\n",
              " 'linalg',\n",
              " 'linspace',\n",
              " 'little_endian',\n",
              " 'load',\n",
              " 'loadtxt',\n",
              " 'log',\n",
              " 'log10',\n",
              " 'log1p',\n",
              " 'log2',\n",
              " 'logaddexp',\n",
              " 'logaddexp2',\n",
              " 'logical_and',\n",
              " 'logical_not',\n",
              " 'logical_or',\n",
              " 'logical_xor',\n",
              " 'logspace',\n",
              " 'long',\n",
              " 'longdouble',\n",
              " 'longlong',\n",
              " 'ma',\n",
              " 'mask_indices',\n",
              " 'matmul',\n",
              " 'matrix',\n",
              " 'matrix_transpose',\n",
              " 'matvec',\n",
              " 'max',\n",
              " 'maximum',\n",
              " 'may_share_memory',\n",
              " 'mean',\n",
              " 'median',\n",
              " 'memmap',\n",
              " 'meshgrid',\n",
              " 'mgrid',\n",
              " 'min',\n",
              " 'min_scalar_type',\n",
              " 'minimum',\n",
              " 'mintypecode',\n",
              " 'mod',\n",
              " 'modf',\n",
              " 'moveaxis',\n",
              " 'multiply',\n",
              " 'nan',\n",
              " 'nan_to_num',\n",
              " 'nanargmax',\n",
              " 'nanargmin',\n",
              " 'nancumprod',\n",
              " 'nancumsum',\n",
              " 'nanmax',\n",
              " 'nanmean',\n",
              " 'nanmedian',\n",
              " 'nanmin',\n",
              " 'nanpercentile',\n",
              " 'nanprod',\n",
              " 'nanquantile',\n",
              " 'nanstd',\n",
              " 'nansum',\n",
              " 'nanvar',\n",
              " 'ndarray',\n",
              " 'ndenumerate',\n",
              " 'ndim',\n",
              " 'ndindex',\n",
              " 'nditer',\n",
              " 'negative',\n",
              " 'nested_iters',\n",
              " 'newaxis',\n",
              " 'nextafter',\n",
              " 'nonzero',\n",
              " 'not_equal',\n",
              " 'number',\n",
              " 'object_',\n",
              " 'ogrid',\n",
              " 'ones',\n",
              " 'ones_like',\n",
              " 'outer',\n",
              " 'packbits',\n",
              " 'pad',\n",
              " 'partition',\n",
              " 'percentile',\n",
              " 'permute_dims',\n",
              " 'pi',\n",
              " 'piecewise',\n",
              " 'place',\n",
              " 'poly',\n",
              " 'poly1d',\n",
              " 'polyadd',\n",
              " 'polyder',\n",
              " 'polydiv',\n",
              " 'polyfit',\n",
              " 'polyint',\n",
              " 'polymul',\n",
              " 'polynomial',\n",
              " 'polysub',\n",
              " 'polyval',\n",
              " 'positive',\n",
              " 'pow',\n",
              " 'power',\n",
              " 'printoptions',\n",
              " 'prod',\n",
              " 'promote_types',\n",
              " 'ptp',\n",
              " 'put',\n",
              " 'put_along_axis',\n",
              " 'putmask',\n",
              " 'quantile',\n",
              " 'r_',\n",
              " 'rad2deg',\n",
              " 'radians',\n",
              " 'random',\n",
              " 'ravel',\n",
              " 'ravel_multi_index',\n",
              " 'real',\n",
              " 'real_if_close',\n",
              " 'rec',\n",
              " 'recarray',\n",
              " 'reciprocal',\n",
              " 'record',\n",
              " 'remainder',\n",
              " 'repeat',\n",
              " 'require',\n",
              " 'reshape',\n",
              " 'resize',\n",
              " 'result_type',\n",
              " 'right_shift',\n",
              " 'rint',\n",
              " 'roll',\n",
              " 'rollaxis',\n",
              " 'roots',\n",
              " 'rot90',\n",
              " 'round',\n",
              " 'row_stack',\n",
              " 's_',\n",
              " 'save',\n",
              " 'savetxt',\n",
              " 'savez',\n",
              " 'savez_compressed',\n",
              " 'sctypeDict',\n",
              " 'searchsorted',\n",
              " 'select',\n",
              " 'set_printoptions',\n",
              " 'setbufsize',\n",
              " 'setdiff1d',\n",
              " 'seterr',\n",
              " 'seterrcall',\n",
              " 'setxor1d',\n",
              " 'shape',\n",
              " 'shares_memory',\n",
              " 'short',\n",
              " 'show_config',\n",
              " 'show_runtime',\n",
              " 'sign',\n",
              " 'signbit',\n",
              " 'signedinteger',\n",
              " 'sin',\n",
              " 'sinc',\n",
              " 'single',\n",
              " 'sinh',\n",
              " 'size',\n",
              " 'sort',\n",
              " 'sort_complex',\n",
              " 'spacing',\n",
              " 'split',\n",
              " 'sqrt',\n",
              " 'square',\n",
              " 'squeeze',\n",
              " 'stack',\n",
              " 'std',\n",
              " 'str_',\n",
              " 'strings',\n",
              " 'subtract',\n",
              " 'sum',\n",
              " 'swapaxes',\n",
              " 'take',\n",
              " 'take_along_axis',\n",
              " 'tan',\n",
              " 'tanh',\n",
              " 'tensordot',\n",
              " 'test',\n",
              " 'testing',\n",
              " 'tile',\n",
              " 'timedelta64',\n",
              " 'trace',\n",
              " 'transpose',\n",
              " 'trapezoid',\n",
              " 'trapz',\n",
              " 'tri',\n",
              " 'tril',\n",
              " 'tril_indices',\n",
              " 'tril_indices_from',\n",
              " 'trim_zeros',\n",
              " 'triu',\n",
              " 'triu_indices',\n",
              " 'triu_indices_from',\n",
              " 'true_divide',\n",
              " 'trunc',\n",
              " 'typecodes',\n",
              " 'typename',\n",
              " 'typing',\n",
              " 'ubyte',\n",
              " 'ufunc',\n",
              " 'uint',\n",
              " 'uint16',\n",
              " 'uint32',\n",
              " 'uint64',\n",
              " 'uint8',\n",
              " 'uintc',\n",
              " 'uintp',\n",
              " 'ulong',\n",
              " 'ulonglong',\n",
              " 'union1d',\n",
              " 'unique',\n",
              " 'unique_all',\n",
              " 'unique_counts',\n",
              " 'unique_inverse',\n",
              " 'unique_values',\n",
              " 'unpackbits',\n",
              " 'unravel_index',\n",
              " 'unsignedinteger',\n",
              " 'unstack',\n",
              " 'unwrap',\n",
              " 'ushort',\n",
              " 'vander',\n",
              " 'var',\n",
              " 'vdot',\n",
              " 'vecdot',\n",
              " 'vecmat',\n",
              " 'vectorize',\n",
              " 'void',\n",
              " 'vsplit',\n",
              " 'vstack',\n",
              " 'where',\n",
              " 'zeros',\n",
              " 'zeros_like']"
            ]
          },
          "execution_count": 5,
          "metadata": {},
          "output_type": "execute_result"
        }
      ],
      "source": [
        "dir(np)"
      ]
    },
    {
      "cell_type": "code",
      "execution_count": 6,
      "metadata": {
        "colab": {
          "base_uri": "https://localhost:8080/"
        },
        "id": "Doj9yG4e7tru",
        "outputId": "c45dd063-7dc4-4fb9-9580-091f69db7d8a"
      },
      "outputs": [
        {
          "data": {
            "text/plain": [
              "array([], dtype=float64)"
            ]
          },
          "execution_count": 6,
          "metadata": {},
          "output_type": "execute_result"
        }
      ],
      "source": [
        "empty_array = np.array([])\n",
        "empty_array"
      ]
    },
    {
      "cell_type": "code",
      "execution_count": 7,
      "metadata": {
        "colab": {
          "base_uri": "https://localhost:8080/"
        },
        "id": "nzwgpMde7yx4",
        "outputId": "aba9aae3-25bb-481c-d17b-d861f1301152"
      },
      "outputs": [
        {
          "data": {
            "text/plain": [
              "array([1, 2, 3])"
            ]
          },
          "execution_count": 7,
          "metadata": {},
          "output_type": "execute_result"
        }
      ],
      "source": [
        "int_arr = np.array([1, 2, 3])\n",
        "int_arr"
      ]
    },
    {
      "cell_type": "code",
      "execution_count": 8,
      "metadata": {
        "colab": {
          "base_uri": "https://localhost:8080/"
        },
        "id": "wwoo6CRR8BBz",
        "outputId": "2246eecc-2d02-47eb-981f-37ec76bc6710"
      },
      "outputs": [
        {
          "data": {
            "text/plain": [
              "array([1, 2, 3])"
            ]
          },
          "execution_count": 8,
          "metadata": {},
          "output_type": "execute_result"
        }
      ],
      "source": [
        "int_arr = np.array([1, 2, 3], int)\n",
        "int_arr"
      ]
    },
    {
      "cell_type": "code",
      "execution_count": 9,
      "metadata": {
        "colab": {
          "base_uri": "https://localhost:8080/"
        },
        "id": "gqlXjfuF8E0n",
        "outputId": "9e89f527-851e-4058-8b52-5fb6a6e3b6bd"
      },
      "outputs": [
        {
          "data": {
            "text/plain": [
              "array([1, 2, 3], dtype=int32)"
            ]
          },
          "execution_count": 9,
          "metadata": {},
          "output_type": "execute_result"
        }
      ],
      "source": [
        "int_arr = np.array([1, 2, 3], 'int32')\n",
        "int_arr"
      ]
    },
    {
      "cell_type": "code",
      "execution_count": 10,
      "metadata": {
        "colab": {
          "base_uri": "https://localhost:8080/"
        },
        "id": "YroxccRv8JZL",
        "outputId": "1cf91be6-3872-44a5-81fa-9dcd534630eb"
      },
      "outputs": [
        {
          "data": {
            "text/plain": [
              "array(['ram', 'syam', 'ganesh', 'mahesh'], dtype='<U6')"
            ]
          },
          "execution_count": 10,
          "metadata": {},
          "output_type": "execute_result"
        }
      ],
      "source": [
        "str_arr = np.array(['ram', 'syam', 'ganesh', 'mahesh'])\n",
        "str_arr"
      ]
    },
    {
      "cell_type": "code",
      "execution_count": 11,
      "metadata": {
        "colab": {
          "base_uri": "https://localhost:8080/"
        },
        "id": "32oEf8c-8USz",
        "outputId": "d96792a8-8158-45f4-f0da-b0133eaba0d1"
      },
      "outputs": [
        {
          "data": {
            "text/plain": [
              "array(['ram', 'syam', 'ganesh', 'mahesh'], dtype='<U6')"
            ]
          },
          "execution_count": 11,
          "metadata": {},
          "output_type": "execute_result"
        }
      ],
      "source": [
        "str_arr = np.array(['ram', 'syam', 'ganesh', 'mahesh'], str)\n",
        "str_arr"
      ]
    },
    {
      "cell_type": "code",
      "execution_count": 12,
      "metadata": {
        "colab": {
          "base_uri": "https://localhost:8080/",
          "height": 164
        },
        "id": "ZfKYLKID8XoR",
        "outputId": "3d73b2d8-8842-415d-9a23-f3021a81e60f"
      },
      "outputs": [
        {
          "ename": "TypeError",
          "evalue": "data type 'ascii' not understood",
          "output_type": "error",
          "traceback": [
            "\u001b[0;31m---------------------------------------------------------------------------\u001b[0m",
            "\u001b[0;31mTypeError\u001b[0m                                 Traceback (most recent call last)",
            "Cell \u001b[0;32mIn[12], line 1\u001b[0m\n\u001b[0;32m----> 1\u001b[0m str_arr \u001b[38;5;241m=\u001b[39m \u001b[43mnp\u001b[49m\u001b[38;5;241;43m.\u001b[39;49m\u001b[43marray\u001b[49m\u001b[43m(\u001b[49m\u001b[43m[\u001b[49m\u001b[38;5;124;43m'\u001b[39;49m\u001b[38;5;124;43mram\u001b[39;49m\u001b[38;5;124;43m'\u001b[39;49m\u001b[43m,\u001b[49m\u001b[43m \u001b[49m\u001b[38;5;124;43m'\u001b[39;49m\u001b[38;5;124;43msyam\u001b[39;49m\u001b[38;5;124;43m'\u001b[39;49m\u001b[43m,\u001b[49m\u001b[43m \u001b[49m\u001b[38;5;124;43m'\u001b[39;49m\u001b[38;5;124;43mganesh\u001b[39;49m\u001b[38;5;124;43m'\u001b[39;49m\u001b[43m,\u001b[49m\u001b[43m \u001b[49m\u001b[38;5;124;43m'\u001b[39;49m\u001b[38;5;124;43mmahesh\u001b[39;49m\u001b[38;5;124;43m'\u001b[39;49m\u001b[43m]\u001b[49m\u001b[43m,\u001b[49m\u001b[43m \u001b[49m\u001b[38;5;124;43m'\u001b[39;49m\u001b[38;5;124;43mascii\u001b[39;49m\u001b[38;5;124;43m'\u001b[39;49m\u001b[43m)\u001b[49m\n\u001b[1;32m      2\u001b[0m str_arr\n",
            "\u001b[0;31mTypeError\u001b[0m: data type 'ascii' not understood"
          ]
        }
      ],
      "source": [
        "str_arr = np.array(['ram', 'syam', 'ganesh', 'mahesh'], 'ascii')\n",
        "str_arr"
      ]
    },
    {
      "cell_type": "code",
      "execution_count": 13,
      "metadata": {
        "colab": {
          "base_uri": "https://localhost:8080/"
        },
        "id": "FJpR4mDAUT7c",
        "outputId": "d2eaea4e-cea9-4e44-d63e-5ae6b2c421e9"
      },
      "outputs": [
        {
          "data": {
            "text/plain": [
              "array([1.+0.j, 2.+0.j, 3.+0.j], dtype=complex64)"
            ]
          },
          "execution_count": 13,
          "metadata": {},
          "output_type": "execute_result"
        }
      ],
      "source": [
        "comp_arr = np.array([1, 2, 3], dtype = np.complex64)\n",
        "comp_arr"
      ]
    },
    {
      "cell_type": "markdown",
      "metadata": {
        "id": "q5_d6sWn8b5N"
      },
      "source": [
        "## List vs Array"
      ]
    },
    {
      "cell_type": "code",
      "execution_count": 14,
      "metadata": {
        "colab": {
          "base_uri": "https://localhost:8080/"
        },
        "id": "qb1viWyW0-HN",
        "outputId": "a4218b61-2cec-4572-ebe3-bce2117f1b43"
      },
      "outputs": [
        {
          "data": {
            "text/plain": [
              "array([1, 3.3, '234', None, True], dtype=object)"
            ]
          },
          "execution_count": 14,
          "metadata": {},
          "output_type": "execute_result"
        }
      ],
      "source": [
        "np.array([1, 3.3, '234', None, True])"
      ]
    },
    {
      "cell_type": "code",
      "execution_count": 15,
      "metadata": {
        "colab": {
          "base_uri": "https://localhost:8080/"
        },
        "id": "F5dazoZe1Yru",
        "outputId": "6c2eda2e-b051-4c94-909d-08511bd1d87f"
      },
      "outputs": [
        {
          "data": {
            "text/plain": [
              "array([1, 3.3, '234', None, True], dtype=object)"
            ]
          },
          "execution_count": 15,
          "metadata": {},
          "output_type": "execute_result"
        }
      ],
      "source": [
        "arr1 = np.array([1, 3.3, '234', None, True])\n",
        "arr1"
      ]
    },
    {
      "cell_type": "code",
      "execution_count": 16,
      "metadata": {
        "colab": {
          "base_uri": "https://localhost:8080/"
        },
        "id": "VDkIIGXN1g6g",
        "outputId": "8f075c07-0d14-48a2-a261-0038a33520c9"
      },
      "outputs": [
        {
          "data": {
            "text/plain": [
              "numpy.ndarray"
            ]
          },
          "execution_count": 16,
          "metadata": {},
          "output_type": "execute_result"
        }
      ],
      "source": [
        "type(arr1)"
      ]
    },
    {
      "cell_type": "code",
      "execution_count": 17,
      "metadata": {
        "colab": {
          "base_uri": "https://localhost:8080/"
        },
        "id": "rRF5fTmC1i7b",
        "outputId": "4aa4154f-6557-4dc5-e72e-e0b506dcf667"
      },
      "outputs": [
        {
          "data": {
            "text/plain": [
              "dtype('O')"
            ]
          },
          "execution_count": 17,
          "metadata": {},
          "output_type": "execute_result"
        }
      ],
      "source": [
        "arr1.dtype"
      ]
    },
    {
      "cell_type": "code",
      "execution_count": 18,
      "metadata": {
        "colab": {
          "base_uri": "https://localhost:8080/"
        },
        "id": "_l_krt3o1m-b",
        "outputId": "d8dab54b-1d77-414b-d046-a1986ae0d34d"
      },
      "outputs": [
        {
          "data": {
            "text/plain": [
              "array([12340, 12341, 12342, 12343])"
            ]
          },
          "execution_count": 18,
          "metadata": {},
          "output_type": "execute_result"
        }
      ],
      "source": [
        "arr2 = np.array([12340, 12341, 12342, 12343])\n",
        "arr2"
      ]
    },
    {
      "cell_type": "code",
      "execution_count": 19,
      "metadata": {
        "colab": {
          "base_uri": "https://localhost:8080/"
        },
        "id": "0Z_PhDsA134m",
        "outputId": "b047f4b1-3082-4841-ecec-9a8873a865ff"
      },
      "outputs": [
        {
          "data": {
            "text/plain": [
              "numpy.ndarray"
            ]
          },
          "execution_count": 19,
          "metadata": {},
          "output_type": "execute_result"
        }
      ],
      "source": [
        "type(arr2)"
      ]
    },
    {
      "cell_type": "code",
      "execution_count": 20,
      "metadata": {
        "colab": {
          "base_uri": "https://localhost:8080/"
        },
        "id": "DrTzMAA815qp",
        "outputId": "001d65f6-e6ce-4d9c-8613-35b4bfbfa9be"
      },
      "outputs": [
        {
          "data": {
            "text/plain": [
              "dtype('int64')"
            ]
          },
          "execution_count": 20,
          "metadata": {},
          "output_type": "execute_result"
        }
      ],
      "source": [
        "arr2.dtype"
      ]
    },
    {
      "cell_type": "code",
      "execution_count": 21,
      "metadata": {
        "colab": {
          "base_uri": "https://localhost:8080/"
        },
        "id": "uBdIUe6K177s",
        "outputId": "be44dcbd-2d9d-437f-adf3-55a6721f868e"
      },
      "outputs": [
        {
          "data": {
            "text/plain": [
              "array([12340., 12341., 12342., 12343.])"
            ]
          },
          "execution_count": 21,
          "metadata": {},
          "output_type": "execute_result"
        }
      ],
      "source": [
        "arr3 = np.array([12340, 12341, 12342, 12343], float)\n",
        "arr3"
      ]
    },
    {
      "cell_type": "code",
      "execution_count": 22,
      "metadata": {
        "colab": {
          "base_uri": "https://localhost:8080/"
        },
        "id": "XM9Ii5f52RqL",
        "outputId": "311bb13f-2987-4885-9766-f789976fcf98"
      },
      "outputs": [
        {
          "data": {
            "text/plain": [
              "dtype('float64')"
            ]
          },
          "execution_count": 22,
          "metadata": {},
          "output_type": "execute_result"
        }
      ],
      "source": [
        "arr3.dtype"
      ]
    },
    {
      "cell_type": "code",
      "execution_count": 23,
      "metadata": {
        "colab": {
          "base_uri": "https://localhost:8080/"
        },
        "id": "D6q0vSFB2TVr",
        "outputId": "98dff046-7ae5-4bbf-898d-e6e731cb0b28"
      },
      "outputs": [
        {
          "name": "stdout",
          "output_type": "stream",
          "text": [
            "len(arr1) = 5\n",
            "len(arr2) = 4\n",
            "len(arr3) = 4\n"
          ]
        }
      ],
      "source": [
        "print(f\"{len(arr1) = }\")\n",
        "print(f\"{len(arr2) = }\")\n",
        "print(f\"{len(arr3) = }\")"
      ]
    },
    {
      "cell_type": "code",
      "execution_count": 24,
      "metadata": {
        "colab": {
          "base_uri": "https://localhost:8080/"
        },
        "id": "nIub8HcS2hxz",
        "outputId": "a137684a-118e-444c-936d-9d3257d755bd"
      },
      "outputs": [
        {
          "name": "stdout",
          "output_type": "stream",
          "text": [
            "arr1.shape = (5,)\n",
            "arr2.shape = (4,)\n",
            "arr3.shape = (4,)\n"
          ]
        }
      ],
      "source": [
        "print(f\"{arr1.shape = }\")\n",
        "print(f\"{arr2.shape = }\")\n",
        "print(f\"{arr3.shape = }\")"
      ]
    },
    {
      "cell_type": "code",
      "execution_count": 25,
      "metadata": {
        "id": "4jnNV2Fy2qFy"
      },
      "outputs": [],
      "source": [
        "# multi dimensional"
      ]
    },
    {
      "cell_type": "code",
      "execution_count": 26,
      "metadata": {
        "colab": {
          "base_uri": "https://localhost:8080/"
        },
        "id": "4LR12B993A_K",
        "outputId": "f6c64997-0219-4f85-8f4f-79676efa1258"
      },
      "outputs": [
        {
          "data": {
            "text/plain": [
              "array([[1., 2., 3.],\n",
              "       [5., 6., 7.]])"
            ]
          },
          "execution_count": 26,
          "metadata": {},
          "output_type": "execute_result"
        }
      ],
      "source": [
        "arr4 = np.array([(1, 2, 3), (5, 6, 7)], float)\n",
        "arr4"
      ]
    },
    {
      "cell_type": "code",
      "execution_count": 27,
      "metadata": {
        "colab": {
          "base_uri": "https://localhost:8080/"
        },
        "id": "4ryFfgCU3Tf3",
        "outputId": "ce4a1c9c-aa66-4435-b0e6-59bebd756b2e"
      },
      "outputs": [
        {
          "data": {
            "text/plain": [
              "2"
            ]
          },
          "execution_count": 27,
          "metadata": {},
          "output_type": "execute_result"
        }
      ],
      "source": [
        "len(arr4)"
      ]
    },
    {
      "cell_type": "code",
      "execution_count": 28,
      "metadata": {
        "colab": {
          "base_uri": "https://localhost:8080/"
        },
        "id": "2KEYbtKC3Z3G",
        "outputId": "77dbd4f9-a213-4fd3-c9e0-a7fe201815b9"
      },
      "outputs": [
        {
          "data": {
            "text/plain": [
              "(2, 3)"
            ]
          },
          "execution_count": 28,
          "metadata": {},
          "output_type": "execute_result"
        }
      ],
      "source": [
        "arr4.shape"
      ]
    },
    {
      "cell_type": "code",
      "execution_count": 29,
      "metadata": {
        "colab": {
          "base_uri": "https://localhost:8080/"
        },
        "id": "lHPbmTe_3cNt",
        "outputId": "5c48bb17-e2c7-4e12-b1c1-9df7a827d4c8"
      },
      "outputs": [
        {
          "data": {
            "text/plain": [
              "array([[1., 2., 3.],\n",
              "       [5., 6., 7.]])"
            ]
          },
          "execution_count": 29,
          "metadata": {},
          "output_type": "execute_result"
        }
      ],
      "source": [
        "arr5 = np.array(([1, 2, 3], (5, 6, 7)), float)\n",
        "arr5"
      ]
    },
    {
      "cell_type": "code",
      "execution_count": 30,
      "metadata": {
        "colab": {
          "base_uri": "https://localhost:8080/"
        },
        "id": "JikusSnp3nqh",
        "outputId": "d050d3cc-685d-43b7-e0dc-d2789a6633f4"
      },
      "outputs": [
        {
          "data": {
            "text/plain": [
              "array([[1., 2., 3.],\n",
              "       [5., 6., 7.]])"
            ]
          },
          "execution_count": 30,
          "metadata": {},
          "output_type": "execute_result"
        }
      ],
      "source": [
        "arr6 = np.array([[1, 2, 3], (5, 6, 7)], float)\n",
        "arr6"
      ]
    },
    {
      "cell_type": "code",
      "execution_count": 31,
      "metadata": {
        "colab": {
          "base_uri": "https://localhost:8080/",
          "height": 164
        },
        "id": "CvqVv2y53wP9",
        "outputId": "f5f6ec64-236b-483c-d83c-599e8a2392f7"
      },
      "outputs": [
        {
          "ename": "TypeError",
          "evalue": "float() argument must be a string or a real number, not 'set'",
          "output_type": "error",
          "traceback": [
            "\u001b[0;31m---------------------------------------------------------------------------\u001b[0m",
            "\u001b[0;31mTypeError\u001b[0m                                 Traceback (most recent call last)",
            "Cell \u001b[0;32mIn[31], line 1\u001b[0m\n\u001b[0;32m----> 1\u001b[0m arr7 \u001b[38;5;241m=\u001b[39m \u001b[43mnp\u001b[49m\u001b[38;5;241;43m.\u001b[39;49m\u001b[43marray\u001b[49m\u001b[43m(\u001b[49m\u001b[43m[\u001b[49m\u001b[43m{\u001b[49m\u001b[38;5;241;43m1\u001b[39;49m\u001b[43m,\u001b[49m\u001b[43m \u001b[49m\u001b[38;5;241;43m2\u001b[39;49m\u001b[43m,\u001b[49m\u001b[43m \u001b[49m\u001b[38;5;241;43m3\u001b[39;49m\u001b[43m}\u001b[49m\u001b[43m,\u001b[49m\u001b[43m \u001b[49m\u001b[43m{\u001b[49m\u001b[38;5;241;43m5\u001b[39;49m\u001b[43m,\u001b[49m\u001b[43m \u001b[49m\u001b[38;5;241;43m6\u001b[39;49m\u001b[43m,\u001b[49m\u001b[43m \u001b[49m\u001b[38;5;241;43m7\u001b[39;49m\u001b[43m}\u001b[49m\u001b[43m]\u001b[49m\u001b[43m,\u001b[49m\u001b[43m \u001b[49m\u001b[38;5;28;43mfloat\u001b[39;49m\u001b[43m)\u001b[49m\n\u001b[1;32m      2\u001b[0m arr7\n",
            "\u001b[0;31mTypeError\u001b[0m: float() argument must be a string or a real number, not 'set'"
          ]
        }
      ],
      "source": [
        "arr7 = np.array([{1, 2, 3}, {5, 6, 7}], float)\n",
        "arr7"
      ]
    },
    {
      "cell_type": "markdown",
      "metadata": {
        "id": "5alDQUKb4SLJ"
      },
      "source": [
        "### np.arange"
      ]
    },
    {
      "cell_type": "code",
      "execution_count": 32,
      "metadata": {
        "colab": {
          "base_uri": "https://localhost:8080/"
        },
        "id": "sigZLfO034xN",
        "outputId": "e5118465-7c72-4af7-b4cc-0f4dbedfdb4c"
      },
      "outputs": [
        {
          "data": {
            "text/plain": [
              "array([0, 1, 2])"
            ]
          },
          "execution_count": 32,
          "metadata": {},
          "output_type": "execute_result"
        }
      ],
      "source": [
        "arr8 = np.arange(3) # default start = 0, step = 1\n",
        "arr8"
      ]
    },
    {
      "cell_type": "code",
      "execution_count": 33,
      "metadata": {
        "colab": {
          "base_uri": "https://localhost:8080/"
        },
        "id": "f9J9hInV4Win",
        "outputId": "059bc350-c567-4a1f-f1e2-b000584ed9f6"
      },
      "outputs": [
        {
          "name": "stdout",
          "output_type": "stream",
          "text": [
            "arr8 = array([0, 1, 2])\n",
            "arr8.dtype = dtype('int64')\n",
            "type(arr8) = <class 'numpy.ndarray'>\n",
            "arr8.shape = (3,)\n",
            "len(arr8) = 3\n",
            "arr8.ndim = 1\n"
          ]
        }
      ],
      "source": [
        "print(f\"{arr8 = }\")\n",
        "print(f\"{arr8.dtype = }\")\n",
        "print(f\"{type(arr8) = }\")\n",
        "print(f\"{arr8.shape = }\")\n",
        "print(f\"{len(arr8) = }\")\n",
        "print(f\"{arr8.ndim = }\") # the number of (axes)dimensions of the array"
      ]
    },
    {
      "cell_type": "code",
      "execution_count": 34,
      "metadata": {
        "colab": {
          "base_uri": "https://localhost:8080/"
        },
        "id": "v6X8alLi4sbb",
        "outputId": "fe01fffb-8032-4d15-e788-ba1e301ce6ce"
      },
      "outputs": [
        {
          "name": "stdout",
          "output_type": "stream",
          "text": [
            "arr8 = array([ 3,  5,  7,  9, 11, 13])\n",
            "arr8.dtype = dtype('int64')\n",
            "type(arr8) = <class 'numpy.ndarray'>\n",
            "arr8.shape = (6,)\n",
            "len(arr8) = 6\n",
            "arr8.ndim = 1\n"
          ]
        }
      ],
      "source": [
        "arr8 = np.arange(3, 15, 2) # default start = 0, step = 1\n",
        "print(f\"{arr8 = }\")\n",
        "print(f\"{arr8.dtype = }\")\n",
        "print(f\"{type(arr8) = }\")\n",
        "print(f\"{arr8.shape = }\")\n",
        "print(f\"{len(arr8) = }\")\n",
        "print(f\"{arr8.ndim = }\") # the number of (axes)dimensions of the array"
      ]
    },
    {
      "cell_type": "code",
      "execution_count": 35,
      "metadata": {
        "colab": {
          "base_uri": "https://localhost:8080/"
        },
        "id": "rYY_EZGrO7dv",
        "outputId": "97113861-84c0-426d-e6f1-d5d81d1786e4"
      },
      "outputs": [
        {
          "data": {
            "text/plain": [
              "array([ 3.,  9., 15.])"
            ]
          },
          "execution_count": 35,
          "metadata": {},
          "output_type": "execute_result"
        }
      ],
      "source": [
        "np.linspace(3, 15, 3) # 3 is no of elements we want and it gives in equal difference"
      ]
    },
    {
      "cell_type": "code",
      "execution_count": 36,
      "metadata": {
        "colab": {
          "base_uri": "https://localhost:8080/"
        },
        "id": "1_KIkq4sP7aB",
        "outputId": "71cf21e2-4de6-4373-9097-93a37408aa18"
      },
      "outputs": [
        {
          "data": {
            "text/plain": [
              "array([ 3.        ,  4.09090909,  5.18181818,  6.27272727,  7.36363636,\n",
              "        8.45454545,  9.54545455, 10.63636364, 11.72727273, 12.81818182,\n",
              "       13.90909091, 15.        ])"
            ]
          },
          "execution_count": 36,
          "metadata": {},
          "output_type": "execute_result"
        }
      ],
      "source": [
        "np.linspace(3, 15, 12) # step is calaculates dynamiccaly,\n",
        "                       # based on the no of values expected, from start, till end"
      ]
    },
    {
      "cell_type": "code",
      "execution_count": 37,
      "metadata": {
        "colab": {
          "base_uri": "https://localhost:8080/"
        },
        "id": "2Jm6o6xeP9A5",
        "outputId": "956d998f-20c6-47cd-a4c1-29450099c53e"
      },
      "outputs": [
        {
          "data": {
            "text/plain": [
              "array([ 3.        ,  3.00005116,  3.00010232, ..., 14.99989768,\n",
              "       14.99994884, 15.        ], shape=(234567,))"
            ]
          },
          "execution_count": 37,
          "metadata": {},
          "output_type": "execute_result"
        }
      ],
      "source": [
        "np.linspace(3, 15, 234567)"
      ]
    },
    {
      "cell_type": "markdown",
      "metadata": {
        "id": "zdEvydl6QFpK"
      },
      "source": [
        "If we need to disable this displaying behaviour,\n",
        "\n",
        "use np.set_printoptions(threshold = np.nan)"
      ]
    },
    {
      "cell_type": "markdown",
      "metadata": {
        "id": "BCT6PBkQ5cab"
      },
      "source": [
        "#### np.reshape"
      ]
    },
    {
      "cell_type": "code",
      "execution_count": 38,
      "metadata": {
        "colab": {
          "base_uri": "https://localhost:8080/",
          "height": 146
        },
        "id": "cpSMOHXY5MGR",
        "outputId": "28d5dc3c-66c5-45cc-b7a0-35fec9b2ae80"
      },
      "outputs": [
        {
          "ename": "ValueError",
          "evalue": "cannot reshape array of size 6 into shape (3,5)",
          "output_type": "error",
          "traceback": [
            "\u001b[0;31m---------------------------------------------------------------------------\u001b[0m",
            "\u001b[0;31mValueError\u001b[0m                                Traceback (most recent call last)",
            "Cell \u001b[0;32mIn[38], line 1\u001b[0m\n\u001b[0;32m----> 1\u001b[0m \u001b[43marr8\u001b[49m\u001b[38;5;241;43m.\u001b[39;49m\u001b[43mreshape\u001b[49m\u001b[43m(\u001b[49m\u001b[38;5;241;43m3\u001b[39;49m\u001b[43m,\u001b[49m\u001b[43m \u001b[49m\u001b[38;5;241;43m5\u001b[39;49m\u001b[43m)\u001b[49m  \u001b[38;5;66;03m#3 * 5 = 15\u001b[39;00m\n",
            "\u001b[0;31mValueError\u001b[0m: cannot reshape array of size 6 into shape (3,5)"
          ]
        }
      ],
      "source": [
        "arr8.reshape(3, 5)  #3 * 5 = 15"
      ]
    },
    {
      "cell_type": "code",
      "execution_count": 39,
      "metadata": {
        "colab": {
          "base_uri": "https://localhost:8080/",
          "height": 146
        },
        "id": "sltEXm6C6Q_H",
        "outputId": "7251e5d2-7fe8-40b6-b30d-af6d56f47d97"
      },
      "outputs": [
        {
          "ename": "ValueError",
          "evalue": "cannot reshape array of size 6 into shape (1,5)",
          "output_type": "error",
          "traceback": [
            "\u001b[0;31m---------------------------------------------------------------------------\u001b[0m",
            "\u001b[0;31mValueError\u001b[0m                                Traceback (most recent call last)",
            "Cell \u001b[0;32mIn[39], line 1\u001b[0m\n\u001b[0;32m----> 1\u001b[0m \u001b[43marr8\u001b[49m\u001b[38;5;241;43m.\u001b[39;49m\u001b[43mreshape\u001b[49m\u001b[43m(\u001b[49m\u001b[38;5;241;43m1\u001b[39;49m\u001b[43m,\u001b[49m\u001b[43m \u001b[49m\u001b[38;5;241;43m5\u001b[39;49m\u001b[43m)\u001b[49m\n",
            "\u001b[0;31mValueError\u001b[0m: cannot reshape array of size 6 into shape (1,5)"
          ]
        }
      ],
      "source": [
        "arr8.reshape(1, 5)"
      ]
    },
    {
      "cell_type": "code",
      "execution_count": 40,
      "metadata": {
        "colab": {
          "base_uri": "https://localhost:8080/"
        },
        "id": "IFqehNWk5sp7",
        "outputId": "f5c7984c-8912-46b6-de0c-e70aa6835f10"
      },
      "outputs": [
        {
          "data": {
            "text/plain": [
              "array([[ 3,  5],\n",
              "       [ 7,  9],\n",
              "       [11, 13]])"
            ]
          },
          "execution_count": 40,
          "metadata": {},
          "output_type": "execute_result"
        }
      ],
      "source": [
        "arr8.reshape(3, 2)  #3 * 2 = 6"
      ]
    },
    {
      "cell_type": "code",
      "execution_count": 41,
      "metadata": {
        "colab": {
          "base_uri": "https://localhost:8080/"
        },
        "id": "7SjtEBDS5_Ev",
        "outputId": "41f46be4-57f3-4997-b89d-a6e975bf171a"
      },
      "outputs": [
        {
          "data": {
            "text/plain": [
              "array([[ 3,  5,  7],\n",
              "       [ 9, 11, 13]])"
            ]
          },
          "execution_count": 41,
          "metadata": {},
          "output_type": "execute_result"
        }
      ],
      "source": [
        "arr8.reshape(2, 3)  # 3 * 2 = 6"
      ]
    },
    {
      "cell_type": "code",
      "execution_count": 42,
      "metadata": {
        "colab": {
          "base_uri": "https://localhost:8080/"
        },
        "id": "WeujlE726D9j",
        "outputId": "9506ddc2-6a77-4ac5-c01d-638852365b3e"
      },
      "outputs": [
        {
          "data": {
            "text/plain": [
              "array([ 3,  5,  7,  9, 11, 13])"
            ]
          },
          "execution_count": 42,
          "metadata": {},
          "output_type": "execute_result"
        }
      ],
      "source": [
        "arr8"
      ]
    },
    {
      "cell_type": "code",
      "execution_count": 43,
      "metadata": {
        "colab": {
          "base_uri": "https://localhost:8080/"
        },
        "id": "k4CCTuwU6Es7",
        "outputId": "95f944b0-7936-4468-95ef-e04c37f19cc1"
      },
      "outputs": [
        {
          "data": {
            "text/plain": [
              "array([[ 3,  5,  7],\n",
              "       [ 9, 11, 13]])"
            ]
          },
          "execution_count": 43,
          "metadata": {},
          "output_type": "execute_result"
        }
      ],
      "source": [
        "arr8 = arr8.reshape(2, 3)  # 3 * 2 = 6\n",
        "arr8"
      ]
    },
    {
      "cell_type": "markdown",
      "metadata": {
        "id": "9phXc7Od6Uo4"
      },
      "source": [
        "### ndarray.itemsize"
      ]
    },
    {
      "cell_type": "markdown",
      "metadata": {
        "id": "qNpfaXx86hy8"
      },
      "source": [
        "  the size in bytes of each element of the array.\n",
        "\n",
        "  For example, an array of elements of type float64 has  8 (=6itemsize4/8),\n",
        "  while one of type complex32 has itemsize 4 (=32/8).\n",
        "\n",
        "  It is equivalent to ndarray.dtype.itemsize."
      ]
    },
    {
      "cell_type": "code",
      "execution_count": 44,
      "metadata": {
        "colab": {
          "base_uri": "https://localhost:8080/"
        },
        "id": "4llSjN816T6T",
        "outputId": "09b0771e-dff9-4427-c223-51bf3c688194"
      },
      "outputs": [
        {
          "data": {
            "text/plain": [
              "8"
            ]
          },
          "execution_count": 44,
          "metadata": {},
          "output_type": "execute_result"
        }
      ],
      "source": [
        "arr8.itemsize"
      ]
    },
    {
      "cell_type": "code",
      "execution_count": 45,
      "metadata": {
        "colab": {
          "base_uri": "https://localhost:8080/"
        },
        "id": "ztV_PF1D6IeY",
        "outputId": "42e19ff7-a587-4ad8-f428-2ca6cd9e030d"
      },
      "outputs": [
        {
          "name": "stdout",
          "output_type": "stream",
          "text": [
            "arr1 = array([1, 3.3, '234', None, True], dtype=object) arr1.itemsize = 8\n",
            "arr2 = array([12340, 12341, 12342, 12343]) arr2.itemsize = 8\n",
            "arr3 = array([12340., 12341., 12342., 12343.]) arr3.itemsize = 8\n",
            "arr4 = array([[1., 2., 3.],\n",
            "       [5., 6., 7.]]) arr4.itemsize = 8\n",
            "arr5 = array([[1., 2., 3.],\n",
            "       [5., 6., 7.]]) arr5.itemsize = 8\n",
            "arr6 = array([[1., 2., 3.],\n",
            "       [5., 6., 7.]]) arr6.itemsize = 8\n"
          ]
        }
      ],
      "source": [
        "print(f\"{arr1 = } {arr1.itemsize = }\")\n",
        "print(f\"{arr2 = } {arr2.itemsize = }\")\n",
        "print(f\"{arr3 = } {arr3.itemsize = }\")\n",
        "print(f\"{arr4 = } {arr4.itemsize = }\")\n",
        "print(f\"{arr5 = } {arr5.itemsize = }\")\n",
        "print(f\"{arr6 = } {arr6.itemsize = }\")"
      ]
    },
    {
      "cell_type": "markdown",
      "metadata": {
        "id": "zGYoXmKJFBX6"
      },
      "source": [
        "### zeroes like and ones like"
      ]
    },
    {
      "cell_type": "code",
      "execution_count": 46,
      "metadata": {
        "colab": {
          "base_uri": "https://localhost:8080/"
        },
        "id": "X7Gh945R7YxM",
        "outputId": "0f397f0f-a6fb-4b31-8949-a1db9feac903"
      },
      "outputs": [
        {
          "data": {
            "text/plain": [
              "array([[ 3,  5,  7],\n",
              "       [ 9, 11, 13]])"
            ]
          },
          "execution_count": 46,
          "metadata": {},
          "output_type": "execute_result"
        }
      ],
      "source": [
        "arr8"
      ]
    },
    {
      "cell_type": "code",
      "execution_count": 47,
      "metadata": {
        "colab": {
          "base_uri": "https://localhost:8080/"
        },
        "id": "VP96Nt3AFHNV",
        "outputId": "9d825ac5-741a-4af0-ec8a-315af2305c5d"
      },
      "outputs": [
        {
          "data": {
            "text/plain": [
              "array([[0, 0, 0],\n",
              "       [0, 0, 0]])"
            ]
          },
          "execution_count": 47,
          "metadata": {},
          "output_type": "execute_result"
        }
      ],
      "source": [
        "np.zeros_like(arr8)"
      ]
    },
    {
      "cell_type": "code",
      "execution_count": 48,
      "metadata": {
        "colab": {
          "base_uri": "https://localhost:8080/"
        },
        "id": "cSlNppgAFOag",
        "outputId": "b8392c90-8693-4b39-9c66-55d208dc53bd"
      },
      "outputs": [
        {
          "data": {
            "text/plain": [
              "array([[1, 1, 1],\n",
              "       [1, 1, 1]])"
            ]
          },
          "execution_count": 48,
          "metadata": {},
          "output_type": "execute_result"
        }
      ],
      "source": [
        "np.ones_like(arr8)"
      ]
    },
    {
      "cell_type": "code",
      "execution_count": 49,
      "metadata": {
        "colab": {
          "base_uri": "https://localhost:8080/",
          "height": 273
        },
        "id": "YOVL0-JyFUPP",
        "outputId": "82b78650-058d-48b5-8452-8df4aad52294"
      },
      "outputs": [
        {
          "ename": "AttributeError",
          "evalue": "module 'numpy' has no attribute 'zeroes'",
          "output_type": "error",
          "traceback": [
            "\u001b[0;31m---------------------------------------------------------------------------\u001b[0m",
            "\u001b[0;31mAttributeError\u001b[0m                            Traceback (most recent call last)",
            "Cell \u001b[0;32mIn[49], line 1\u001b[0m\n\u001b[0;32m----> 1\u001b[0m \u001b[43mnp\u001b[49m\u001b[38;5;241;43m.\u001b[39;49m\u001b[43mzeroes\u001b[49m(arr8)\n",
            "File \u001b[0;32m~/.local/lib/python3.12/site-packages/numpy/__init__.py:414\u001b[0m, in \u001b[0;36m__getattr__\u001b[0;34m(attr)\u001b[0m\n\u001b[1;32m    411\u001b[0m     \u001b[38;5;28;01mimport\u001b[39;00m \u001b[38;5;21;01mnumpy\u001b[39;00m\u001b[38;5;21;01m.\u001b[39;00m\u001b[38;5;21;01mchar\u001b[39;00m \u001b[38;5;28;01mas\u001b[39;00m \u001b[38;5;21;01mchar\u001b[39;00m\n\u001b[1;32m    412\u001b[0m     \u001b[38;5;28;01mreturn\u001b[39;00m char\u001b[38;5;241m.\u001b[39mchararray\n\u001b[0;32m--> 414\u001b[0m \u001b[38;5;28;01mraise\u001b[39;00m \u001b[38;5;167;01mAttributeError\u001b[39;00m(\u001b[38;5;124m\"\u001b[39m\u001b[38;5;124mmodule \u001b[39m\u001b[38;5;132;01m{!r}\u001b[39;00m\u001b[38;5;124m has no attribute \u001b[39m\u001b[38;5;124m\"\u001b[39m\n\u001b[1;32m    415\u001b[0m                      \u001b[38;5;124m\"\u001b[39m\u001b[38;5;132;01m{!r}\u001b[39;00m\u001b[38;5;124m\"\u001b[39m\u001b[38;5;241m.\u001b[39mformat(\u001b[38;5;18m__name__\u001b[39m, attr))\n",
            "\u001b[0;31mAttributeError\u001b[0m: module 'numpy' has no attribute 'zeroes'"
          ]
        }
      ],
      "source": [
        "np.zeroes(arr8)"
      ]
    },
    {
      "cell_type": "code",
      "execution_count": 55,
      "metadata": {},
      "outputs": [
        {
          "data": {
            "text/plain": [
              "array([0., 0., 0.])"
            ]
          },
          "execution_count": 55,
          "metadata": {},
          "output_type": "execute_result"
        }
      ],
      "source": [
        "np.zeros(3)"
      ]
    },
    {
      "cell_type": "code",
      "execution_count": 50,
      "metadata": {
        "colab": {
          "base_uri": "https://localhost:8080/"
        },
        "id": "oY2IMrtXFWVn",
        "outputId": "b42ec817-52d2-44af-961e-0b5a00696f65"
      },
      "outputs": [
        {
          "data": {
            "text/plain": [
              "array([[0., 0., 0., 0.],\n",
              "       [0., 0., 0., 0.],\n",
              "       [0., 0., 0., 0.]])"
            ]
          },
          "execution_count": 50,
          "metadata": {},
          "output_type": "execute_result"
        }
      ],
      "source": [
        "np.zeros((3, 4))"
      ]
    },
    {
      "cell_type": "code",
      "execution_count": 54,
      "metadata": {
        "colab": {
          "base_uri": "https://localhost:8080/"
        },
        "id": "l-xyjHYIFdZ-",
        "outputId": "74227d29-de8e-465d-85a6-1c9e07a3d5ac"
      },
      "outputs": [
        {
          "data": {
            "text/plain": [
              "array([[1., 1., 1., 1.],\n",
              "       [1., 1., 1., 1.],\n",
              "       [1., 1., 1., 1.]])"
            ]
          },
          "execution_count": 54,
          "metadata": {},
          "output_type": "execute_result"
        }
      ],
      "source": [
        "np.ones([3, 4])"
      ]
    },
    {
      "cell_type": "code",
      "execution_count": 52,
      "metadata": {
        "colab": {
          "base_uri": "https://localhost:8080/"
        },
        "id": "Vqjdv9r-F9l8",
        "outputId": "5e24e3bf-27f4-44cb-a1e9-8b7f34def0ca"
      },
      "outputs": [
        {
          "data": {
            "text/plain": [
              "array([[[1, 1],\n",
              "        [1, 1],\n",
              "        [1, 1],\n",
              "        [1, 1]],\n",
              "\n",
              "       [[1, 1],\n",
              "        [1, 1],\n",
              "        [1, 1],\n",
              "        [1, 1]],\n",
              "\n",
              "       [[1, 1],\n",
              "        [1, 1],\n",
              "        [1, 1],\n",
              "        [1, 1]]], dtype=int16)"
            ]
          },
          "execution_count": 52,
          "metadata": {},
          "output_type": "execute_result"
        }
      ],
      "source": [
        "np.ones([3, 4, 2], dtype = np.int16)"
      ]
    },
    {
      "cell_type": "code",
      "execution_count": 10,
      "metadata": {
        "colab": {
          "base_uri": "https://localhost:8080/"
        },
        "id": "1sTcYn7VGKGo",
        "outputId": "592a3d5c-181a-40d9-f3d7-bb3136a53396"
      },
      "outputs": [
        {
          "data": {
            "text/plain": [
              "array([[[1., 1.],\n",
              "        [1., 1.],\n",
              "        [1., 1.],\n",
              "        [1., 1.]],\n",
              "\n",
              "       [[1., 1.],\n",
              "        [1., 1.],\n",
              "        [1., 1.],\n",
              "        [1., 1.]],\n",
              "\n",
              "       [[1., 1.],\n",
              "        [1., 1.],\n",
              "        [1., 1.],\n",
              "        [1., 1.]]], dtype=float128)"
            ]
          },
          "execution_count": 10,
          "metadata": {},
          "output_type": "execute_result"
        }
      ],
      "source": [
        "np.ones([3, 4, 2], dtype = np.float128)"
      ]
    },
    {
      "cell_type": "code",
      "execution_count": 11,
      "metadata": {
        "colab": {
          "base_uri": "https://localhost:8080/"
        },
        "id": "KAONKzLJGgxY",
        "outputId": "b6d8c639-8736-4fb8-8985-b90e87273268"
      },
      "outputs": [
        {
          "data": {
            "text/plain": [
              "array([[[356, 356],\n",
              "        [356, 356],\n",
              "        [356, 356],\n",
              "        [356, 356]],\n",
              "\n",
              "       [[356, 356],\n",
              "        [356, 356],\n",
              "        [356, 356],\n",
              "        [356, 356]],\n",
              "\n",
              "       [[356, 356],\n",
              "        [356, 356],\n",
              "        [356, 356],\n",
              "        [356, 356]]], dtype=int16)"
            ]
          },
          "execution_count": 11,
          "metadata": {},
          "output_type": "execute_result"
        }
      ],
      "source": [
        "np.ones([3, 4, 2], dtype = np.int16) * 356"
      ]
    },
    {
      "cell_type": "code",
      "execution_count": 65,
      "metadata": {},
      "outputs": [
        {
          "data": {
            "text/plain": [
              "array([[356, 356],\n",
              "       [356, 356],\n",
              "       [356, 356],\n",
              "       [356, 356]], dtype=int16)"
            ]
          },
          "execution_count": 65,
          "metadata": {},
          "output_type": "execute_result"
        }
      ],
      "source": [
        "np.ones([4, 2], dtype = np.int16) * 356"
      ]
    },
    {
      "cell_type": "code",
      "execution_count": 69,
      "metadata": {
        "colab": {
          "base_uri": "https://localhost:8080/"
        },
        "id": "NmnpjPiGGlhS",
        "outputId": "14a44395-b41a-4002-89dd-e14107ca5739"
      },
      "outputs": [
        {
          "name": "stdout",
          "output_type": "stream",
          "text": [
            "3\n",
            "[[[356 356]\n",
            "  [356 356]\n",
            "  [356 356]\n",
            "  [356 356]]\n",
            "\n",
            " [[356 356]\n",
            "  [356 356]\n",
            "  [356 356]\n",
            "  [356 356]]\n",
            "\n",
            " [[356 356]\n",
            "  [356 356]\n",
            "  [356 356]\n",
            "  [356 356]]]\n"
          ]
        }
      ],
      "source": [
        "arr = np.full([3, 4, 2], 356, dtype = np.int16)\n",
        "print(arr.ndim)\n",
        "print(arr)"
      ]
    },
    {
      "cell_type": "code",
      "execution_count": 62,
      "metadata": {},
      "outputs": [
        {
          "name": "stdout",
          "output_type": "stream",
          "text": [
            "1\n",
            "[356 356]\n"
          ]
        }
      ],
      "source": [
        "arr = np.full(2, 356, dtype = np.int16)\n",
        "print(arr.ndim)\n",
        "print(arr)"
      ]
    },
    {
      "cell_type": "code",
      "execution_count": 63,
      "metadata": {},
      "outputs": [
        {
          "name": "stdout",
          "output_type": "stream",
          "text": [
            "2\n",
            "[[356 356 356 356]\n",
            " [356 356 356 356]]\n"
          ]
        }
      ],
      "source": [
        "arr = np.full([2, 4], 356, dtype = np.int16)\n",
        "print(arr.ndim)\n",
        "print(arr)"
      ]
    },
    {
      "cell_type": "code",
      "execution_count": 64,
      "metadata": {},
      "outputs": [
        {
          "name": "stdout",
          "output_type": "stream",
          "text": [
            "3\n",
            "[[[356 356 356 356]\n",
            "  [356 356 356 356]]\n",
            "\n",
            " [[356 356 356 356]\n",
            "  [356 356 356 356]]]\n"
          ]
        }
      ],
      "source": [
        "arr = np.full([2, 2, 4], 356, dtype = np.int16)\n",
        "print(arr.ndim)\n",
        "print(arr)"
      ]
    },
    {
      "cell_type": "code",
      "execution_count": 70,
      "metadata": {
        "colab": {
          "base_uri": "https://localhost:8080/"
        },
        "id": "OQurjbNfGvtr",
        "outputId": "cff45947-6cad-489e-a94a-58d5e948ab44"
      },
      "outputs": [
        {
          "data": {
            "text/plain": [
              "array([[0.5, 0.5, 0.5],\n",
              "       [0.5, 0.5, 0.5],\n",
              "       [0.5, 0.5, 0.5]])"
            ]
          },
          "execution_count": 70,
          "metadata": {},
          "output_type": "execute_result"
        }
      ],
      "source": [
        "np.full([3, 3], 0.5)"
      ]
    },
    {
      "cell_type": "markdown",
      "metadata": {
        "id": "GMz0kUq4Ismt"
      },
      "source": [
        "The eye function returns matrices with ones along the kth diagonal:"
      ]
    },
    {
      "cell_type": "code",
      "execution_count": 71,
      "metadata": {
        "colab": {
          "base_uri": "https://localhost:8080/"
        },
        "id": "cpEoAJ9THASr",
        "outputId": "a227f9b5-76ab-43c7-c584-fe4030220310"
      },
      "outputs": [
        {
          "data": {
            "text/plain": [
              "array([[1., 0., 0.],\n",
              "       [0., 1., 0.],\n",
              "       [0., 0., 1.]])"
            ]
          },
          "execution_count": 71,
          "metadata": {},
          "output_type": "execute_result"
        }
      ],
      "source": [
        "np.eye(3)"
      ]
    },
    {
      "cell_type": "code",
      "execution_count": 72,
      "metadata": {
        "colab": {
          "base_uri": "https://localhost:8080/"
        },
        "id": "p75g50XvHMc0",
        "outputId": "7fe3bc3b-bf1a-4964-db93-159b3475894c"
      },
      "outputs": [
        {
          "data": {
            "text/plain": [
              "array([[1., 0., 0., 0., 0.],\n",
              "       [0., 1., 0., 0., 0.],\n",
              "       [0., 0., 1., 0., 0.],\n",
              "       [0., 0., 0., 1., 0.],\n",
              "       [0., 0., 0., 0., 1.]])"
            ]
          },
          "execution_count": 72,
          "metadata": {},
          "output_type": "execute_result"
        }
      ],
      "source": [
        "np.eye(5)"
      ]
    },
    {
      "cell_type": "code",
      "execution_count": 23,
      "metadata": {
        "colab": {
          "base_uri": "https://localhost:8080/"
        },
        "id": "tp-DdekFHYAl",
        "outputId": "26926d42-890c-4f12-d884-dc96cf6060aa"
      },
      "outputs": [
        {
          "data": {
            "text/plain": [
              "array([[1., 0., 0., 0., 0.],\n",
              "       [0., 1., 0., 0., 0.],\n",
              "       [0., 0., 1., 0., 0.],\n",
              "       [0., 0., 0., 1., 0.],\n",
              "       [0., 0., 0., 0., 1.]])"
            ]
          },
          "execution_count": 23,
          "metadata": {},
          "output_type": "execute_result"
        }
      ],
      "source": [
        "np.eye(5, k = 0) # default for identity matrix"
      ]
    },
    {
      "cell_type": "code",
      "execution_count": 24,
      "metadata": {
        "colab": {
          "base_uri": "https://localhost:8080/"
        },
        "id": "RRBjh-lEHhRz",
        "outputId": "f258f70e-469d-44fb-8ef1-922fa028a9fd"
      },
      "outputs": [
        {
          "data": {
            "text/plain": [
              "array([[0., 1., 0., 0., 0.],\n",
              "       [0., 0., 1., 0., 0.],\n",
              "       [0., 0., 0., 1., 0.],\n",
              "       [0., 0., 0., 0., 1.],\n",
              "       [0., 0., 0., 0., 0.]])"
            ]
          },
          "execution_count": 24,
          "metadata": {},
          "output_type": "execute_result"
        }
      ],
      "source": [
        "np.eye(5, k = 1)"
      ]
    },
    {
      "cell_type": "code",
      "execution_count": 25,
      "metadata": {
        "colab": {
          "base_uri": "https://localhost:8080/"
        },
        "id": "S3bDhh5OHp2W",
        "outputId": "fa9c665e-f350-4535-d0de-e3b9bbe0b95a"
      },
      "outputs": [
        {
          "data": {
            "text/plain": [
              "array([[0., 0., 0., 0., 0.],\n",
              "       [1., 0., 0., 0., 0.],\n",
              "       [0., 1., 0., 0., 0.],\n",
              "       [0., 0., 1., 0., 0.],\n",
              "       [0., 0., 0., 1., 0.]])"
            ]
          },
          "execution_count": 25,
          "metadata": {},
          "output_type": "execute_result"
        }
      ],
      "source": [
        "np.eye(5, k = -1)"
      ]
    },
    {
      "cell_type": "code",
      "execution_count": 26,
      "metadata": {
        "colab": {
          "base_uri": "https://localhost:8080/"
        },
        "id": "oyZIaBuCLOJN",
        "outputId": "ae498f65-90ad-4074-948c-1f2c94ddc381"
      },
      "outputs": [
        {
          "data": {
            "text/plain": [
              "array([[0., 0., 0., 0., 0.],\n",
              "       [0., 0., 0., 0., 0.],\n",
              "       [0., 0., 0., 0., 0.],\n",
              "       [0., 0., 0., 0., 0.],\n",
              "       [0., 0., 0., 0., 0.]])"
            ]
          },
          "execution_count": 26,
          "metadata": {},
          "output_type": "execute_result"
        }
      ],
      "source": [
        "np.eye(5, k = -56)"
      ]
    },
    {
      "cell_type": "code",
      "execution_count": 73,
      "metadata": {
        "colab": {
          "base_uri": "https://localhost:8080/"
        },
        "id": "m4hr7JPmLW9H",
        "outputId": "8f011934-fdd5-4993-add6-2e76e330fc23"
      },
      "outputs": [
        {
          "data": {
            "text/plain": [
              "array([[1., 0., 0., 0.],\n",
              "       [0., 1., 0., 0.],\n",
              "       [0., 0., 1., 0.],\n",
              "       [0., 0., 0., 1.]])"
            ]
          },
          "execution_count": 73,
          "metadata": {},
          "output_type": "execute_result"
        }
      ],
      "source": [
        "np.identity(4, dtype = float)"
      ]
    },
    {
      "cell_type": "code",
      "execution_count": 74,
      "metadata": {
        "id": "DbWefaIPLesB"
      },
      "outputs": [
        {
          "name": "stdout",
          "output_type": "stream",
          "text": [
            "\u001b[0;31mSignature:\u001b[0m \u001b[0mnp\u001b[0m\u001b[0;34m.\u001b[0m\u001b[0midentity\u001b[0m\u001b[0;34m(\u001b[0m\u001b[0mn\u001b[0m\u001b[0;34m,\u001b[0m \u001b[0mdtype\u001b[0m\u001b[0;34m=\u001b[0m\u001b[0;32mNone\u001b[0m\u001b[0;34m,\u001b[0m \u001b[0;34m*\u001b[0m\u001b[0;34m,\u001b[0m \u001b[0mlike\u001b[0m\u001b[0;34m=\u001b[0m\u001b[0;32mNone\u001b[0m\u001b[0;34m)\u001b[0m\u001b[0;34m\u001b[0m\u001b[0;34m\u001b[0m\u001b[0m\n",
            "\u001b[0;31mDocstring:\u001b[0m\n",
            "Return the identity array.\n",
            "\n",
            "The identity array is a square array with ones on\n",
            "the main diagonal.\n",
            "\n",
            "Parameters\n",
            "----------\n",
            "n : int\n",
            "    Number of rows (and columns) in `n` x `n` output.\n",
            "dtype : data-type, optional\n",
            "    Data-type of the output.  Defaults to ``float``.\n",
            "like : array_like, optional\n",
            "    Reference object to allow the creation of arrays which are not\n",
            "    NumPy arrays. If an array-like passed in as ``like`` supports\n",
            "    the ``__array_function__`` protocol, the result will be defined\n",
            "    by it. In this case, it ensures the creation of an array object\n",
            "    compatible with that passed in via this argument.\n",
            "\n",
            "    .. versionadded:: 1.20.0\n",
            "\n",
            "Returns\n",
            "-------\n",
            "out : ndarray\n",
            "    `n` x `n` array with its main diagonal set to one,\n",
            "    and all other elements 0.\n",
            "\n",
            "Examples\n",
            "--------\n",
            ">>> import numpy as np\n",
            ">>> np.identity(3)\n",
            "array([[1.,  0.,  0.],\n",
            "       [0.,  1.,  0.],\n",
            "       [0.,  0.,  1.]])\n",
            "\u001b[0;31mFile:\u001b[0m      ~/.local/lib/python3.12/site-packages/numpy/_core/numeric.py\n",
            "\u001b[0;31mType:\u001b[0m      function"
          ]
        }
      ],
      "source": [
        "np.identity?"
      ]
    },
    {
      "cell_type": "code",
      "execution_count": 29,
      "metadata": {
        "colab": {
          "base_uri": "https://localhost:8080/"
        },
        "id": "u56lNacALh1C",
        "outputId": "24ba0eff-984e-427a-daf2-b550b4eb7902"
      },
      "outputs": [
        {
          "data": {
            "text/plain": [
              "array([[1., 0., 0., 0., 0., 0.],\n",
              "       [0., 1., 0., 0., 0., 0.],\n",
              "       [0., 0., 1., 0., 0., 0.],\n",
              "       [0., 0., 0., 1., 0., 0.],\n",
              "       [0., 0., 0., 0., 1., 0.],\n",
              "       [0., 0., 0., 0., 0., 1.]])"
            ]
          },
          "execution_count": 29,
          "metadata": {},
          "output_type": "execute_result"
        }
      ],
      "source": [
        "np.identity(6)"
      ]
    },
    {
      "cell_type": "code",
      "execution_count": null,
      "metadata": {
        "colab": {
          "base_uri": "https://localhost:8080/"
        },
        "id": "XQex7c7RLx7G",
        "outputId": "5a7ba65e-e8ca-428b-c483-4de91abea5db"
      },
      "outputs": [
        {
          "data": {
            "text/plain": [
              "array([[1, 0, 0, 0, 0, 0],\n",
              "       [0, 1, 0, 0, 0, 0],\n",
              "       [0, 0, 1, 0, 0, 0],\n",
              "       [0, 0, 0, 1, 0, 0],\n",
              "       [0, 0, 0, 0, 1, 0],\n",
              "       [0, 0, 0, 0, 0, 1]])"
            ]
          },
          "execution_count": 76,
          "metadata": {},
          "output_type": "execute_result"
        }
      ],
      "source": [
        "np.identity(6, dtype = int, like = arr8)"
      ]
    },
    {
      "cell_type": "code",
      "execution_count": 36,
      "metadata": {
        "colab": {
          "base_uri": "https://localhost:8080/"
        },
        "id": "OOGctf9_MSxy",
        "outputId": "a605696c-44a7-4802-a4ae-f97987af8c6a"
      },
      "outputs": [
        {
          "data": {
            "text/plain": [
              "array([ 3,  5,  7,  9, 11, 13])"
            ]
          },
          "execution_count": 36,
          "metadata": {},
          "output_type": "execute_result"
        }
      ],
      "source": [
        "arr8"
      ]
    },
    {
      "cell_type": "code",
      "execution_count": 38,
      "metadata": {
        "colab": {
          "base_uri": "https://localhost:8080/"
        },
        "id": "1XKysPw_Mjlz",
        "outputId": "86865e91-415e-41c6-c19c-d75c129bd03a"
      },
      "outputs": [
        {
          "name": "stdout",
          "output_type": "stream",
          "text": [
            "\n",
            "    Return the identity array.\n",
            "\n",
            "    The identity array is a square array with ones on\n",
            "    the main diagonal.\n",
            "\n",
            "    Parameters\n",
            "    ----------\n",
            "    n : int\n",
            "        Number of rows (and columns) in `n` x `n` output.\n",
            "    dtype : data-type, optional\n",
            "        Data-type of the output.  Defaults to ``float``.\n",
            "    like : array_like, optional\n",
            "        Reference object to allow the creation of arrays which are not\n",
            "        NumPy arrays. If an array-like passed in as ``like`` supports\n",
            "        the ``__array_function__`` protocol, the result will be defined\n",
            "        by it. In this case, it ensures the creation of an array object\n",
            "        compatible with that passed in via this argument.\n",
            "\n",
            "        .. versionadded:: 1.20.0\n",
            "\n",
            "    Returns\n",
            "    -------\n",
            "    out : ndarray\n",
            "        `n` x `n` array with its main diagonal set to one,\n",
            "        and all other elements 0.\n",
            "\n",
            "    Examples\n",
            "    --------\n",
            "    >>> np.identity(3)\n",
            "    array([[1.,  0.,  0.],\n",
            "           [0.,  1.,  0.],\n",
            "           [0.,  0.,  1.]])\n",
            "\n",
            "    \n"
          ]
        }
      ],
      "source": [
        "print(np.identity.__doc__)"
      ]
    },
    {
      "cell_type": "code",
      "execution_count": 41,
      "metadata": {
        "colab": {
          "base_uri": "https://localhost:8080/"
        },
        "id": "bY3RIHJvMy2U",
        "outputId": "6faa93d9-9c94-4f19-9c57-a43a6b6b3469"
      },
      "outputs": [
        {
          "name": "stdout",
          "output_type": "stream",
          "text": [
            "Collecting numpy==2.2\n",
            "  Downloading numpy-2.2.0-cp311-cp311-manylinux_2_17_x86_64.manylinux2014_x86_64.whl.metadata (62 kB)\n",
            "\u001b[?25l     \u001b[90m━━━━━━━━━━━━━━━━━━━━━━━━━━━━━━━━━━━━━━━━\u001b[0m \u001b[32m0.0/62.0 kB\u001b[0m \u001b[31m?\u001b[0m eta \u001b[36m-:--:--\u001b[0m\r\u001b[2K     \u001b[90m━━━━━━━━━━━━━━━━━━━━━━━━━━━━━━━━━━━━━━━━\u001b[0m \u001b[32m62.0/62.0 kB\u001b[0m \u001b[31m1.7 MB/s\u001b[0m eta \u001b[36m0:00:00\u001b[0m\n",
            "\u001b[?25hDownloading numpy-2.2.0-cp311-cp311-manylinux_2_17_x86_64.manylinux2014_x86_64.whl (16.4 MB)\n",
            "\u001b[2K   \u001b[90m━━━━━━━━━━━━━━━━━━━━━━━━━━━━━━━━━━━━━━━━\u001b[0m \u001b[32m16.4/16.4 MB\u001b[0m \u001b[31m63.7 MB/s\u001b[0m eta \u001b[36m0:00:00\u001b[0m\n",
            "\u001b[?25hInstalling collected packages: numpy\n",
            "  Attempting uninstall: numpy\n",
            "    Found existing installation: numpy 1.26.4\n",
            "    Uninstalling numpy-1.26.4:\n",
            "      Successfully uninstalled numpy-1.26.4\n",
            "\u001b[31mERROR: pip's dependency resolver does not currently take into account all the packages that are installed. This behaviour is the source of the following dependency conflicts.\n",
            "numba 0.61.0 requires numpy<2.2,>=1.24, but you have numpy 2.2.0 which is incompatible.\n",
            "gensim 4.3.3 requires numpy<2.0,>=1.18.5, but you have numpy 2.2.0 which is incompatible.\n",
            "tensorflow 2.18.0 requires numpy<2.1.0,>=1.26.0, but you have numpy 2.2.0 which is incompatible.\n",
            "thinc 8.2.5 requires numpy<2.0.0,>=1.19.0; python_version >= \"3.9\", but you have numpy 2.2.0 which is incompatible.\n",
            "langchain 0.3.18 requires numpy<2,>=1.26.4; python_version < \"3.12\", but you have numpy 2.2.0 which is incompatible.\n",
            "pytensor 2.27.1 requires numpy<2,>=1.17.0, but you have numpy 2.2.0 which is incompatible.\u001b[0m\u001b[31m\n",
            "\u001b[0mSuccessfully installed numpy-2.2.0\n"
          ]
        }
      ],
      "source": [
        "! pip install numpy==2.2"
      ]
    },
    {
      "cell_type": "markdown",
      "metadata": {
        "id": "l-f_akmANyHY"
      },
      "source": [
        "### random arrays"
      ]
    },
    {
      "cell_type": "code",
      "execution_count": 79,
      "metadata": {
        "colab": {
          "base_uri": "https://localhost:8080/"
        },
        "id": "vcD7WPI_Nj04",
        "outputId": "840e7f42-a26e-4510-bb4f-2f4b2e1b2fc4"
      },
      "outputs": [
        {
          "data": {
            "text/plain": [
              "array([[0.3329176 , 0.32155331, 0.1805057 ],\n",
              "       [0.94268279, 0.01197452, 0.4342651 ]])"
            ]
          },
          "execution_count": 79,
          "metadata": {},
          "output_type": "execute_result"
        }
      ],
      "source": [
        "np.random.random([2, 3])"
      ]
    },
    {
      "cell_type": "code",
      "execution_count": 80,
      "metadata": {
        "colab": {
          "base_uri": "https://localhost:8080/"
        },
        "id": "jwAqfmQpN8ZY",
        "outputId": "8ef7d77b-13da-48bb-d4e2-df213ac65471"
      },
      "outputs": [
        {
          "data": {
            "text/plain": [
              "array([[0.3329176 , 0.32155331, 0.1805057 ],\n",
              "       [0.94268279, 0.01197452, 0.4342651 ]])"
            ]
          },
          "execution_count": 80,
          "metadata": {},
          "output_type": "execute_result"
        }
      ],
      "source": [
        "np.empty((2, 3))"
      ]
    },
    {
      "cell_type": "code",
      "execution_count": 81,
      "metadata": {
        "colab": {
          "base_uri": "https://localhost:8080/"
        },
        "id": "j2ZTX3t1ODBd",
        "outputId": "c7aa6cda-f84e-4f1b-aa99-720f0d0090a7"
      },
      "outputs": [
        {
          "data": {
            "text/plain": [
              "array([], dtype=float64)"
            ]
          },
          "execution_count": 81,
          "metadata": {},
          "output_type": "execute_result"
        }
      ],
      "source": [
        "np.array([])"
      ]
    },
    {
      "cell_type": "code",
      "execution_count": 82,
      "metadata": {
        "colab": {
          "base_uri": "https://localhost:8080/"
        },
        "id": "ll2ABMrsOJyY",
        "outputId": "15f38680-833b-4669-8bf0-7998f5ce9612"
      },
      "outputs": [
        {
          "data": {
            "text/plain": [
              "array([[0.47444087, 0.52974915, 0.02702615],\n",
              "       [0.83992984, 0.8897923 , 0.4241071 ]])"
            ]
          },
          "execution_count": 82,
          "metadata": {},
          "output_type": "execute_result"
        }
      ],
      "source": [
        "np.random.random((2, 3))"
      ]
    },
    {
      "cell_type": "code",
      "execution_count": 83,
      "metadata": {
        "colab": {
          "base_uri": "https://localhost:8080/"
        },
        "id": "-sLpxluOOO6A",
        "outputId": "856a666e-2ee7-49fa-cec0-8f22af34ca27"
      },
      "outputs": [
        {
          "data": {
            "text/plain": [
              "array([[0.47444087, 0.52974915, 0.02702615],\n",
              "       [0.83992984, 0.8897923 , 0.4241071 ]])"
            ]
          },
          "execution_count": 83,
          "metadata": {},
          "output_type": "execute_result"
        }
      ],
      "source": [
        "np.empty((2, 3))"
      ]
    },
    {
      "cell_type": "code",
      "execution_count": 84,
      "metadata": {
        "colab": {
          "base_uri": "https://localhost:8080/"
        },
        "id": "RClWzVk_OUZh",
        "outputId": "4a951777-81f8-42ab-f2f9-33eb5371dcb5"
      },
      "outputs": [
        {
          "data": {
            "text/plain": [
              "array([[5.38750492e-310, 0.00000000e+000, 0.00000000e+000,\n",
              "        0.00000000e+000],\n",
              "       [0.00000000e+000, 0.00000000e+000, 0.00000000e+000,\n",
              "        0.00000000e+000]])"
            ]
          },
          "execution_count": 84,
          "metadata": {},
          "output_type": "execute_result"
        }
      ],
      "source": [
        "np.empty((2, 4))# as this is not array of that dimension,"
      ]
    },
    {
      "cell_type": "code",
      "execution_count": 85,
      "metadata": {
        "colab": {
          "base_uri": "https://localhost:8080/"
        },
        "id": "7bhOT-UUOX0g",
        "outputId": "7551e5c3-8dc7-43b2-c31c-ea3c3fb85b46"
      },
      "outputs": [
        {
          "data": {
            "text/plain": [
              "array([[0.14069137, 0.23194543, 0.92447636, 0.5687819 ],\n",
              "       [0.07443566, 0.92715846, 0.66257068, 0.03222666]])"
            ]
          },
          "execution_count": 85,
          "metadata": {},
          "output_type": "execute_result"
        }
      ],
      "source": [
        "np.random.random((2, 4))"
      ]
    },
    {
      "cell_type": "code",
      "execution_count": 86,
      "metadata": {
        "colab": {
          "base_uri": "https://localhost:8080/"
        },
        "id": "pePfR_BkOdPG",
        "outputId": "e361c033-393c-42cb-ce63-de59be45f51b"
      },
      "outputs": [
        {
          "data": {
            "text/plain": [
              "array([[0.14069137, 0.23194543, 0.92447636, 0.5687819 ],\n",
              "       [0.07443566, 0.92715846, 0.66257068, 0.03222666]])"
            ]
          },
          "execution_count": 86,
          "metadata": {},
          "output_type": "execute_result"
        }
      ],
      "source": [
        "np.empty((2, 4)) # empty will reuse existing arrays, if created of that dimension"
      ]
    },
    {
      "cell_type": "markdown",
      "metadata": {
        "id": "eHSpcfe5QdAs"
      },
      "source": [
        "### Arithmetic Operations"
      ]
    },
    {
      "cell_type": "code",
      "execution_count": 87,
      "metadata": {
        "id": "RMr6c6kePs9i"
      },
      "outputs": [],
      "source": [
        "a = np.array([20, 30, 40])\n",
        "b = np.arange(4)"
      ]
    },
    {
      "cell_type": "code",
      "execution_count": 88,
      "metadata": {
        "colab": {
          "base_uri": "https://localhost:8080/"
        },
        "id": "ntcFV_i_Qmts",
        "outputId": "f6c070f8-0c8b-4932-c54e-0c12b6476ef1"
      },
      "outputs": [
        {
          "name": "stdout",
          "output_type": "stream",
          "text": [
            "[20 30 40] [0 1 2 3]\n"
          ]
        }
      ],
      "source": [
        "print(a, b)"
      ]
    },
    {
      "cell_type": "code",
      "execution_count": 89,
      "metadata": {
        "colab": {
          "base_uri": "https://localhost:8080/",
          "height": 146
        },
        "id": "TUPj4UKxQoYv",
        "outputId": "7db53315-61dd-4208-de24-a68d278c3ddc"
      },
      "outputs": [
        {
          "ename": "ValueError",
          "evalue": "operands could not be broadcast together with shapes (3,) (4,) ",
          "output_type": "error",
          "traceback": [
            "\u001b[0;31m---------------------------------------------------------------------------\u001b[0m",
            "\u001b[0;31mValueError\u001b[0m                                Traceback (most recent call last)",
            "Cell \u001b[0;32mIn[89], line 1\u001b[0m\n\u001b[0;32m----> 1\u001b[0m \u001b[43ma\u001b[49m\u001b[43m \u001b[49m\u001b[38;5;241;43m+\u001b[39;49m\u001b[43m \u001b[49m\u001b[43mb\u001b[49m\n",
            "\u001b[0;31mValueError\u001b[0m: operands could not be broadcast together with shapes (3,) (4,) "
          ]
        }
      ],
      "source": [
        "a + b"
      ]
    },
    {
      "cell_type": "code",
      "execution_count": 90,
      "metadata": {
        "colab": {
          "base_uri": "https://localhost:8080/"
        },
        "id": "5Z2B9h1tQph1",
        "outputId": "16ab48a4-227e-4d48-f4fe-6ad4792a138e"
      },
      "outputs": [
        {
          "name": "stdout",
          "output_type": "stream",
          "text": [
            "[20 30 40 50] [0 1 2 3]\n"
          ]
        }
      ],
      "source": [
        "a = np.array([20, 30, 40, 50])\n",
        "b = np.arange(4)\n",
        "print(a, b)"
      ]
    },
    {
      "cell_type": "code",
      "execution_count": 91,
      "metadata": {
        "colab": {
          "base_uri": "https://localhost:8080/"
        },
        "id": "gBW24Wj0Qx4j",
        "outputId": "67d084f9-766a-4ffb-e652-4677eb818049"
      },
      "outputs": [
        {
          "data": {
            "text/plain": [
              "array([20, 31, 42, 53])"
            ]
          },
          "execution_count": 91,
          "metadata": {},
          "output_type": "execute_result"
        }
      ],
      "source": [
        "a + b # np.sum(a, b)"
      ]
    },
    {
      "cell_type": "code",
      "execution_count": 92,
      "metadata": {
        "colab": {
          "base_uri": "https://localhost:8080/"
        },
        "id": "2CtUtqWxQy4F",
        "outputId": "6eaf6c3f-7239-42b3-c540-77f4647453c2"
      },
      "outputs": [
        {
          "data": {
            "text/plain": [
              "array([20, 29, 38, 47])"
            ]
          },
          "execution_count": 92,
          "metadata": {},
          "output_type": "execute_result"
        }
      ],
      "source": [
        "a - b"
      ]
    },
    {
      "cell_type": "code",
      "execution_count": 93,
      "metadata": {
        "colab": {
          "base_uri": "https://localhost:8080/"
        },
        "id": "cRyjCNrPQ2hY",
        "outputId": "9ee1a32e-a0a6-433c-c7cb-bac519f7027e"
      },
      "outputs": [
        {
          "data": {
            "text/plain": [
              "array([  0,  30,  80, 150])"
            ]
          },
          "execution_count": 93,
          "metadata": {},
          "output_type": "execute_result"
        }
      ],
      "source": [
        "a * b"
      ]
    },
    {
      "cell_type": "code",
      "execution_count": 94,
      "metadata": {
        "colab": {
          "base_uri": "https://localhost:8080/"
        },
        "id": "wbiyt8M7Q3m_",
        "outputId": "7d0f263b-0172-4ed2-d75b-752404b2ac2c"
      },
      "outputs": [
        {
          "name": "stderr",
          "output_type": "stream",
          "text": [
            "/tmp/ipykernel_6879/1286629031.py:1: RuntimeWarning: divide by zero encountered in divide\n",
            "  a / b\n"
          ]
        },
        {
          "data": {
            "text/plain": [
              "array([        inf, 30.        , 20.        , 16.66666667])"
            ]
          },
          "execution_count": 94,
          "metadata": {},
          "output_type": "execute_result"
        }
      ],
      "source": [
        "a / b"
      ]
    },
    {
      "cell_type": "code",
      "execution_count": 95,
      "metadata": {
        "colab": {
          "base_uri": "https://localhost:8080/"
        },
        "id": "-9D-Y_e9Q6HV",
        "outputId": "9e6fd1e3-d033-4c49-d78d-a6113550c45a"
      },
      "outputs": [
        {
          "data": {
            "text/plain": [
              "array([0.        , 0.03333333, 0.05      , 0.06      ])"
            ]
          },
          "execution_count": 95,
          "metadata": {},
          "output_type": "execute_result"
        }
      ],
      "source": [
        "b / a"
      ]
    },
    {
      "cell_type": "code",
      "execution_count": 96,
      "metadata": {
        "colab": {
          "base_uri": "https://localhost:8080/"
        },
        "id": "4dYNFx5LRCFS",
        "outputId": "46a017d2-7655-4b5b-b910-5d7c0b4d442b"
      },
      "outputs": [
        {
          "name": "stderr",
          "output_type": "stream",
          "text": [
            "/tmp/ipykernel_6879/3774276598.py:1: RuntimeWarning: divide by zero encountered in floor_divide\n",
            "  a // b\n"
          ]
        },
        {
          "data": {
            "text/plain": [
              "array([ 0, 30, 20, 16])"
            ]
          },
          "execution_count": 96,
          "metadata": {},
          "output_type": "execute_result"
        }
      ],
      "source": [
        "a // b"
      ]
    },
    {
      "cell_type": "code",
      "execution_count": 97,
      "metadata": {
        "colab": {
          "base_uri": "https://localhost:8080/"
        },
        "id": "mwC3CxDuRDt1",
        "outputId": "b3388737-3aaf-4680-f5ba-324f400dd8ad"
      },
      "outputs": [
        {
          "data": {
            "text/plain": [
              "array([0, 0, 0, 0])"
            ]
          },
          "execution_count": 97,
          "metadata": {},
          "output_type": "execute_result"
        }
      ],
      "source": [
        "b // a"
      ]
    },
    {
      "cell_type": "code",
      "execution_count": 98,
      "metadata": {
        "colab": {
          "base_uri": "https://localhost:8080/"
        },
        "id": "gXtXmIFjRGm-",
        "outputId": "1a2b5f0e-06cc-4e97-8a60-54b6461628c1"
      },
      "outputs": [
        {
          "data": {
            "text/plain": [
              "array([0, 1, 2, 3])"
            ]
          },
          "execution_count": 98,
          "metadata": {},
          "output_type": "execute_result"
        }
      ],
      "source": [
        "b % a"
      ]
    },
    {
      "cell_type": "code",
      "execution_count": 99,
      "metadata": {
        "colab": {
          "base_uri": "https://localhost:8080/"
        },
        "id": "Sh6F2HvlRMoJ",
        "outputId": "eebbce1c-1dc7-42f4-ac26-da7582ba7d8e"
      },
      "outputs": [
        {
          "data": {
            "text/plain": [
              "array([                  0,                   1,       1099511627776,\n",
              "       6048575297968530377])"
            ]
          },
          "execution_count": 99,
          "metadata": {},
          "output_type": "execute_result"
        }
      ],
      "source": [
        "b ** a"
      ]
    },
    {
      "cell_type": "code",
      "execution_count": 100,
      "metadata": {
        "id": "3na5HaPbRObB"
      },
      "outputs": [],
      "source": [
        "# check the case shapes are not equal"
      ]
    },
    {
      "cell_type": "code",
      "execution_count": 101,
      "metadata": {
        "colab": {
          "base_uri": "https://localhost:8080/"
        },
        "id": "1vZFNYK0RarS",
        "outputId": "2b1b6531-6c27-4218-9e58-f416f9ad8084"
      },
      "outputs": [
        {
          "name": "stdout",
          "output_type": "stream",
          "text": [
            "a.shape = (4,)\n",
            "b.shape = (4,)\n"
          ]
        }
      ],
      "source": [
        "print(f\"{a.shape = }\")\n",
        "print(f\"{b.shape = }\")"
      ]
    },
    {
      "cell_type": "code",
      "execution_count": 102,
      "metadata": {
        "id": "lPBFbkbnRh07"
      },
      "outputs": [],
      "source": [
        "c = np.arange(3)"
      ]
    },
    {
      "cell_type": "code",
      "execution_count": 103,
      "metadata": {
        "colab": {
          "base_uri": "https://localhost:8080/"
        },
        "id": "DDA7kiu7Rlr3",
        "outputId": "718ce4f8-99fe-4313-b0bf-de2614be588c"
      },
      "outputs": [
        {
          "data": {
            "text/plain": [
              "(3,)"
            ]
          },
          "execution_count": 103,
          "metadata": {},
          "output_type": "execute_result"
        }
      ],
      "source": [
        "c.shape"
      ]
    },
    {
      "cell_type": "code",
      "execution_count": 104,
      "metadata": {
        "colab": {
          "base_uri": "https://localhost:8080/",
          "height": 146
        },
        "id": "P45se1bYRnh5",
        "outputId": "00b46937-e75c-4354-a328-6f0837eadf82"
      },
      "outputs": [
        {
          "ename": "ValueError",
          "evalue": "operands could not be broadcast together with shapes (4,) (3,) ",
          "output_type": "error",
          "traceback": [
            "\u001b[0;31m---------------------------------------------------------------------------\u001b[0m",
            "\u001b[0;31mValueError\u001b[0m                                Traceback (most recent call last)",
            "Cell \u001b[0;32mIn[104], line 1\u001b[0m\n\u001b[0;32m----> 1\u001b[0m \u001b[43ma\u001b[49m\u001b[43m \u001b[49m\u001b[38;5;241;43m+\u001b[39;49m\u001b[43m \u001b[49m\u001b[43mc\u001b[49m\n",
            "\u001b[0;31mValueError\u001b[0m: operands could not be broadcast together with shapes (4,) (3,) "
          ]
        }
      ],
      "source": [
        "a + c"
      ]
    },
    {
      "cell_type": "code",
      "execution_count": 105,
      "metadata": {
        "colab": {
          "base_uri": "https://localhost:8080/"
        },
        "id": "c9nlhY6cRoqu",
        "outputId": "5c39a72b-58a5-47d7-a506-c5c6d50a23c1"
      },
      "outputs": [
        {
          "data": {
            "text/plain": [
              "array([ 9.12945251, -9.88031624,  7.4511316 , -2.62374854])"
            ]
          },
          "execution_count": 105,
          "metadata": {},
          "output_type": "execute_result"
        }
      ],
      "source": [
        "10 * np.sin(a)"
      ]
    },
    {
      "cell_type": "code",
      "execution_count": 82,
      "metadata": {
        "colab": {
          "base_uri": "https://localhost:8080/"
        },
        "id": "_IgJ8U6wRtIP",
        "outputId": "a4c46c0b-d840-4f18-a8ed-621706716f0f"
      },
      "outputs": [
        {
          "data": {
            "text/plain": [
              "array([20, 30, 40, 50])"
            ]
          },
          "execution_count": 82,
          "metadata": {},
          "output_type": "execute_result"
        }
      ],
      "source": [
        "a"
      ]
    },
    {
      "cell_type": "code",
      "execution_count": 106,
      "metadata": {
        "colab": {
          "base_uri": "https://localhost:8080/"
        },
        "id": "UHMt5MngRvf-",
        "outputId": "8e9cc905-85ed-481f-c0b8-de11bbb68c5f"
      },
      "outputs": [
        {
          "data": {
            "text/plain": [
              "array([ True,  True, False, False])"
            ]
          },
          "execution_count": 106,
          "metadata": {},
          "output_type": "execute_result"
        }
      ],
      "source": [
        "a < 35"
      ]
    },
    {
      "cell_type": "code",
      "execution_count": 107,
      "metadata": {},
      "outputs": [
        {
          "data": {
            "text/plain": [
              "array([20, 30])"
            ]
          },
          "execution_count": 107,
          "metadata": {},
          "output_type": "execute_result"
        }
      ],
      "source": [
        "a[a < 35]"
      ]
    },
    {
      "cell_type": "code",
      "execution_count": 86,
      "metadata": {
        "id": "_tKbjsYYR4LR"
      },
      "outputs": [],
      "source": [
        "# assignment :compound operations,, +=, -=, *=, /=, **="
      ]
    },
    {
      "cell_type": "code",
      "execution_count": 108,
      "metadata": {
        "colab": {
          "base_uri": "https://localhost:8080/"
        },
        "id": "ZCxNLflESKOn",
        "outputId": "dacda3c6-2baa-40e5-f98b-3aa545dc6fed"
      },
      "outputs": [
        {
          "data": {
            "text/plain": [
              "array([20, 31, 42, 53])"
            ]
          },
          "execution_count": 108,
          "metadata": {},
          "output_type": "execute_result"
        }
      ],
      "source": [
        "a += b\n",
        "a"
      ]
    },
    {
      "cell_type": "code",
      "execution_count": 114,
      "metadata": {
        "id": "a3OzEBK4SOKL"
      },
      "outputs": [
        {
          "name": "stdout",
          "output_type": "stream",
          "text": [
            "[[1 1]\n",
            " [0 1]]\n",
            "[[2 0]\n",
            " [3 4]]\n"
          ]
        }
      ],
      "source": [
        "A = np.array([[1, 1], [0, 1]])\n",
        "B = np.array([[2, 0], [3, 4]])\n",
        "print(A)\n",
        "print(B)"
      ]
    },
    {
      "cell_type": "code",
      "execution_count": 110,
      "metadata": {
        "colab": {
          "base_uri": "https://localhost:8080/"
        },
        "id": "sq49MA-ITCpx",
        "outputId": "46d6b18e-bc3e-4d41-c4b9-406b1db8ded1"
      },
      "outputs": [
        {
          "data": {
            "text/plain": [
              "array([[2, 0],\n",
              "       [0, 4]])"
            ]
          },
          "execution_count": 110,
          "metadata": {},
          "output_type": "execute_result"
        }
      ],
      "source": [
        "A * B"
      ]
    },
    {
      "cell_type": "code",
      "execution_count": 111,
      "metadata": {
        "colab": {
          "base_uri": "https://localhost:8080/"
        },
        "id": "SIyXRPFvTFN0",
        "outputId": "8012bcc9-6bca-4aef-d069-7526cda08c38"
      },
      "outputs": [
        {
          "data": {
            "text/plain": [
              "array([[5, 4],\n",
              "       [3, 4]])"
            ]
          },
          "execution_count": 111,
          "metadata": {},
          "output_type": "execute_result"
        }
      ],
      "source": [
        "A @ B # matrix product - works only in python >= 3.5"
      ]
    },
    {
      "cell_type": "code",
      "execution_count": 112,
      "metadata": {
        "colab": {
          "base_uri": "https://localhost:8080/"
        },
        "id": "3o04KnxsTSG2",
        "outputId": "d2749a1c-03d4-4ac5-bec7-270a899ec351"
      },
      "outputs": [
        {
          "data": {
            "text/plain": [
              "array([[5, 4],\n",
              "       [3, 4]])"
            ]
          },
          "execution_count": 112,
          "metadata": {},
          "output_type": "execute_result"
        }
      ],
      "source": [
        "A.dot(B)"
      ]
    },
    {
      "cell_type": "code",
      "execution_count": 115,
      "metadata": {
        "colab": {
          "base_uri": "https://localhost:8080/"
        },
        "id": "h5yKa2HVThi1",
        "outputId": "9ac43fb9-6415-4917-eea6-695005993611"
      },
      "outputs": [
        {
          "data": {
            "text/plain": [
              "array([20, 31, 42, 53])"
            ]
          },
          "execution_count": 115,
          "metadata": {},
          "output_type": "execute_result"
        }
      ],
      "source": [
        "a"
      ]
    },
    {
      "cell_type": "code",
      "execution_count": 116,
      "metadata": {
        "colab": {
          "base_uri": "https://localhost:8080/"
        },
        "id": "Md3h-VdBYgfW",
        "outputId": "905cee6a-ca28-483b-f583-e6d2d156a340"
      },
      "outputs": [
        {
          "data": {
            "text/plain": [
              "dtype('int64')"
            ]
          },
          "execution_count": 116,
          "metadata": {},
          "output_type": "execute_result"
        }
      ],
      "source": [
        "a.dtype"
      ]
    },
    {
      "cell_type": "code",
      "execution_count": 117,
      "metadata": {
        "colab": {
          "base_uri": "https://localhost:8080/",
          "height": 36
        },
        "id": "fvmRNootYk6Y",
        "outputId": "4ffc0c71-9a74-4e03-d262-0db920cb98dd"
      },
      "outputs": [
        {
          "data": {
            "text/plain": [
              "'int64'"
            ]
          },
          "execution_count": 117,
          "metadata": {},
          "output_type": "execute_result"
        }
      ],
      "source": [
        "a.dtype.name"
      ]
    },
    {
      "cell_type": "code",
      "execution_count": 118,
      "metadata": {
        "colab": {
          "base_uri": "https://localhost:8080/"
        },
        "id": "zKl7yl49YnPy",
        "outputId": "72f90c1f-bbb4-4fb8-fdf7-268ab20b2249"
      },
      "outputs": [
        {
          "data": {
            "text/plain": [
              "array([0.+20.j, 0.+31.j, 0.+42.j, 0.+53.j])"
            ]
          },
          "execution_count": 118,
          "metadata": {},
          "output_type": "execute_result"
        }
      ],
      "source": [
        "a * 1j"
      ]
    },
    {
      "cell_type": "code",
      "execution_count": 119,
      "metadata": {
        "colab": {
          "base_uri": "https://localhost:8080/"
        },
        "id": "QhmCuD2TYqDk",
        "outputId": "b5978a61-efff-4ccd-87ec-5c989da74492"
      },
      "outputs": [
        {
          "data": {
            "text/plain": [
              "array([ 0.40808206+0.91294525j,  0.91474236-0.40403765j,\n",
              "       -0.39998531-0.91652155j, -0.91828279+0.39592515j])"
            ]
          },
          "execution_count": 119,
          "metadata": {},
          "output_type": "execute_result"
        }
      ],
      "source": [
        "d = np.exp(a * 1j)\n",
        "d"
      ]
    },
    {
      "cell_type": "code",
      "execution_count": 120,
      "metadata": {
        "colab": {
          "base_uri": "https://localhost:8080/"
        },
        "id": "y8meeEszYvYM",
        "outputId": "b9b7113b-145a-439d-fdd5-e956849abd90"
      },
      "outputs": [
        {
          "data": {
            "text/plain": [
              "dtype('complex128')"
            ]
          },
          "execution_count": 120,
          "metadata": {},
          "output_type": "execute_result"
        }
      ],
      "source": [
        "d.dtype"
      ]
    },
    {
      "cell_type": "code",
      "execution_count": 121,
      "metadata": {
        "id": "P460mcBCYw9q"
      },
      "outputs": [],
      "source": [
        "a = np.array([1, 2, 3, 32, 435, 56, 68, 90, 32], float)"
      ]
    },
    {
      "cell_type": "code",
      "execution_count": 122,
      "metadata": {
        "colab": {
          "base_uri": "https://localhost:8080/"
        },
        "id": "vOG1iVpNY5tt",
        "outputId": "56b02521-9bbf-4736-e508-adcfc99f339a"
      },
      "outputs": [
        {
          "name": "stdout",
          "output_type": "stream",
          "text": [
            "1.0\n",
            "a.min() = np.float64(1.0)\n",
            "435.0\n",
            "a.max() = np.float64(435.0)\n",
            "719.0\n",
            "a.sum() = np.float64(719.0)\n",
            "np.prod(a) = np.float64(915967180800.0)\n",
            "a.prod() = np.float64(915967180800.0)\n",
            "np.mean(a) = np.float64(79.88888888888889)\n",
            "a.mean() = np.float64(79.88888888888889)\n",
            "np.var(a) = np.float64(16634.098765432096)\n",
            "a.var() = np.float64(16634.098765432096)\n",
            "np.std(a) = np.float64(128.97324825494664)\n",
            "a.std() = np.float64(128.97324825494664)\n"
          ]
        }
      ],
      "source": [
        "print(f\"{min(a)}\")\n",
        "print(f\"{a.min() = }\")\n",
        "\n",
        "print(f\"{max(a)}\")\n",
        "print(f\"{a.max() = }\")\n",
        "\n",
        "print(f\"{sum(a)}\")\n",
        "print(f\"{a.sum() = }\")\n",
        "\n",
        "print(f\"{np.prod(a) = }\")\n",
        "print(f\"{a.prod() = }\")\n",
        "\n",
        "print(f\"{np.mean(a) = }\")\n",
        "print(f\"{a.mean() = }\")\n",
        "\n",
        "print(f\"{np.var(a) = }\")\n",
        "print(f\"{a.var() = }\")\n",
        "\n",
        "print(f\"{np.std(a) = }\")\n",
        "print(f\"{a.std() = }\")"
      ]
    },
    {
      "cell_type": "code",
      "execution_count": 123,
      "metadata": {
        "colab": {
          "base_uri": "https://localhost:8080/"
        },
        "id": "lSXuKsa9Zxuq",
        "outputId": "318af630-8df0-4467-c3ae-6c462f14f481"
      },
      "outputs": [
        {
          "data": {
            "text/plain": [
              "array([  1.,   2.,   3.,  32., 435.,  56.,  68.,  90.,  32.])"
            ]
          },
          "execution_count": 123,
          "metadata": {},
          "output_type": "execute_result"
        }
      ],
      "source": [
        "a"
      ]
    },
    {
      "cell_type": "code",
      "execution_count": 124,
      "metadata": {
        "colab": {
          "base_uri": "https://localhost:8080/"
        },
        "id": "zQzcvOhDZzyY",
        "outputId": "0b6ab386-e771-421d-d1d5-88ad392c66e7"
      },
      "outputs": [
        {
          "data": {
            "text/plain": [
              "(9,)"
            ]
          },
          "execution_count": 124,
          "metadata": {},
          "output_type": "execute_result"
        }
      ],
      "source": [
        "a.shape"
      ]
    },
    {
      "cell_type": "code",
      "execution_count": 125,
      "metadata": {
        "colab": {
          "base_uri": "https://localhost:8080/"
        },
        "id": "tQdHOoiVaZME",
        "outputId": "d0f0f3d1-5e3a-4ccf-b0a6-eb0720c4fd3e"
      },
      "outputs": [
        {
          "data": {
            "text/plain": [
              "array([  1.,   2.,   3.,  32., 435.,  56.,  68.,  90.,  32.])"
            ]
          },
          "execution_count": 125,
          "metadata": {},
          "output_type": "execute_result"
        }
      ],
      "source": [
        "a"
      ]
    },
    {
      "cell_type": "code",
      "execution_count": 126,
      "metadata": {
        "colab": {
          "base_uri": "https://localhost:8080/"
        },
        "id": "4pHHN8xoZ3Zh",
        "outputId": "35d74f90-179e-49f1-e727-69f3662e27b0"
      },
      "outputs": [
        {
          "data": {
            "text/plain": [
              "array([[  1.,   2.,   3.],\n",
              "       [ 32., 435.,  56.],\n",
              "       [ 68.,  90.,  32.]])"
            ]
          },
          "execution_count": 126,
          "metadata": {},
          "output_type": "execute_result"
        }
      ],
      "source": [
        "a.reshape(3, 3)"
      ]
    },
    {
      "cell_type": "code",
      "execution_count": 127,
      "metadata": {
        "colab": {
          "base_uri": "https://localhost:8080/"
        },
        "id": "VmPQDZieab6r",
        "outputId": "8527089d-acd6-42df-bef8-592502cc12aa"
      },
      "outputs": [
        {
          "data": {
            "text/plain": [
              "array([  1.,   2.,   3.,  32., 435.,  56.,  68.,  90.,  32.])"
            ]
          },
          "execution_count": 127,
          "metadata": {},
          "output_type": "execute_result"
        }
      ],
      "source": [
        "a"
      ]
    },
    {
      "cell_type": "code",
      "execution_count": 128,
      "metadata": {
        "colab": {
          "base_uri": "https://localhost:8080/"
        },
        "id": "WHjcg-3vZ9Mk",
        "outputId": "6cdc8d26-9d82-4001-f067-4150667edb5a"
      },
      "outputs": [
        {
          "data": {
            "text/plain": [
              "array([[  1.,   2.,   3.],\n",
              "       [ 32., 435.,  56.],\n",
              "       [ 68.,  90.,  32.]])"
            ]
          },
          "execution_count": 128,
          "metadata": {},
          "output_type": "execute_result"
        }
      ],
      "source": [
        "a = a.reshape(3, 3)\n",
        "a"
      ]
    },
    {
      "cell_type": "code",
      "execution_count": 129,
      "metadata": {
        "colab": {
          "base_uri": "https://localhost:8080/"
        },
        "id": "_W4mjUgxaEUV",
        "outputId": "fe04c5bf-0853-45c6-d329-11c139cb80c2"
      },
      "outputs": [
        {
          "name": "stdout",
          "output_type": "stream",
          "text": [
            "np.min(a) = np.float64(1.0)\n",
            "a.min() = np.float64(1.0)\n",
            "np.max(a) = np.float64(435.0)\n",
            "a.max() = np.float64(435.0)\n",
            "np.sum(a) = np.float64(719.0)\n",
            "a.sum() = np.float64(719.0)\n",
            "np.prod(a) = np.float64(915967180800.0)\n",
            "a.prod() = np.float64(915967180800.0)\n",
            "np.mean(a) = np.float64(79.88888888888889)\n",
            "a.mean() = np.float64(79.88888888888889)\n",
            "np.var(a) = np.float64(16634.098765432096)\n",
            "a.var() = np.float64(16634.098765432096)\n",
            "np.std(a) = np.float64(128.97324825494664)\n",
            "a.std() = np.float64(128.97324825494664)\n"
          ]
        }
      ],
      "source": [
        "print(f\"{np.min(a) = }\")\n",
        "print(f\"{a.min() = }\")\n",
        "\n",
        "print(f\"{np.max(a) = }\")\n",
        "print(f\"{a.max() = }\")\n",
        "\n",
        "print(f\"{np.sum(a) = }\")\n",
        "print(f\"{a.sum() = }\")\n",
        "\n",
        "print(f\"{np.prod(a) = }\")\n",
        "print(f\"{a.prod() = }\")\n",
        "\n",
        "print(f\"{np.mean(a) = }\")\n",
        "print(f\"{a.mean() = }\")\n",
        "\n",
        "print(f\"{np.var(a) = }\")\n",
        "print(f\"{a.var() = }\")\n",
        "\n",
        "print(f\"{np.std(a) = }\")\n",
        "print(f\"{a.std() = }\")"
      ]
    },
    {
      "cell_type": "code",
      "execution_count": 155,
      "metadata": {
        "colab": {
          "base_uri": "https://localhost:8080/"
        },
        "id": "EXUqDWM-a4dh",
        "outputId": "b9768bf7-7a48-4a85-cf3d-4ee479129750"
      },
      "outputs": [
        {
          "name": "stdout",
          "output_type": "stream",
          "text": [
            "a.argmin() = np.int64(0)\n",
            "a.argmax() = np.int64(8)\n"
          ]
        }
      ],
      "source": [
        "a = np.array([2, 4, 3, 324, 56, 78, 56, 3, 889], float)\n",
        "            # 0  1  2   3   4    5   6   7  8\n",
        "print(f\"{a.argmin() = }\")\n",
        "print(f\"{a.argmax() = }\")"
      ]
    },
    {
      "cell_type": "code",
      "execution_count": 156,
      "metadata": {
        "colab": {
          "base_uri": "https://localhost:8080/"
        },
        "id": "kPHvcbgwbcAN",
        "outputId": "25ae6ed7-5ad8-4559-e613-ac3b6b329951"
      },
      "outputs": [
        {
          "name": "stdout",
          "output_type": "stream",
          "text": [
            "[[ 0.  2.]\n",
            " [ 3. -1.]\n",
            " [ 3.  5.]]\n",
            "a.mean() = np.float64(2.0)\n",
            "[2. 2.]\n",
            "[1. 1. 4.]\n"
          ]
        },
        {
          "data": {
            "text/plain": [
              "(3, 2)"
            ]
          },
          "execution_count": 156,
          "metadata": {},
          "output_type": "execute_result"
        }
      ],
      "source": [
        "a = np.array([[0, 2], [3, -1], [3, 5]], float)\n",
        "\n",
        "print(a)\n",
        "print(f\"{a.mean() = }\")\n",
        "print(f\"{a.mean(axis = 0)}\")\n",
        "print(f\"{a.mean(axis = 1)}\")\n",
        "# print(f\"{a.mean(axis = 2)}\")\n",
        "a.shape # shape 2 values"
      ]
    },
    {
      "cell_type": "code",
      "execution_count": 157,
      "metadata": {
        "colab": {
          "base_uri": "https://localhost:8080/"
        },
        "id": "swg8xMcccPPY",
        "outputId": "5c555b96-91ef-4115-b206-55035c11fd12"
      },
      "outputs": [
        {
          "data": {
            "text/plain": [
              "array([[ 0.,  2.],\n",
              "       [-1.,  3.],\n",
              "       [ 3.,  5.]])"
            ]
          },
          "execution_count": 157,
          "metadata": {},
          "output_type": "execute_result"
        }
      ],
      "source": [
        "a.sort() # change original\n",
        "a"
      ]
    },
    {
      "cell_type": "code",
      "execution_count": 158,
      "metadata": {
        "colab": {
          "base_uri": "https://localhost:8080/"
        },
        "id": "xvHZvzISdUHC",
        "outputId": "2629d9b6-6172-49a9-c6e8-60dd76504bca"
      },
      "outputs": [
        {
          "data": {
            "text/plain": [
              "array([[ 0.,  2.],\n",
              "       [-1.,  3.],\n",
              "       [ 3.,  5.]])"
            ]
          },
          "execution_count": 158,
          "metadata": {},
          "output_type": "execute_result"
        }
      ],
      "source": [
        "a"
      ]
    },
    {
      "cell_type": "code",
      "execution_count": 3,
      "metadata": {},
      "outputs": [
        {
          "name": "stdout",
          "output_type": "stream",
          "text": [
            "sorted(a): [np.int64(-1), np.int64(0), np.int64(2), np.int64(5), np.int64(6)]\n"
          ]
        },
        {
          "data": {
            "text/plain": [
              "array([ 6,  2,  5, -1,  0])"
            ]
          },
          "execution_count": 3,
          "metadata": {},
          "output_type": "execute_result"
        }
      ],
      "source": [
        "import numpy as np\n",
        "b = np.array([6, 2, 5, -1, 0])\n",
        "print(f\"sorted(a): {sorted(b)}\")\n",
        "b # wont change original"
      ]
    },
    {
      "cell_type": "code",
      "execution_count": 3,
      "metadata": {
        "colab": {
          "base_uri": "https://localhost:8080/"
        },
        "id": "6Mi7oGB9dyzz",
        "outputId": "1c7e9663-1a3c-42b7-f39a-75eb85f710ef"
      },
      "outputs": [
        {
          "data": {
            "text/plain": [
              "array([5., 2., 5., 0., 0., 0., 0., 2.])"
            ]
          },
          "execution_count": 3,
          "metadata": {},
          "output_type": "execute_result"
        }
      ],
      "source": [
        "a = np.array([6, 2, 5, -1, 0, -1, 0, 2], float)\n",
        "a.clip(0, 5)\n",
        "# Values in an array can be \"clipped\" to be within a prespecified range.\n",
        "# This is the same as applying min(max(x, minval), maxval) to each element\n",
        "# x in an array."
      ]
    },
    {
      "cell_type": "code",
      "execution_count": 4,
      "metadata": {
        "colab": {
          "base_uri": "https://localhost:8080/"
        },
        "id": "RGIEEeaweDu9",
        "outputId": "daabf2bd-3409-4831-f594-9e86b4bc08fd"
      },
      "outputs": [
        {
          "data": {
            "text/plain": [
              "array([-1.,  0.,  2.,  5.,  6.])"
            ]
          },
          "execution_count": 4,
          "metadata": {},
          "output_type": "execute_result"
        }
      ],
      "source": [
        "np.unique(a) # uniques sorted ascending"
      ]
    },
    {
      "cell_type": "code",
      "execution_count": 5,
      "metadata": {
        "colab": {
          "base_uri": "https://localhost:8080/"
        },
        "id": "rhbHVPPFeUdS",
        "outputId": "eeca6c67-67ac-49a5-8ced-aac78b6a0925"
      },
      "outputs": [
        {
          "data": {
            "text/plain": [
              "array([1, 4])"
            ]
          },
          "execution_count": 5,
          "metadata": {},
          "output_type": "execute_result"
        }
      ],
      "source": [
        "# For two dimensional arrays, the diagonal can be extracted:\n",
        "\n",
        "a = np.array([[1, 2], [3, 4]])\n",
        "# [\n",
        "#     [1, 2],\n",
        "#     [3, 4]\n",
        "# ]\n",
        "\n",
        "a.diagonal()"
      ]
    },
    {
      "cell_type": "code",
      "execution_count": 6,
      "metadata": {
        "colab": {
          "base_uri": "https://localhost:8080/"
        },
        "id": "fMyVe59se2qD",
        "outputId": "4acea4ba-f06f-497a-a6eb-f55ef41c9fe9"
      },
      "outputs": [
        {
          "data": {
            "text/plain": [
              "np.int64(10)"
            ]
          },
          "execution_count": 6,
          "metadata": {},
          "output_type": "execute_result"
        }
      ],
      "source": [
        "np.sum(a)"
      ]
    },
    {
      "cell_type": "code",
      "execution_count": 8,
      "metadata": {
        "colab": {
          "base_uri": "https://localhost:8080/"
        },
        "id": "253FNkQLfMCb",
        "outputId": "88297d71-9917-4ea5-9ec8-f3db34e35bb2"
      },
      "outputs": [
        {
          "data": {
            "text/plain": [
              "array([4, 6])"
            ]
          },
          "execution_count": 8,
          "metadata": {},
          "output_type": "execute_result"
        }
      ],
      "source": [
        "np.sum(a, axis = 0) # column wise addition"
      ]
    },
    {
      "cell_type": "code",
      "execution_count": 9,
      "metadata": {
        "colab": {
          "base_uri": "https://localhost:8080/"
        },
        "id": "KVRpgnv2fVmd",
        "outputId": "0a66b132-b93d-42b1-d901-e6388b0bcf07"
      },
      "outputs": [
        {
          "data": {
            "text/plain": [
              "array([3, 7])"
            ]
          },
          "execution_count": 9,
          "metadata": {},
          "output_type": "execute_result"
        }
      ],
      "source": [
        "np.sum(a, axis = 1) # row wise addition"
      ]
    },
    {
      "cell_type": "code",
      "execution_count": 10,
      "metadata": {
        "colab": {
          "base_uri": "https://localhost:8080/"
        },
        "id": "8DWKkzEtfZoy",
        "outputId": "d6039814-aa87-4f6e-bfef-73bba135d019"
      },
      "outputs": [
        {
          "data": {
            "text/plain": [
              "array([[ 0,  1,  2,  3],\n",
              "       [ 4,  5,  6,  7],\n",
              "       [ 8,  9, 10, 11]])"
            ]
          },
          "execution_count": 10,
          "metadata": {},
          "output_type": "execute_result"
        }
      ],
      "source": [
        "b = np.arange(12).reshape(3, 4)\n",
        "b"
      ]
    },
    {
      "cell_type": "code",
      "execution_count": 11,
      "metadata": {
        "colab": {
          "base_uri": "https://localhost:8080/"
        },
        "id": "3Ovh_OMvfloe",
        "outputId": "f613c2a9-f864-4b04-e971-8a1950c10132"
      },
      "outputs": [
        {
          "data": {
            "text/plain": [
              "array([[ 0,  1,  3,  6],\n",
              "       [ 4,  9, 15, 22],\n",
              "       [ 8, 17, 27, 38]])"
            ]
          },
          "execution_count": 11,
          "metadata": {},
          "output_type": "execute_result"
        }
      ],
      "source": [
        "# cummulative sum\n",
        "b.cumsum(axis = 1)"
      ]
    },
    {
      "cell_type": "code",
      "execution_count": 12,
      "metadata": {
        "colab": {
          "base_uri": "https://localhost:8080/"
        },
        "id": "sGPtdXW3fuZe",
        "outputId": "52c23f8e-0159-4899-bd20-fdfd08c89153"
      },
      "outputs": [
        {
          "data": {
            "text/plain": [
              "array([[ 0,  1,  2,  3],\n",
              "       [ 4,  6,  8, 10],\n",
              "       [12, 15, 18, 21]])"
            ]
          },
          "execution_count": 12,
          "metadata": {},
          "output_type": "execute_result"
        }
      ],
      "source": [
        "b.cumsum(axis = 0)"
      ]
    },
    {
      "cell_type": "code",
      "execution_count": 13,
      "metadata": {
        "colab": {
          "base_uri": "https://localhost:8080/"
        },
        "id": "B2hdMnE9f2Ct",
        "outputId": "1e7d3c44-f5ee-409d-c97c-2a60c66d0f78"
      },
      "outputs": [
        {
          "data": {
            "text/plain": [
              "array([ 0,  1,  3,  6, 10, 15, 21, 28, 36, 45, 55, 66])"
            ]
          },
          "execution_count": 13,
          "metadata": {},
          "output_type": "execute_result"
        }
      ],
      "source": [
        "b.cumsum()"
      ]
    },
    {
      "cell_type": "code",
      "execution_count": 14,
      "metadata": {
        "colab": {
          "base_uri": "https://localhost:8080/"
        },
        "id": "gL7lVvpHf9TM",
        "outputId": "87615141-983e-4cda-f0c8-9ca9f66d24eb"
      },
      "outputs": [
        {
          "data": {
            "text/plain": [
              "np.int64(66)"
            ]
          },
          "execution_count": 14,
          "metadata": {},
          "output_type": "execute_result"
        }
      ],
      "source": [
        "b.sum()"
      ]
    },
    {
      "cell_type": "code",
      "execution_count": 15,
      "metadata": {
        "colab": {
          "base_uri": "https://localhost:8080/"
        },
        "id": "hU4s3BVXgDap",
        "outputId": "cef7a592-f7c5-47d5-aef8-7e0cd6d927df"
      },
      "outputs": [
        {
          "data": {
            "text/plain": [
              "array([0, 1, 2])"
            ]
          },
          "execution_count": 15,
          "metadata": {},
          "output_type": "execute_result"
        }
      ],
      "source": [
        "B = np.arange(3)\n",
        "B"
      ]
    },
    {
      "cell_type": "code",
      "execution_count": 16,
      "metadata": {
        "colab": {
          "base_uri": "https://localhost:8080/"
        },
        "id": "3lGkuFqygMPA",
        "outputId": "a967be58-ae3f-4942-c595-22fc436ab5cf"
      },
      "outputs": [
        {
          "data": {
            "text/plain": [
              "array([1.        , 2.71828183, 7.3890561 ])"
            ]
          },
          "execution_count": 16,
          "metadata": {},
          "output_type": "execute_result"
        }
      ],
      "source": [
        "np.exp(B)"
      ]
    },
    {
      "cell_type": "code",
      "execution_count": 17,
      "metadata": {
        "colab": {
          "base_uri": "https://localhost:8080/"
        },
        "id": "PmsgH_1NgVY3",
        "outputId": "e68080be-3e25-40da-ab47-d6ccdeeedfd0"
      },
      "outputs": [
        {
          "data": {
            "text/plain": [
              "array([0.        , 1.        , 1.41421356])"
            ]
          },
          "execution_count": 17,
          "metadata": {},
          "output_type": "execute_result"
        }
      ],
      "source": [
        "np.sqrt(B)"
      ]
    },
    {
      "cell_type": "code",
      "execution_count": 18,
      "metadata": {
        "colab": {
          "base_uri": "https://localhost:8080/"
        },
        "id": "HIyIIC2Mgd8f",
        "outputId": "f2ca624d-d506-4e6e-9514-694105717e8f"
      },
      "outputs": [
        {
          "data": {
            "text/plain": [
              "array([0.        , 1.        , 1.41421356])"
            ]
          },
          "execution_count": 18,
          "metadata": {},
          "output_type": "execute_result"
        }
      ],
      "source": [
        "B ** 0.5"
      ]
    },
    {
      "cell_type": "code",
      "execution_count": 19,
      "metadata": {
        "colab": {
          "base_uri": "https://localhost:8080/"
        },
        "id": "L5dTC-HYgiCq",
        "outputId": "0669b4b1-fbda-482d-dd6b-e169739f7bf9"
      },
      "outputs": [
        {
          "data": {
            "text/plain": [
              "array([0.        , 1.        , 1.41421356])"
            ]
          },
          "execution_count": 19,
          "metadata": {},
          "output_type": "execute_result"
        }
      ],
      "source": [
        "B ** (1/2)"
      ]
    },
    {
      "cell_type": "code",
      "execution_count": 20,
      "metadata": {
        "colab": {
          "base_uri": "https://localhost:8080/"
        },
        "id": "FrB3nXaVgnp8",
        "outputId": "16406ede-aa16-4cf2-9cea-04e3224b236e"
      },
      "outputs": [
        {
          "data": {
            "text/plain": [
              "array([0.        , 1.        , 1.25992105])"
            ]
          },
          "execution_count": 20,
          "metadata": {},
          "output_type": "execute_result"
        }
      ],
      "source": [
        "B ** (1/3)"
      ]
    },
    {
      "cell_type": "markdown",
      "metadata": {
        "id": "gixW2i30hHG8"
      },
      "source": [
        "### Array Concatenation"
      ]
    },
    {
      "cell_type": "code",
      "execution_count": 21,
      "metadata": {
        "colab": {
          "base_uri": "https://localhost:8080/"
        },
        "id": "drj6288Dgq6n",
        "outputId": "54ed4b0d-5a14-4a7f-e5fd-57eacca31b61"
      },
      "outputs": [
        {
          "data": {
            "text/plain": [
              "array([1., 2., 3., 4., 5., 6., 7., 8., 9.])"
            ]
          },
          "execution_count": 21,
          "metadata": {},
          "output_type": "execute_result"
        }
      ],
      "source": [
        "a = np.array([1, 2], float)\n",
        "b = np.array([3, 4, 5, 6], float)\n",
        "c = np.array([7, 8, 9], float)\n",
        "\n",
        "np.concatenate((a, b, c))"
      ]
    },
    {
      "cell_type": "code",
      "execution_count": 22,
      "metadata": {
        "colab": {
          "base_uri": "https://localhost:8080/"
        },
        "id": "RjEHD7XShOw-",
        "outputId": "b71e3139-c36e-44d9-a249-a6bfea3491f7"
      },
      "outputs": [
        {
          "name": "stdout",
          "output_type": "stream",
          "text": [
            "operands could not be broadcast together with shapes (2,) (4,) \n"
          ]
        }
      ],
      "source": [
        "try:\n",
        "    a + b + c\n",
        "except ValueError as ex:\n",
        "    print(ex)"
      ]
    },
    {
      "cell_type": "markdown",
      "metadata": {
        "id": "i9fYI8krhtTb"
      },
      "source": [
        "\n",
        "If an array has more than one dimension, it is possible to specify the axis along which multiple arrays are concatenated. By default (without specifying the axis), NumPy concatenates along the first dimension:"
      ]
    },
    {
      "cell_type": "code",
      "execution_count": 194,
      "metadata": {
        "id": "zP-KKW8ihi11"
      },
      "outputs": [],
      "source": [
        "a = np.array([[1, 2], [3, 4]], float)\n",
        "b = np.array([[5, 6], [7, 8]], float)"
      ]
    },
    {
      "cell_type": "code",
      "execution_count": 195,
      "metadata": {
        "colab": {
          "base_uri": "https://localhost:8080/"
        },
        "id": "ZXETUgcxh12n",
        "outputId": "57cdf917-29ff-41a3-9490-c401df682b6f"
      },
      "outputs": [
        {
          "name": "stdout",
          "output_type": "stream",
          "text": [
            "only integer scalar arrays can be converted to a scalar index\n"
          ]
        }
      ],
      "source": [
        "try:\n",
        "    np.concatenate(a, b)\n",
        "except TypeError as ex:\n",
        "    print(ex)"
      ]
    },
    {
      "cell_type": "code",
      "execution_count": 196,
      "metadata": {
        "colab": {
          "base_uri": "https://localhost:8080/"
        },
        "id": "6_LDhH5kiJZL",
        "outputId": "e4d9412b-ad21-4847-cc2b-fefaba6a4440"
      },
      "outputs": [
        {
          "data": {
            "text/plain": [
              "array([[1., 2.],\n",
              "       [3., 4.],\n",
              "       [5., 6.],\n",
              "       [7., 8.]])"
            ]
          },
          "execution_count": 196,
          "metadata": {},
          "output_type": "execute_result"
        }
      ],
      "source": [
        "np.concatenate((a, b))"
      ]
    },
    {
      "cell_type": "code",
      "execution_count": 197,
      "metadata": {
        "colab": {
          "base_uri": "https://localhost:8080/"
        },
        "id": "q2jEv2PEiPPu",
        "outputId": "9cef972c-d8b0-451f-d8f8-ace2c5d24e6f"
      },
      "outputs": [
        {
          "data": {
            "text/plain": [
              "array([[1., 2., 5., 6.],\n",
              "       [3., 4., 7., 8.]])"
            ]
          },
          "execution_count": 197,
          "metadata": {},
          "output_type": "execute_result"
        }
      ],
      "source": [
        "np.concatenate((a, b), axis = 1)"
      ]
    },
    {
      "cell_type": "markdown",
      "metadata": {
        "id": "nFjspJRsibfF"
      },
      "source": [
        "### Indexing, slicing, iterating"
      ]
    },
    {
      "cell_type": "markdown",
      "metadata": {
        "id": "191qjenjigS7"
      },
      "source": [
        "One-dimensional arrays can be indexed, sliced and iterated over, much like lists and other Python sequences."
      ]
    },
    {
      "cell_type": "code",
      "execution_count": 23,
      "metadata": {
        "colab": {
          "base_uri": "https://localhost:8080/"
        },
        "id": "EyxPvS4AiXoI",
        "outputId": "84d7b47b-950c-42b7-c433-3901ecb53476"
      },
      "outputs": [
        {
          "data": {
            "text/plain": [
              "array([  0,   1,   8,  27,  64, 125, 216, 343, 512, 729])"
            ]
          },
          "execution_count": 23,
          "metadata": {},
          "output_type": "execute_result"
        }
      ],
      "source": [
        "a = np.arange(10) ** 3\n",
        "a"
      ]
    },
    {
      "cell_type": "code",
      "execution_count": 24,
      "metadata": {
        "colab": {
          "base_uri": "https://localhost:8080/"
        },
        "id": "xlMU-0I8iqYS",
        "outputId": "481b461d-089a-4c49-9698-7e594ea1cc3b"
      },
      "outputs": [
        {
          "data": {
            "text/plain": [
              "np.int64(8)"
            ]
          },
          "execution_count": 24,
          "metadata": {},
          "output_type": "execute_result"
        }
      ],
      "source": [
        "a[2]"
      ]
    },
    {
      "cell_type": "code",
      "execution_count": 25,
      "metadata": {
        "colab": {
          "base_uri": "https://localhost:8080/"
        },
        "id": "LlApe3vrjIjm",
        "outputId": "b5d61a89-c652-4f9d-82a2-d9fc1761ab99"
      },
      "outputs": [
        {
          "data": {
            "text/plain": [
              "array([ 8, 27, 64])"
            ]
          },
          "execution_count": 25,
          "metadata": {},
          "output_type": "execute_result"
        }
      ],
      "source": [
        "a[2:5]"
      ]
    },
    {
      "cell_type": "code",
      "execution_count": 26,
      "metadata": {
        "colab": {
          "base_uri": "https://localhost:8080/"
        },
        "id": "N1FfcuOFjNrK",
        "outputId": "37cdbfc6-a1e9-4554-8dc3-8caab9206b41"
      },
      "outputs": [
        {
          "data": {
            "text/plain": [
              "array([ 0,  8, 64])"
            ]
          },
          "execution_count": 26,
          "metadata": {},
          "output_type": "execute_result"
        }
      ],
      "source": [
        "a[:6:2]"
      ]
    },
    {
      "cell_type": "code",
      "execution_count": 203,
      "metadata": {
        "id": "MdUeQ9tMjWst"
      },
      "outputs": [],
      "source": [
        "# array is mutable object"
      ]
    },
    {
      "cell_type": "code",
      "execution_count": 204,
      "metadata": {
        "id": "n6GtQgSUjbEP"
      },
      "outputs": [],
      "source": [
        "a[:6:2] = -1000"
      ]
    },
    {
      "cell_type": "code",
      "execution_count": 205,
      "metadata": {
        "colab": {
          "base_uri": "https://localhost:8080/"
        },
        "id": "mWLDsruQjeT0",
        "outputId": "5bf04b10-7977-4ad3-eb63-bfc327f2984c"
      },
      "outputs": [
        {
          "data": {
            "text/plain": [
              "array([-1000,     1, -1000,    27, -1000,   125,   216,   343,   512,\n",
              "         729])"
            ]
          },
          "execution_count": 205,
          "metadata": {},
          "output_type": "execute_result"
        }
      ],
      "source": [
        "a"
      ]
    },
    {
      "cell_type": "code",
      "execution_count": 206,
      "metadata": {
        "colab": {
          "base_uri": "https://localhost:8080/"
        },
        "id": "ZEhsH2e8jewJ",
        "outputId": "79552e82-64e1-4ef3-b16e-d5e43ae42da5"
      },
      "outputs": [
        {
          "data": {
            "text/plain": [
              "array([  729,   512,   343,   216,   125, -1000,    27, -1000,     1,\n",
              "       -1000])"
            ]
          },
          "execution_count": 206,
          "metadata": {},
          "output_type": "execute_result"
        }
      ],
      "source": [
        "a[::-1]"
      ]
    },
    {
      "cell_type": "code",
      "execution_count": 207,
      "metadata": {
        "colab": {
          "base_uri": "https://localhost:8080/"
        },
        "id": "rgX1Am7vjheM",
        "outputId": "076c5dc5-eaa1-4395-ce91-e31b73a18d84"
      },
      "outputs": [
        {
          "name": "stdout",
          "output_type": "stream",
          "text": [
            "-1000 nan\n",
            "1 1.0\n",
            "-1000 nan\n",
            "27 3.0\n",
            "-1000 nan\n",
            "125 4.999999999999999\n",
            "216 5.999999999999999\n",
            "343 6.999999999999999\n",
            "512 7.999999999999999\n",
            "729 8.999999999999998\n"
          ]
        },
        {
          "name": "stderr",
          "output_type": "stream",
          "text": [
            "<ipython-input-207-01be797e8c39>:2: RuntimeWarning: invalid value encountered in power\n",
            "  print(i, i ** (1/3.0))\n"
          ]
        }
      ],
      "source": [
        "for i in a:\n",
        "  print(i, i ** (1/3.0))"
      ]
    },
    {
      "cell_type": "code",
      "execution_count": 210,
      "metadata": {
        "colab": {
          "base_uri": "https://localhost:8080/"
        },
        "id": "VKnj0AmwjqVF",
        "outputId": "4379e9c2-297e-4914-c3da-acfe434cbba6"
      },
      "outputs": [
        {
          "data": {
            "text/plain": [
              "array([[ 1,  2,  3,  4],\n",
              "       [ 5,  6,  7,  8],\n",
              "       [ 9, 10, 11, 12]])"
            ]
          },
          "execution_count": 210,
          "metadata": {},
          "output_type": "execute_result"
        }
      ],
      "source": [
        "m = np.array([[1, 2, 3, 4], [5, 6, 7, 8], [9, 10, 11, 12]])\n",
        "m"
      ]
    },
    {
      "cell_type": "code",
      "execution_count": 211,
      "metadata": {
        "colab": {
          "base_uri": "https://localhost:8080/"
        },
        "id": "n8pNKHgcj3iO",
        "outputId": "297cc459-0858-451c-b156-6c3e7caea3fc"
      },
      "outputs": [
        {
          "data": {
            "text/plain": [
              "array([[2, 3],\n",
              "       [6, 7]])"
            ]
          },
          "execution_count": 211,
          "metadata": {},
          "output_type": "execute_result"
        }
      ],
      "source": [
        "n = m[:2, 1:3]\n",
        "n"
      ]
    },
    {
      "cell_type": "code",
      "execution_count": 212,
      "metadata": {
        "colab": {
          "base_uri": "https://localhost:8080/"
        },
        "id": "9_N7OfDzj_QN",
        "outputId": "71464b3c-335d-4c46-a72b-7f6355989c90"
      },
      "outputs": [
        {
          "data": {
            "text/plain": [
              "2"
            ]
          },
          "execution_count": 212,
          "metadata": {},
          "output_type": "execute_result"
        }
      ],
      "source": [
        "m[0, 1]"
      ]
    },
    {
      "cell_type": "code",
      "execution_count": 213,
      "metadata": {
        "colab": {
          "base_uri": "https://localhost:8080/"
        },
        "id": "GTsCxyjUkghq",
        "outputId": "697cd167-5fa8-4fea-dd6f-15f2b1ab3476"
      },
      "outputs": [
        {
          "data": {
            "text/plain": [
              "array([[77,  2,  3,  4],\n",
              "       [ 5,  6,  7,  8],\n",
              "       [ 9, 10, 11, 12]])"
            ]
          },
          "execution_count": 213,
          "metadata": {},
          "output_type": "execute_result"
        }
      ],
      "source": [
        "m[0, 0] = 77\n",
        "m"
      ]
    },
    {
      "cell_type": "code",
      "execution_count": 216,
      "metadata": {
        "id": "gvWN7R9LkmZt"
      },
      "outputs": [],
      "source": [
        "m[0, 1] = 77"
      ]
    },
    {
      "cell_type": "code",
      "execution_count": 217,
      "metadata": {
        "colab": {
          "base_uri": "https://localhost:8080/"
        },
        "id": "L15hPhggkp0Z",
        "outputId": "f1efd9b0-4953-40b9-d62e-a1f46abaae1f"
      },
      "outputs": [
        {
          "data": {
            "text/plain": [
              "array([[77, 77,  3,  4],\n",
              "       [ 5,  6,  7,  8],\n",
              "       [ 9, 10, 11, 12]])"
            ]
          },
          "execution_count": 217,
          "metadata": {},
          "output_type": "execute_result"
        }
      ],
      "source": [
        "m"
      ]
    },
    {
      "cell_type": "markdown",
      "metadata": {
        "id": "18bf0qgZkw6q"
      },
      "source": [
        "\n",
        "Multidimensional arrays can have one index per axis. These indices are given in a tuple separated by commas:"
      ]
    },
    {
      "cell_type": "code",
      "execution_count": 4,
      "metadata": {
        "colab": {
          "base_uri": "https://localhost:8080/"
        },
        "id": "8u1agnV8kqcb",
        "outputId": "c5106722-f7e9-43f7-ea94-c39d12982653"
      },
      "outputs": [
        {
          "data": {
            "text/plain": [
              "array([[ 0,  0,  0,  0],\n",
              "       [ 0,  1,  2,  3],\n",
              "       [ 0,  2,  4,  6],\n",
              "       [ 0,  3,  6,  9],\n",
              "       [ 0,  4,  8, 12]])"
            ]
          },
          "execution_count": 4,
          "metadata": {},
          "output_type": "execute_result"
        }
      ],
      "source": [
        "def f(x, y):\n",
        "    return x * y\n",
        "\n",
        "\n",
        "b = np.fromfunction(f, (5, 4), dtype=int)\n",
        "b"
      ]
    },
    {
      "cell_type": "code",
      "execution_count": 5,
      "metadata": {
        "colab": {
          "base_uri": "https://localhost:8080/"
        },
        "id": "NMjRwX0Yk5La",
        "outputId": "c2ec99d3-7a91-420a-e3e7-820e28781861"
      },
      "outputs": [
        {
          "data": {
            "text/plain": [
              "np.int64(6)"
            ]
          },
          "execution_count": 5,
          "metadata": {},
          "output_type": "execute_result"
        }
      ],
      "source": [
        "b[2, 3]"
      ]
    },
    {
      "cell_type": "code",
      "execution_count": 6,
      "metadata": {
        "colab": {
          "base_uri": "https://localhost:8080/"
        },
        "id": "tzOSoxpfmP1w",
        "outputId": "218d6ab4-2f65-4a02-d032-efa191792e25"
      },
      "outputs": [
        {
          "data": {
            "text/plain": [
              "array([0, 1, 2, 3, 4])"
            ]
          },
          "execution_count": 6,
          "metadata": {},
          "output_type": "execute_result"
        }
      ],
      "source": [
        "b[:5, 1]"
      ]
    },
    {
      "cell_type": "code",
      "execution_count": 8,
      "metadata": {},
      "outputs": [
        {
          "data": {
            "text/plain": [
              "array([[0],\n",
              "       [1],\n",
              "       [2]])"
            ]
          },
          "execution_count": 8,
          "metadata": {},
          "output_type": "execute_result"
        }
      ],
      "source": [
        "b[:3, [1]]"
      ]
    },
    {
      "cell_type": "code",
      "execution_count": 9,
      "metadata": {
        "colab": {
          "base_uri": "https://localhost:8080/"
        },
        "id": "q5iJNdb4mhDf",
        "outputId": "afc391e3-35dd-4bdc-d83e-74767790f1e3"
      },
      "outputs": [
        {
          "data": {
            "text/plain": [
              "array([ 0,  4,  8, 12])"
            ]
          },
          "execution_count": 9,
          "metadata": {},
          "output_type": "execute_result"
        }
      ],
      "source": [
        "b[-1]"
      ]
    },
    {
      "cell_type": "code",
      "execution_count": 10,
      "metadata": {
        "id": "v1LIMHQxmjxP"
      },
      "outputs": [],
      "source": [
        "c = np.array(\n",
        "    [\n",
        "        [[0, 1, 2], [10, 12, 13]],  # a 3D array (two stacked 2D arrays)\n",
        "        [[100, 101, 102], [110, 112, 113]],\n",
        "    ]\n",
        ")"
      ]
    },
    {
      "cell_type": "code",
      "execution_count": 11,
      "metadata": {
        "colab": {
          "base_uri": "https://localhost:8080/"
        },
        "id": "UwoDC_kAnA-j",
        "outputId": "fdffaf6c-d102-41fa-f716-dad471ba442c"
      },
      "outputs": [
        {
          "data": {
            "text/plain": [
              "array([[[  0,   1,   2],\n",
              "        [ 10,  12,  13]],\n",
              "\n",
              "       [[100, 101, 102],\n",
              "        [110, 112, 113]]])"
            ]
          },
          "execution_count": 11,
          "metadata": {},
          "output_type": "execute_result"
        }
      ],
      "source": [
        "c"
      ]
    },
    {
      "cell_type": "code",
      "execution_count": 12,
      "metadata": {
        "colab": {
          "base_uri": "https://localhost:8080/"
        },
        "id": "dmcBQliHnBaN",
        "outputId": "b3fbd182-5a6d-4e44-9f8f-6570b28f19c7"
      },
      "outputs": [
        {
          "data": {
            "text/plain": [
              "(2, 2, 3)"
            ]
          },
          "execution_count": 12,
          "metadata": {},
          "output_type": "execute_result"
        }
      ],
      "source": [
        "c.shape"
      ]
    },
    {
      "cell_type": "code",
      "execution_count": 13,
      "metadata": {
        "colab": {
          "base_uri": "https://localhost:8080/"
        },
        "id": "wnENMXEhnGRi",
        "outputId": "f170c2ed-a1b6-490b-b438-bc4bce1aba27"
      },
      "outputs": [
        {
          "data": {
            "text/plain": [
              "array([[100, 101, 102],\n",
              "       [110, 112, 113]])"
            ]
          },
          "execution_count": 13,
          "metadata": {},
          "output_type": "execute_result"
        }
      ],
      "source": [
        "c[1, ...] # same as c[1,:,:] or c[1]"
      ]
    },
    {
      "cell_type": "code",
      "execution_count": 239,
      "metadata": {
        "colab": {
          "base_uri": "https://localhost:8080/"
        },
        "id": "oC3ihlZfnPU4",
        "outputId": "ea0a1e70-8575-4c16-cf52-5f89c0005362"
      },
      "outputs": [
        {
          "data": {
            "text/plain": [
              "array([[  2,  13],\n",
              "       [102, 113]])"
            ]
          },
          "execution_count": 239,
          "metadata": {},
          "output_type": "execute_result"
        }
      ],
      "source": [
        "c[..., 2]"
      ]
    },
    {
      "cell_type": "code",
      "execution_count": 241,
      "metadata": {
        "colab": {
          "base_uri": "https://localhost:8080/"
        },
        "id": "Sr9wyZ6cnaaC",
        "outputId": "d6304bc5-e8ed-4288-9b83-c8c4ce34d0cd"
      },
      "outputs": [
        {
          "name": "stdout",
          "output_type": "stream",
          "text": [
            "[[ 0  1  2]\n",
            " [10 12 13]]\n",
            "[[100 101 102]\n",
            " [110 112 113]]\n"
          ]
        }
      ],
      "source": [
        "for row in c:\n",
        "  print(row)"
      ]
    },
    {
      "cell_type": "code",
      "execution_count": 14,
      "metadata": {
        "colab": {
          "base_uri": "https://localhost:8080/"
        },
        "id": "EudvVS4poItr",
        "outputId": "06252d06-f65b-4f3c-993e-ed98b6cf6b29"
      },
      "outputs": [
        {
          "data": {
            "text/plain": [
              "array([  0,   1,   2,  10,  12,  13, 100, 101, 102, 110, 112, 113])"
            ]
          },
          "execution_count": 14,
          "metadata": {},
          "output_type": "execute_result"
        }
      ],
      "source": [
        "d = c.flatten()\n",
        "d"
      ]
    },
    {
      "cell_type": "code",
      "execution_count": 15,
      "metadata": {
        "colab": {
          "base_uri": "https://localhost:8080/"
        },
        "id": "JKft91KYnohF",
        "outputId": "6da5f216-75db-4b78-c0c1-c17e709ee5f1"
      },
      "outputs": [
        {
          "data": {
            "text/plain": [
              "np.int64(112)"
            ]
          },
          "execution_count": 15,
          "metadata": {},
          "output_type": "execute_result"
        }
      ],
      "source": [
        "d.flat[10]"
      ]
    },
    {
      "cell_type": "code",
      "execution_count": 16,
      "metadata": {
        "colab": {
          "base_uri": "https://localhost:8080/"
        },
        "id": "zdfBSYxonuJ1",
        "outputId": "acc69a58-bc7f-482b-ae80-cfc6e35b1897"
      },
      "outputs": [
        {
          "data": {
            "text/plain": [
              "(12,)"
            ]
          },
          "execution_count": 16,
          "metadata": {},
          "output_type": "execute_result"
        }
      ],
      "source": [
        "d.shape"
      ]
    },
    {
      "cell_type": "code",
      "execution_count": 18,
      "metadata": {
        "colab": {
          "base_uri": "https://localhost:8080/"
        },
        "id": "3n_Tva5roYaS",
        "outputId": "6ffd0cf6-2da2-4f38-c57a-f2aaea725f5f"
      },
      "outputs": [
        {
          "data": {
            "text/plain": [
              "array([[8., 4., 9., 8.],\n",
              "       [7., 3., 3., 9.],\n",
              "       [9., 9., 6., 5.]])"
            ]
          },
          "execution_count": 18,
          "metadata": {},
          "output_type": "execute_result"
        }
      ],
      "source": [
        "a = np.floor(10 * np.random.random((3, 4)))\n",
        "a"
      ]
    },
    {
      "cell_type": "code",
      "execution_count": 19,
      "metadata": {
        "colab": {
          "base_uri": "https://localhost:8080/"
        },
        "id": "gpvredtXopaV",
        "outputId": "fb573591-18d2-4ad0-d4b2-8e7046f0be3e"
      },
      "outputs": [
        {
          "data": {
            "text/plain": [
              "array([8., 4., 9., 8., 7., 3., 3., 9., 9., 9., 6., 5.])"
            ]
          },
          "execution_count": 19,
          "metadata": {},
          "output_type": "execute_result"
        }
      ],
      "source": [
        "a.flatten()"
      ]
    },
    {
      "cell_type": "code",
      "execution_count": 20,
      "metadata": {
        "colab": {
          "base_uri": "https://localhost:8080/"
        },
        "id": "pYQioTlzo8D7",
        "outputId": "8702edfe-e949-4384-c498-300c69edc626"
      },
      "outputs": [
        {
          "data": {
            "text/plain": [
              "(3, 4)"
            ]
          },
          "execution_count": 20,
          "metadata": {},
          "output_type": "execute_result"
        }
      ],
      "source": [
        "a.shape"
      ]
    },
    {
      "cell_type": "code",
      "execution_count": 21,
      "metadata": {
        "colab": {
          "base_uri": "https://localhost:8080/"
        },
        "id": "Fq--tgs0o_Ap",
        "outputId": "ae3b87c8-c9b8-4a02-c57d-2c89b3e12b4c"
      },
      "outputs": [
        {
          "data": {
            "text/plain": [
              "array([[8., 4., 9., 8.],\n",
              "       [7., 3., 3., 9.],\n",
              "       [9., 9., 6., 5.]])"
            ]
          },
          "execution_count": 21,
          "metadata": {},
          "output_type": "execute_result"
        }
      ],
      "source": [
        "a"
      ]
    },
    {
      "cell_type": "code",
      "execution_count": 22,
      "metadata": {
        "colab": {
          "base_uri": "https://localhost:8080/"
        },
        "id": "J-vXWJnhpsco",
        "outputId": "68dc8087-9471-447c-b516-8aaff0ab46a6"
      },
      "outputs": [
        {
          "data": {
            "text/plain": [
              "array([8., 4., 9., 8., 7., 3., 3., 9., 9., 9., 6., 5.])"
            ]
          },
          "execution_count": 22,
          "metadata": {},
          "output_type": "execute_result"
        }
      ],
      "source": [
        "a.ravel()"
      ]
    },
    {
      "cell_type": "code",
      "execution_count": 23,
      "metadata": {
        "colab": {
          "base_uri": "https://localhost:8080/"
        },
        "id": "1smBkUi6pD5g",
        "outputId": "0415ae37-ee31-4767-ce94-c76d18aef9f3"
      },
      "outputs": [
        {
          "data": {
            "text/plain": [
              "array([8., 7., 9., 4., 3., 9., 9., 3., 6., 8., 9., 5.])"
            ]
          },
          "execution_count": 23,
          "metadata": {},
          "output_type": "execute_result"
        }
      ],
      "source": [
        "np.ravel(a, order = 'F')"
      ]
    },
    {
      "cell_type": "code",
      "execution_count": 24,
      "metadata": {
        "colab": {
          "base_uri": "https://localhost:8080/"
        },
        "id": "ImjGXBGrp5bt",
        "outputId": "5f71a836-9177-4601-fd11-91ceb9a2017e"
      },
      "outputs": [
        {
          "data": {
            "text/plain": [
              "array([8., 4., 9., 8., 7., 3., 3., 9., 9., 9., 6., 5.])"
            ]
          },
          "execution_count": 24,
          "metadata": {},
          "output_type": "execute_result"
        }
      ],
      "source": [
        "np.ravel(a, order = 'C')"
      ]
    },
    {
      "cell_type": "code",
      "execution_count": 25,
      "metadata": {
        "colab": {
          "base_uri": "https://localhost:8080/"
        },
        "id": "IqvHVwu2pHil",
        "outputId": "45276ffd-2f5d-43f1-a1cf-92a0a076e4a3"
      },
      "outputs": [
        {
          "data": {
            "text/plain": [
              "(3, 4)"
            ]
          },
          "execution_count": 25,
          "metadata": {},
          "output_type": "execute_result"
        }
      ],
      "source": [
        "a.shape"
      ]
    },
    {
      "cell_type": "code",
      "execution_count": 26,
      "metadata": {
        "colab": {
          "base_uri": "https://localhost:8080/"
        },
        "id": "UogDWUrupJFI",
        "outputId": "50fec636-a86d-4ee1-90ba-4b37a410c4e4"
      },
      "outputs": [
        {
          "data": {
            "text/plain": [
              "array([[8., 4., 9., 8.],\n",
              "       [7., 3., 3., 9.],\n",
              "       [9., 9., 6., 5.]])"
            ]
          },
          "execution_count": 26,
          "metadata": {},
          "output_type": "execute_result"
        }
      ],
      "source": [
        "a"
      ]
    },
    {
      "cell_type": "code",
      "execution_count": 27,
      "metadata": {
        "id": "8msgN63spKhD"
      },
      "outputs": [
        {
          "name": "stdout",
          "output_type": "stream",
          "text": [
            "\u001b[0;31mSignature:\u001b[0m       \u001b[0mnp\u001b[0m\u001b[0;34m.\u001b[0m\u001b[0mravel\u001b[0m\u001b[0;34m(\u001b[0m\u001b[0ma\u001b[0m\u001b[0;34m,\u001b[0m \u001b[0morder\u001b[0m\u001b[0;34m=\u001b[0m\u001b[0;34m'C'\u001b[0m\u001b[0;34m)\u001b[0m\u001b[0;34m\u001b[0m\u001b[0;34m\u001b[0m\u001b[0m\n",
            "\u001b[0;31mCall signature:\u001b[0m  \u001b[0mnp\u001b[0m\u001b[0;34m.\u001b[0m\u001b[0mravel\u001b[0m\u001b[0;34m(\u001b[0m\u001b[0;34m*\u001b[0m\u001b[0margs\u001b[0m\u001b[0;34m,\u001b[0m \u001b[0;34m**\u001b[0m\u001b[0mkwargs\u001b[0m\u001b[0;34m)\u001b[0m\u001b[0;34m\u001b[0m\u001b[0;34m\u001b[0m\u001b[0m\n",
            "\u001b[0;31mType:\u001b[0m            _ArrayFunctionDispatcher\n",
            "\u001b[0;31mString form:\u001b[0m     <function ravel at 0x75eed86907c0>\n",
            "\u001b[0;31mFile:\u001b[0m            ~/.local/lib/python3.12/site-packages/numpy/_core/fromnumeric.py\n",
            "\u001b[0;31mDocstring:\u001b[0m      \n",
            "Return a contiguous flattened array.\n",
            "\n",
            "A 1-D array, containing the elements of the input, is returned.  A copy is\n",
            "made only if needed.\n",
            "\n",
            "As of NumPy 1.10, the returned array will have the same type as the input\n",
            "array. (for example, a masked array will be returned for a masked array\n",
            "input)\n",
            "\n",
            "Parameters\n",
            "----------\n",
            "a : array_like\n",
            "    Input array.  The elements in `a` are read in the order specified by\n",
            "    `order`, and packed as a 1-D array.\n",
            "order : {'C','F', 'A', 'K'}, optional\n",
            "\n",
            "    The elements of `a` are read using this index order. 'C' means\n",
            "    to index the elements in row-major, C-style order,\n",
            "    with the last axis index changing fastest, back to the first\n",
            "    axis index changing slowest.  'F' means to index the elements\n",
            "    in column-major, Fortran-style order, with the\n",
            "    first index changing fastest, and the last index changing\n",
            "    slowest. Note that the 'C' and 'F' options take no account of\n",
            "    the memory layout of the underlying array, and only refer to\n",
            "    the order of axis indexing.  'A' means to read the elements in\n",
            "    Fortran-like index order if `a` is Fortran *contiguous* in\n",
            "    memory, C-like order otherwise.  'K' means to read the\n",
            "    elements in the order they occur in memory, except for\n",
            "    reversing the data when strides are negative.  By default, 'C'\n",
            "    index order is used.\n",
            "\n",
            "Returns\n",
            "-------\n",
            "y : array_like\n",
            "    y is a contiguous 1-D array of the same subtype as `a`,\n",
            "    with shape ``(a.size,)``.\n",
            "    Note that matrices are special cased for backward compatibility,\n",
            "    if `a` is a matrix, then y is a 1-D ndarray.\n",
            "\n",
            "See Also\n",
            "--------\n",
            "ndarray.flat : 1-D iterator over an array.\n",
            "ndarray.flatten : 1-D array copy of the elements of an array\n",
            "                  in row-major order.\n",
            "ndarray.reshape : Change the shape of an array without changing its data.\n",
            "\n",
            "Notes\n",
            "-----\n",
            "In row-major, C-style order, in two dimensions, the row index\n",
            "varies the slowest, and the column index the quickest.  This can\n",
            "be generalized to multiple dimensions, where row-major order\n",
            "implies that the index along the first axis varies slowest, and\n",
            "the index along the last quickest.  The opposite holds for\n",
            "column-major, Fortran-style index ordering.\n",
            "\n",
            "When a view is desired in as many cases as possible, ``arr.reshape(-1)``\n",
            "may be preferable. However, ``ravel`` supports ``K`` in the optional\n",
            "``order`` argument while ``reshape`` does not.\n",
            "\n",
            "Examples\n",
            "--------\n",
            "It is equivalent to ``reshape(-1, order=order)``.\n",
            "\n",
            ">>> import numpy as np\n",
            ">>> x = np.array([[1, 2, 3], [4, 5, 6]])\n",
            ">>> np.ravel(x)\n",
            "array([1, 2, 3, 4, 5, 6])\n",
            "\n",
            ">>> x.reshape(-1)\n",
            "array([1, 2, 3, 4, 5, 6])\n",
            "\n",
            ">>> np.ravel(x, order='F')\n",
            "array([1, 4, 2, 5, 3, 6])\n",
            "\n",
            "When ``order`` is 'A', it will preserve the array's 'C' or 'F' ordering:\n",
            "\n",
            ">>> np.ravel(x.T)\n",
            "array([1, 4, 2, 5, 3, 6])\n",
            ">>> np.ravel(x.T, order='A')\n",
            "array([1, 2, 3, 4, 5, 6])\n",
            "\n",
            "When ``order`` is 'K', it will preserve orderings that are neither 'C'\n",
            "nor 'F', but won't reverse axes:\n",
            "\n",
            ">>> a = np.arange(3)[::-1]; a\n",
            "array([2, 1, 0])\n",
            ">>> a.ravel(order='C')\n",
            "array([2, 1, 0])\n",
            ">>> a.ravel(order='K')\n",
            "array([2, 1, 0])\n",
            "\n",
            ">>> a = np.arange(12).reshape(2,3,2).swapaxes(1,2); a\n",
            "array([[[ 0,  2,  4],\n",
            "        [ 1,  3,  5]],\n",
            "       [[ 6,  8, 10],\n",
            "        [ 7,  9, 11]]])\n",
            ">>> a.ravel(order='C')\n",
            "array([ 0,  2,  4,  1,  3,  5,  6,  8, 10,  7,  9, 11])\n",
            ">>> a.ravel(order='K')\n",
            "array([ 0,  1,  2,  3,  4,  5,  6,  7,  8,  9, 10, 11])\n",
            "\u001b[0;31mClass docstring:\u001b[0m\n",
            "Class to wrap functions with checks for __array_function__ overrides.\n",
            "\n",
            "All arguments are required, and can only be passed by position.\n",
            "\n",
            "Parameters\n",
            "----------\n",
            "dispatcher : function or None\n",
            "    The dispatcher function that returns a single sequence-like object\n",
            "    of all arguments relevant.  It must have the same signature (except\n",
            "    the default values) as the actual implementation.\n",
            "    If ``None``, this is a ``like=`` dispatcher and the\n",
            "    ``_ArrayFunctionDispatcher`` must be called with ``like`` as the\n",
            "    first (additional and positional) argument.\n",
            "implementation : function\n",
            "    Function that implements the operation on NumPy arrays without\n",
            "    overrides.  Arguments passed calling the ``_ArrayFunctionDispatcher``\n",
            "    will be forwarded to this (and the ``dispatcher``) as if using\n",
            "    ``*args, **kwargs``.\n",
            "\n",
            "Attributes\n",
            "----------\n",
            "_implementation : function\n",
            "    The original implementation passed in."
          ]
        }
      ],
      "source": [
        "np.ravel?"
      ]
    },
    {
      "cell_type": "code",
      "execution_count": null,
      "metadata": {
        "id": "wa76dHwvpOjj"
      },
      "outputs": [],
      "source": []
    },
    {
      "cell_type": "code",
      "execution_count": null,
      "metadata": {},
      "outputs": [],
      "source": []
    }
  ],
  "metadata": {
    "colab": {
      "authorship_tag": "ABX9TyO8RdKJKW4ZlzxfpUKhJGnw",
      "include_colab_link": true,
      "provenance": []
    },
    "kernelspec": {
      "display_name": "Python 3",
      "name": "python3"
    },
    "language_info": {
      "codemirror_mode": {
        "name": "ipython",
        "version": 3
      },
      "file_extension": ".py",
      "mimetype": "text/x-python",
      "name": "python",
      "nbconvert_exporter": "python",
      "pygments_lexer": "ipython3",
      "version": "3.12.1"
    }
  },
  "nbformat": 4,
  "nbformat_minor": 0
}
