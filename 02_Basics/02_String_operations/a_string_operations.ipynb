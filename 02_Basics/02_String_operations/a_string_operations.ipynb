{
 "cells": [
  {
   "cell_type": "markdown",
   "metadata": {},
   "source": [
    "### String Operations\n",
    "\n",
    "    Strings can be represented using\n",
    "        1) single quotes,\n",
    "        2) double quotes, or\n",
    "        3) triple single quotes or\n",
    "        4) triple double quotes"
   ]
  },
  {
   "cell_type": "code",
   "execution_count": 1,
   "metadata": {},
   "outputs": [
    {
     "name": "stdout",
     "output_type": "stream",
     "text": [
      "Python Programming <class 'str'>\n"
     ]
    }
   ],
   "source": [
    "# String with single quotes\n",
    "language = 'Python Programming'\n",
    "print(language, type(language))"
   ]
  },
  {
   "cell_type": "code",
   "execution_count": 2,
   "metadata": {},
   "outputs": [
    {
     "name": "stdout",
     "output_type": "stream",
     "text": [
      "Python Programming <class 'str'>\n"
     ]
    }
   ],
   "source": [
    "# String with double quotes\n",
    "language = \"Python Programming\"\n",
    "print(language, type(language))"
   ]
  },
  {
   "cell_type": "code",
   "execution_count": 3,
   "metadata": {},
   "outputs": [
    {
     "name": "stdout",
     "output_type": "stream",
     "text": [
      "Python Programming <class 'str'>\n"
     ]
    }
   ],
   "source": [
    "# String with triple single quotes\n",
    "language = '''Python Programming'''\n",
    "print(language, type(language))"
   ]
  },
  {
   "cell_type": "code",
   "execution_count": 4,
   "metadata": {},
   "outputs": [
    {
     "name": "stdout",
     "output_type": "stream",
     "text": [
      "Python Programming <class 'str'>\n"
     ]
    }
   ],
   "source": [
    "# String with triple double quotes\n",
    "language = \"\"\"Python Programming\"\"\"\n",
    "print(language, type(language))"
   ]
  },
  {
   "cell_type": "code",
   "execution_count": 5,
   "metadata": {},
   "outputs": [],
   "source": [
    "# NOTE: PEP 8 -> Use triple quotes for doc strings"
   ]
  },
  {
   "cell_type": "markdown",
   "metadata": {},
   "source": [
    "### Importance and usage of multiple quotes"
   ]
  },
  {
   "cell_type": "code",
   "execution_count": 4,
   "metadata": {},
   "outputs": [
    {
     "name": "stdout",
     "output_type": "stream",
     "text": [
      "Python Programming <class 'str'>\n"
     ]
    }
   ],
   "source": [
    "language = 'Python Programming'\n",
    "print(language, type(language))"
   ]
  },
  {
   "cell_type": "code",
   "execution_count": 5,
   "metadata": {},
   "outputs": [
    {
     "name": "stdout",
     "output_type": "stream",
     "text": [
      "How are you ? <class 'str'>\n"
     ]
    }
   ],
   "source": [
    "question = \"How are you ?\"\n",
    "print(question, type(question))"
   ]
  },
  {
   "cell_type": "code",
   "execution_count": 6,
   "metadata": {},
   "outputs": [
    {
     "ename": "SyntaxError",
     "evalue": "unterminated string literal (detected at line 1) (3503667590.py, line 1)",
     "output_type": "error",
     "traceback": [
      "\u001b[0;36m  Cell \u001b[0;32mIn[6], line 1\u001b[0;36m\u001b[0m\n\u001b[0;31m    where_abouts = 'what's up !'\u001b[0m\n\u001b[0m                               ^\u001b[0m\n\u001b[0;31mSyntaxError\u001b[0m\u001b[0;31m:\u001b[0m unterminated string literal (detected at line 1)\n"
     ]
    }
   ],
   "source": [
    "where_abouts = 'what's up !'"
   ]
  },
  {
   "cell_type": "code",
   "execution_count": 9,
   "metadata": {},
   "outputs": [
    {
     "name": "stdout",
     "output_type": "stream",
     "text": [
      "what's up ! <class 'str'>\n"
     ]
    }
   ],
   "source": [
    "where_abouts = 'what\\'s up !'\n",
    "print(where_abouts, type(where_abouts))"
   ]
  },
  {
   "cell_type": "code",
   "execution_count": 10,
   "metadata": {},
   "outputs": [],
   "source": [
    "# Note 1: Placing \\ before any operator with result\n",
    "# in treating operator as a ordinary character"
   ]
  },
  {
   "cell_type": "code",
   "execution_count": 11,
   "metadata": {},
   "outputs": [
    {
     "ename": "SyntaxError",
     "evalue": "unterminated string literal (detected at line 1) (4043966233.py, line 1)",
     "output_type": "error",
     "traceback": [
      "\u001b[0;36m  Cell \u001b[0;32mIn[11], line 1\u001b[0;36m\u001b[0m\n\u001b[0;31m    other_string = 'what's going in your's law's house'\u001b[0m\n\u001b[0m                                                      ^\u001b[0m\n\u001b[0;31mSyntaxError\u001b[0m\u001b[0;31m:\u001b[0m unterminated string literal (detected at line 1)\n"
     ]
    }
   ],
   "source": [
    "other_string = 'what's going in your's law's house'"
   ]
  },
  {
   "cell_type": "code",
   "execution_count": 12,
   "metadata": {},
   "outputs": [],
   "source": [
    "other_string = 'what\\'s going in your\\'s law\\'s house'"
   ]
  },
  {
   "cell_type": "code",
   "execution_count": 13,
   "metadata": {},
   "outputs": [
    {
     "name": "stdout",
     "output_type": "stream",
     "text": [
      "what's going in your's law's house\n"
     ]
    }
   ],
   "source": [
    "other_string = \"what's going in your's law's house\"\n",
    "print(other_string)"
   ]
  },
  {
   "cell_type": "code",
   "execution_count": 14,
   "metadata": {},
   "outputs": [
    {
     "ename": "SyntaxError",
     "evalue": "invalid syntax (1463427495.py, line 1)",
     "output_type": "error",
     "traceback": [
      "\u001b[0;36m  Cell \u001b[0;32mIn[14], line 1\u001b[0;36m\u001b[0m\n\u001b[0;31m    sql_command = \"select * from mytable where name = 'udhay' and profession like \"%work\"\"\u001b[0m\n\u001b[0m                                                                                        ^\u001b[0m\n\u001b[0;31mSyntaxError\u001b[0m\u001b[0;31m:\u001b[0m invalid syntax\n"
     ]
    }
   ],
   "source": [
    "sql_command = \"select * from mytable where name = 'udhay' and profession like \"%work\"\""
   ]
  },
  {
   "cell_type": "code",
   "execution_count": 15,
   "metadata": {},
   "outputs": [
    {
     "name": "stdout",
     "output_type": "stream",
     "text": [
      "select * from mytable where name = 'udhay' and profession like \"%work\"\n"
     ]
    }
   ],
   "source": [
    "sql_command = '''select * from mytable where name = 'udhay' and profession like \"%work\"'''\n",
    "print(sql_command)"
   ]
  },
  {
   "cell_type": "code",
   "execution_count": 16,
   "metadata": {},
   "outputs": [
    {
     "name": "stdout",
     "output_type": "stream",
     "text": [
      " python -c 'awdwad' asds \"sfdffdg\", '''kjgvekqrwhro2y3o'''\n"
     ]
    }
   ],
   "source": [
    "some_other_str = \"\"\" python -c 'awdwad' asds \"sfdffdg\", '''kjgvekqrwhro2y3o'''\"\"\"\n",
    "print(some_other_str)"
   ]
  },
  {
   "cell_type": "code",
   "execution_count": 17,
   "metadata": {},
   "outputs": [
    {
     "name": "stdout",
     "output_type": "stream",
     "text": [
      "\n",
      "\n",
      "\n"
     ]
    }
   ],
   "source": [
    "print(\"\\n\\n\")\n",
    "# '\\''\n",
    "# \"'\"\n",
    "# '\"'\n",
    "# ''' '\"\"' '''\n",
    "# \"\"\" ''' '\"\"' '''' \"\"\"\n",
    "# \" ''' \""
   ]
  },
  {
   "cell_type": "markdown",
   "metadata": {},
   "source": [
    "\n",
    "#### Multi Line strings"
   ]
  },
  {
   "cell_type": "code",
   "execution_count": 18,
   "metadata": {},
   "outputs": [
    {
     "ename": "SyntaxError",
     "evalue": "unterminated string literal (detected at line 2) (4086249993.py, line 2)",
     "output_type": "error",
     "traceback": [
      "\u001b[0;36m  Cell \u001b[0;32mIn[18], line 2\u001b[0;36m\u001b[0m\n\u001b[0;31m    'Today is an awesome day\u001b[0m\n\u001b[0m    ^\u001b[0m\n\u001b[0;31mSyntaxError\u001b[0m\u001b[0;31m:\u001b[0m unterminated string literal (detected at line 2)\n"
     ]
    }
   ],
   "source": [
    "\n",
    "print(\n",
    "    'Today is an awesome day\n",
    "    to learn python'\n",
    ")"
   ]
  },
  {
   "cell_type": "code",
   "execution_count": 19,
   "metadata": {},
   "outputs": [
    {
     "name": "stdout",
     "output_type": "stream",
     "text": [
      "Today is an awesome day    to learn python\n"
     ]
    }
   ],
   "source": [
    "print(\n",
    "    'Today is an awesome day\\\n",
    "    to learn python'\n",
    ")\n",
    "\n",
    "# \\ line continuation operator\n"
   ]
  },
  {
   "cell_type": "code",
   "execution_count": 20,
   "metadata": {},
   "outputs": [
    {
     "name": "stdout",
     "output_type": "stream",
     "text": [
      "Today is an awesome day    to learn python\n"
     ]
    }
   ],
   "source": [
    "print(\n",
    "    \"Today is an awesome day\\\n",
    "    to learn python\"\n",
    ")"
   ]
  },
  {
   "cell_type": "code",
   "execution_count": 22,
   "metadata": {},
   "outputs": [
    {
     "name": "stdout",
     "output_type": "stream",
     "text": [
      "Today is an awesome day    to learn python\n"
     ]
    }
   ],
   "source": [
    "\n",
    "print(\n",
    "    '''Today is an awesome day\\\n",
    "    to learn python'''\n",
    ")"
   ]
  },
  {
   "cell_type": "code",
   "execution_count": 23,
   "metadata": {},
   "outputs": [
    {
     "name": "stdout",
     "output_type": "stream",
     "text": [
      "Today is an awesome day    to learn python\n"
     ]
    }
   ],
   "source": [
    "print(\n",
    "    \"\"\"Today is an awesome day\\\n",
    "    to learn python\"\"\"\n",
    ")"
   ]
  },
  {
   "cell_type": "code",
   "execution_count": 24,
   "metadata": {},
   "outputs": [
    {
     "name": "stdout",
     "output_type": "stream",
     "text": [
      "Today is an awesome day\n",
      "    to learn python\n"
     ]
    }
   ],
   "source": [
    "print(\n",
    "    '''Today is an awesome day\n",
    "    to learn python'''\n",
    ")"
   ]
  },
  {
   "cell_type": "code",
   "execution_count": 25,
   "metadata": {},
   "outputs": [
    {
     "name": "stdout",
     "output_type": "stream",
     "text": [
      "Today is an awesome day\n",
      "    to learn python\n"
     ]
    }
   ],
   "source": [
    "print(\n",
    "    \"\"\"Today is an awesome day\n",
    "    to learn python\"\"\"\n",
    ")"
   ]
  },
  {
   "cell_type": "markdown",
   "metadata": {},
   "source": [
    "##### by default, triple quote strings are designed for multiline"
   ]
  },
  {
   "cell_type": "code",
   "execution_count": 26,
   "metadata": {},
   "outputs": [
    {
     "name": "stdout",
     "output_type": "stream",
     "text": [
      "\n",
      "    A - Apple\n",
      "    B - Ball\n",
      "    C - Cat\n",
      "    D - Dog\n",
      "\n"
     ]
    }
   ],
   "source": [
    "print(\n",
    "    \"\"\"\n",
    "    A - Apple\n",
    "    B - Ball\n",
    "    C - Cat\n",
    "    D - Dog\n",
    "\"\"\"\n",
    ")"
   ]
  },
  {
   "cell_type": "code",
   "execution_count": 27,
   "metadata": {},
   "outputs": [
    {
     "name": "stdout",
     "output_type": "stream",
     "text": [
      "\n",
      "    select * \n",
      "    from table1 t1\n",
      "    LEFT JOIN table t2 on t1.id = t2.id\n",
      "    ORDER BY ti.id;\n",
      "\n"
     ]
    }
   ],
   "source": [
    "sql_cmd = '''\n",
    "    select * \n",
    "    from table1 t1\n",
    "    LEFT JOIN table t2 on t1.id = t2.id\n",
    "    ORDER BY ti.id;\n",
    "'''\n",
    "print(sql_cmd)"
   ]
  },
  {
   "cell_type": "code",
   "execution_count": 28,
   "metadata": {},
   "outputs": [
    {
     "name": "stdout",
     "output_type": "stream",
     "text": [
      "select * from my_table where column='python' and column2=\"django\"\n"
     ]
    }
   ],
   "source": [
    "my_string = '''select * from my_table where column='python' and column2=\"django\"'''\n",
    "print(my_string)"
   ]
  },
  {
   "cell_type": "code",
   "execution_count": 29,
   "metadata": {},
   "outputs": [
    {
     "ename": "SyntaxError",
     "evalue": "unterminated string literal (detected at line 1) (4229607144.py, line 1)",
     "output_type": "error",
     "traceback": [
      "\u001b[0;36m  Cell \u001b[0;32mIn[29], line 1\u001b[0;36m\u001b[0m\n\u001b[0;31m    my_string = \"\"\" select * from my_table where column='python' and column2=\"django\"\"\"\"\u001b[0m\n\u001b[0m                                                                                       ^\u001b[0m\n\u001b[0;31mSyntaxError\u001b[0m\u001b[0;31m:\u001b[0m unterminated string literal (detected at line 1)\n"
     ]
    }
   ],
   "source": [
    "my_string = \"\"\" select * from my_table where column='python' and column2=\"django\"\"\"\""
   ]
  },
  {
   "cell_type": "code",
   "execution_count": 30,
   "metadata": {},
   "outputs": [],
   "source": [
    "\n",
    "my_string = \"\"\" select * from my_table where column='python' and column2=\"django\" \"\"\""
   ]
  },
  {
   "cell_type": "code",
   "execution_count": 31,
   "metadata": {},
   "outputs": [],
   "source": [
    "my_string = \"\"\" select * from my_table where column='python' and column2=\"django\";\"\"\""
   ]
  },
  {
   "cell_type": "markdown",
   "metadata": {},
   "source": [
    "\n",
    "##### String Indexing"
   ]
  },
  {
   "cell_type": "code",
   "execution_count": 32,
   "metadata": {},
   "outputs": [
    {
     "name": "stdout",
     "output_type": "stream",
     "text": [
      "Python programming <class 'str'>\n"
     ]
    }
   ],
   "source": [
    "language = 'Python programming'\n",
    "print(language, type(language))"
   ]
  },
  {
   "cell_type": "code",
   "execution_count": 33,
   "metadata": {},
   "outputs": [
    {
     "name": "stdout",
     "output_type": "stream",
     "text": [
      "18\n"
     ]
    }
   ],
   "source": [
    "print(\"len(language\", len(language))"
   ]
  },
  {
   "cell_type": "code",
   "execution_count": 35,
   "metadata": {},
   "outputs": [],
   "source": [
    "# P   y t h o n   P r  o g  r  a  m  m  i  n  g\n",
    "# 0   1 2 3 4 5 6 7 8  9 10 11 12 13 14 15 16 17 - forward indexing\n",
    "# -18 - - - - - - - - -9 -8 -7 -6 -5 -4 -3 -2 -1 - reverse indexing\n",
    "\n",
    "# NOTE: Indexing starts with 0"
   ]
  },
  {
   "cell_type": "code",
   "execution_count": 36,
   "metadata": {},
   "outputs": [
    {
     "name": "stdout",
     "output_type": "stream",
     "text": [
      "language     : Python programming\n",
      "language[14] : m\n",
      "language[6]  :  \n",
      "language[17] : g\n"
     ]
    }
   ],
   "source": [
    "print(\"language     :\", language)\n",
    "print(\"language[14] :\", language[14])\n",
    "print(\"language[6]  :\", language[6])\n",
    "print(\"language[17] :\", language[17])"
   ]
  },
  {
   "cell_type": "code",
   "execution_count": 37,
   "metadata": {},
   "outputs": [
    {
     "ename": "IndexError",
     "evalue": "string index out of range",
     "output_type": "error",
     "traceback": [
      "\u001b[0;31m---------------------------------------------------------------------------\u001b[0m",
      "\u001b[0;31mIndexError\u001b[0m                                Traceback (most recent call last)",
      "Cell \u001b[0;32mIn[37], line 1\u001b[0m\n\u001b[0;32m----> 1\u001b[0m \u001b[38;5;28mprint\u001b[39m(\u001b[38;5;124m\"\u001b[39m\u001b[38;5;124mlanguage[18] :\u001b[39m\u001b[38;5;124m\"\u001b[39m, \u001b[43mlanguage\u001b[49m\u001b[43m[\u001b[49m\u001b[38;5;241;43m18\u001b[39;49m\u001b[43m]\u001b[49m)\n",
      "\u001b[0;31mIndexError\u001b[0m: string index out of range"
     ]
    }
   ],
   "source": [
    "print(\"language[18] :\", language[18])"
   ]
  },
  {
   "cell_type": "code",
   "execution_count": 38,
   "metadata": {},
   "outputs": [
    {
     "name": "stdout",
     "output_type": "stream",
     "text": [
      "language[0]  : P\n",
      "language[-0] : P\n"
     ]
    }
   ],
   "source": [
    "print(\"language[0]  :\", language[0])\n",
    "print(\"language[-0] :\", language[-0])"
   ]
  },
  {
   "cell_type": "code",
   "execution_count": 39,
   "metadata": {},
   "outputs": [
    {
     "name": "stdout",
     "output_type": "stream",
     "text": [
      "language[-3]  : i\n",
      "len(language) : 18\n",
      "language[len(language)-3]:  i\n"
     ]
    }
   ],
   "source": [
    "print(\"language[-3]  :\", language[-3])\n",
    "print(\"len(language) :\", len(language))\n",
    "print(\"language[len(language)-3]: \", language[len(language)-3])"
   ]
  },
  {
   "cell_type": "code",
   "execution_count": 40,
   "metadata": {},
   "outputs": [],
   "source": [
    "# P   y t h o n   P r  o g  r  a  m  m  i  n  g\n",
    "# 0   1 2 3 4 5 6 7 8  9 10 11 12 13 14 15 16 17 - forward indexing\n",
    "# -18 - - - - - - - - -9 -8 -7 -6 -5 -4 -3 -2 -1 - reverse indexing\n",
    "\n",
    "# NOTE: Indexing starts with 0"
   ]
  },
  {
   "cell_type": "code",
   "execution_count": 41,
   "metadata": {},
   "outputs": [
    {
     "name": "stdout",
     "output_type": "stream",
     "text": [
      "language[-18] : P\n",
      "language[0]  : P\n"
     ]
    }
   ],
   "source": [
    "print(\"language[-18] :\", language[-18])\n",
    "print(\"language[0]  :\", language[0])"
   ]
  },
  {
   "cell_type": "code",
   "execution_count": 42,
   "metadata": {},
   "outputs": [
    {
     "ename": "IndexError",
     "evalue": "string index out of range",
     "output_type": "error",
     "traceback": [
      "\u001b[0;31m---------------------------------------------------------------------------\u001b[0m",
      "\u001b[0;31mIndexError\u001b[0m                                Traceback (most recent call last)",
      "Cell \u001b[0;32mIn[42], line 1\u001b[0m\n\u001b[0;32m----> 1\u001b[0m \u001b[38;5;28mprint\u001b[39m(\u001b[38;5;124m\"\u001b[39m\u001b[38;5;124mlanguage[-19] :\u001b[39m\u001b[38;5;124m\"\u001b[39m, \u001b[43mlanguage\u001b[49m\u001b[43m[\u001b[49m\u001b[38;5;241;43m-\u001b[39;49m\u001b[38;5;241;43m19\u001b[39;49m\u001b[43m]\u001b[49m)\n",
      "\u001b[0;31mIndexError\u001b[0m: string index out of range"
     ]
    }
   ],
   "source": [
    "print(\"language[-19] :\", language[-19])"
   ]
  },
  {
   "cell_type": "code",
   "execution_count": 43,
   "metadata": {},
   "outputs": [
    {
     "ename": "TypeError",
     "evalue": "string indices must be integers, not 'float'",
     "output_type": "error",
     "traceback": [
      "\u001b[0;31m---------------------------------------------------------------------------\u001b[0m",
      "\u001b[0;31mTypeError\u001b[0m                                 Traceback (most recent call last)",
      "Cell \u001b[0;32mIn[43], line 1\u001b[0m\n\u001b[0;32m----> 1\u001b[0m \u001b[38;5;28mprint\u001b[39m(\u001b[38;5;124m\"\u001b[39m\u001b[38;5;124mlanguage[0.0] :\u001b[39m\u001b[38;5;124m\"\u001b[39m, \u001b[43mlanguage\u001b[49m\u001b[43m[\u001b[49m\u001b[38;5;241;43m0.0\u001b[39;49m\u001b[43m]\u001b[49m)\n",
      "\u001b[0;31mTypeError\u001b[0m: string indices must be integers, not 'float'"
     ]
    }
   ],
   "source": [
    "print(\"language[0.0] :\", language[0.0])"
   ]
  },
  {
   "cell_type": "markdown",
   "metadata": {},
   "source": [
    "#### String slicing operations"
   ]
  },
  {
   "cell_type": "code",
   "execution_count": 44,
   "metadata": {},
   "outputs": [],
   "source": [
    "# P   y t h o n   P r  o g  r  a  m  m  i  n  g\n",
    "# 0   1 2 3 4 5 6 7 8  9 10 11 12 13 14 15 16 17 - forward indexing\n",
    "# -18 - - - - - - - - -9 -8 -7 -6 -5 -4 -3 -2 -1 - reverse indexing"
   ]
  },
  {
   "cell_type": "code",
   "execution_count": 50,
   "metadata": {},
   "outputs": [
    {
     "name": "stdout",
     "output_type": "stream",
     "text": [
      "Pytho\n"
     ]
    }
   ],
   "source": [
    "print(language[0:5])"
   ]
  },
  {
   "cell_type": "code",
   "execution_count": 57,
   "metadata": {},
   "outputs": [
    {
     "name": "stdout",
     "output_type": "stream",
     "text": [
      "n programmin\n",
      "n programming\n"
     ]
    }
   ],
   "source": [
    "print(language[5:17])\n",
    "print(language[5:18])"
   ]
  },
  {
   "cell_type": "code",
   "execution_count": 55,
   "metadata": {},
   "outputs": [
    {
     "name": "stdout",
     "output_type": "stream",
     "text": [
      "prog\n"
     ]
    }
   ],
   "source": [
    "print(language[7:10])"
   ]
  },
  {
   "cell_type": "code",
   "execution_count": 56,
   "metadata": {},
   "outputs": [
    {
     "name": "stdout",
     "output_type": "stream",
     "text": [
      "language[7:18] : programming\n",
      "language[7:999] : programming\n",
      "language[45:97] : \n"
     ]
    }
   ],
   "source": [
    "print(\"language[7:18] :\", language[7:18])\n",
    "print(\"language[7:999] :\", language[7:999])\n",
    "print(\"language[45:97] :\", language[45:97])"
   ]
  },
  {
   "cell_type": "code",
   "execution_count": 1,
   "metadata": {},
   "outputs": [],
   "source": [
    "\n",
    "# string slicing\n",
    "#   string [start: end: step]\n",
    "#   default step is +1"
   ]
  },
  {
   "cell_type": "code",
   "execution_count": 3,
   "metadata": {},
   "outputs": [
    {
     "name": "stdout",
     "output_type": "stream",
     "text": [
      "Python programming <class 'str'>\n"
     ]
    }
   ],
   "source": [
    "language = 'Python programming'\n",
    "print(language, type(language))"
   ]
  },
  {
   "cell_type": "code",
   "execution_count": 4,
   "metadata": {},
   "outputs": [
    {
     "name": "stdout",
     "output_type": "stream",
     "text": [
      "programming\n"
     ]
    }
   ],
   "source": [
    "print(language[7:18])"
   ]
  },
  {
   "cell_type": "code",
   "execution_count": 5,
   "metadata": {},
   "outputs": [
    {
     "name": "stdout",
     "output_type": "stream",
     "text": [
      "programming\n"
     ]
    }
   ],
   "source": [
    "print(language[7:18:1])\n",
    "# [7:18:1] => 7, 8, 9, 10, 11, 12, 13, 14, 15, 16, 17"
   ]
  },
  {
   "cell_type": "code",
   "execution_count": 6,
   "metadata": {},
   "outputs": [
    {
     "name": "stdout",
     "output_type": "stream",
     "text": [
      "pormig\n"
     ]
    }
   ],
   "source": [
    "print(language[7:18:2])"
   ]
  },
  {
   "cell_type": "code",
   "execution_count": 7,
   "metadata": {},
   "outputs": [
    {
     "name": "stdout",
     "output_type": "stream",
     "text": [
      "pgmn\n"
     ]
    }
   ],
   "source": [
    "# P   y t h o n   P r  o g  r  a  m  m  i  n  g\n",
    "# 0   1 2 3 4 5 6 7 8  9 10 11 12 13 14 15 16 17 - forward indexing\n",
    "# -18 - - - - - - - - -9 -8 -7 -6 -5 -4 -3 -2 -1 - reverse indexing\n",
    "print(language[7:18:3]) # 7, 10, 13, 16"
   ]
  },
  {
   "cell_type": "code",
   "execution_count": 8,
   "metadata": {},
   "outputs": [
    {
     "name": "stdout",
     "output_type": "stream",
     "text": [
      "\n"
     ]
    }
   ],
   "source": [
    "print(language[7:18:-1])\n",
    " # 6, 5, 4, 3, 2, 1, 0, -1, -2, -3, -4, -5, -6, -7, -8, -9, \n",
    " # 7-1 = 6 it is not between the limit"
   ]
  },
  {
   "cell_type": "code",
   "execution_count": 9,
   "metadata": {},
   "outputs": [
    {
     "name": "stdout",
     "output_type": "stream",
     "text": [
      "gnimmargor\n"
     ]
    }
   ],
   "source": [
    "print(language[17:7:-1]) \n",
    "# 17, 16, 15, 14, 13, 12, 11, 10, 9, 8\n",
    "# 17-1 = 16 it is between the limit"
   ]
  },
  {
   "cell_type": "code",
   "execution_count": 10,
   "metadata": {},
   "outputs": [
    {
     "name": "stdout",
     "output_type": "stream",
     "text": [
      "gnimmargorp\n"
     ]
    }
   ],
   "source": [
    "print(language[18:6:-1])\n",
    "# [18:6:-1] => 18, 17, 16, 15, 14.......7\n",
    "# -1        => 17, 16, 15, 14.........7"
   ]
  },
  {
   "cell_type": "code",
   "execution_count": 11,
   "metadata": {},
   "outputs": [
    {
     "name": "stdout",
     "output_type": "stream",
     "text": [
      "gnimmargorp\n"
     ]
    }
   ],
   "source": [
    "print(language[19:6:-1])"
   ]
  },
  {
   "cell_type": "code",
   "execution_count": 12,
   "metadata": {},
   "outputs": [
    {
     "name": "stdout",
     "output_type": "stream",
     "text": [
      "gmrr\n"
     ]
    }
   ],
   "source": [
    "print(language[18:7:-3])\n",
    "# [18:7:-3] => 18, 15, 12, 9\n",
    "# -1        => 17, 14, 11, 10"
   ]
  },
  {
   "cell_type": "code",
   "execution_count": 13,
   "metadata": {},
   "outputs": [
    {
     "name": "stdout",
     "output_type": "stream",
     "text": [
      "gmrr\n",
      "gimro\n"
     ]
    }
   ],
   "source": [
    "print(language[23:7:-3])\n",
    "# [23:7:-3] => 23, 20, 17, 14, 11, 8\n",
    "# -6        => 17, 14, 11, 8\n",
    "\n",
    "print(language[25:7:-2])\n",
    "# [25:7:-2] => 25, 23, 21, 19, 17, 15, 13, 11, 9\n",
    "# -8        => 17, 15, 13, 11, 9"
   ]
  },
  {
   "cell_type": "code",
   "execution_count": 16,
   "metadata": {},
   "outputs": [],
   "source": [
    "# string slicing [start_index:final_index: step]\n",
    "# default start_index = 0\n",
    "# default final_index = string length\n",
    "# defaukt step = +1"
   ]
  },
  {
   "cell_type": "code",
   "execution_count": 14,
   "metadata": {},
   "outputs": [
    {
     "data": {
      "text/plain": [
       "'Python '"
      ]
     },
     "execution_count": 14,
     "metadata": {},
     "output_type": "execute_result"
    }
   ],
   "source": [
    "language[0:7:1]"
   ]
  },
  {
   "cell_type": "code",
   "execution_count": 15,
   "metadata": {},
   "outputs": [
    {
     "data": {
      "text/plain": [
       "'Python '"
      ]
     },
     "execution_count": 15,
     "metadata": {},
     "output_type": "execute_result"
    }
   ],
   "source": [
    "language[:7]"
   ]
  },
  {
   "cell_type": "code",
   "execution_count": 19,
   "metadata": {},
   "outputs": [
    {
     "data": {
      "text/plain": [
       "'Python programming'"
      ]
     },
     "execution_count": 19,
     "metadata": {},
     "output_type": "execute_result"
    }
   ],
   "source": [
    "language[::]"
   ]
  },
  {
   "cell_type": "code",
   "execution_count": null,
   "metadata": {},
   "outputs": [],
   "source": [
    "# P   y t h o n   P r  o g  r  a  m  m  i  n  g\n",
    "# 0   1 2 3 4 5 6 7 8  9 10 11 12 13 14 15 16 17 - forward indexing\n",
    "# -18 - - - - - - - - -9 -8 -7 -6 -5 -4 -3 -2 -1 - reverse indexing"
   ]
  },
  {
   "cell_type": "code",
   "execution_count": 20,
   "metadata": {},
   "outputs": [
    {
     "data": {
      "text/plain": [
       "'Python programming'"
      ]
     },
     "execution_count": 20,
     "metadata": {},
     "output_type": "execute_result"
    }
   ],
   "source": [
    "language[0:] # [0:18:+1]"
   ]
  },
  {
   "cell_type": "code",
   "execution_count": 21,
   "metadata": {},
   "outputs": [
    {
     "data": {
      "text/plain": [
       "' programming'"
      ]
     },
     "execution_count": 21,
     "metadata": {},
     "output_type": "execute_result"
    }
   ],
   "source": [
    "language[6:] #[6:18:+1]"
   ]
  },
  {
   "cell_type": "code",
   "execution_count": 22,
   "metadata": {},
   "outputs": [
    {
     "data": {
      "text/plain": [
       "'Python programming'"
      ]
     },
     "execution_count": 22,
     "metadata": {},
     "output_type": "execute_result"
    }
   ],
   "source": [
    "language[:] "
   ]
  },
  {
   "cell_type": "code",
   "execution_count": 23,
   "metadata": {},
   "outputs": [
    {
     "data": {
      "text/plain": [
       "'Python programming'"
      ]
     },
     "execution_count": 23,
     "metadata": {},
     "output_type": "execute_result"
    }
   ],
   "source": [
    "language"
   ]
  },
  {
   "cell_type": "code",
   "execution_count": 24,
   "metadata": {},
   "outputs": [
    {
     "data": {
      "text/plain": [
       "'Python programming'"
      ]
     },
     "execution_count": 24,
     "metadata": {},
     "output_type": "execute_result"
    }
   ],
   "source": [
    "language[::]"
   ]
  },
  {
   "cell_type": "code",
   "execution_count": 25,
   "metadata": {},
   "outputs": [
    {
     "data": {
      "text/plain": [
       "'Python programming'"
      ]
     },
     "execution_count": 25,
     "metadata": {},
     "output_type": "execute_result"
    }
   ],
   "source": [
    "language[::1]"
   ]
  },
  {
   "cell_type": "code",
   "execution_count": 26,
   "metadata": {},
   "outputs": [
    {
     "data": {
      "text/plain": [
       "'Ph oai'"
      ]
     },
     "execution_count": 26,
     "metadata": {},
     "output_type": "execute_result"
    }
   ],
   "source": [
    "language[::3] # [0:18:+3]"
   ]
  },
  {
   "cell_type": "code",
   "execution_count": 27,
   "metadata": {},
   "outputs": [],
   "source": [
    "\n",
    "# if step is -ve, start and end are not given,\n",
    "# then\n",
    "#   start = length_of_string - 1\n",
    "#   end = -1"
   ]
  },
  {
   "cell_type": "code",
   "execution_count": 28,
   "metadata": {},
   "outputs": [
    {
     "data": {
      "text/plain": [
       "'gnimmargorp nohtyP'"
      ]
     },
     "execution_count": 28,
     "metadata": {},
     "output_type": "execute_result"
    }
   ],
   "source": [
    "language[::-1] # [17:-1:-1] => 17, 16, ........0"
   ]
  },
  {
   "cell_type": "code",
   "execution_count": 29,
   "metadata": {},
   "outputs": [
    {
     "data": {
      "text/plain": [
       "'Python programmin'"
      ]
     },
     "execution_count": 29,
     "metadata": {},
     "output_type": "execute_result"
    }
   ],
   "source": [
    "language[:-1]"
   ]
  },
  {
   "cell_type": "code",
   "execution_count": 30,
   "metadata": {},
   "outputs": [
    {
     "data": {
      "text/plain": [
       "'gmrrnt'"
      ]
     },
     "execution_count": 30,
     "metadata": {},
     "output_type": "execute_result"
    }
   ],
   "source": [
    "language[::-3] # [17:-1:-3] => 17, 14, ....., 2"
   ]
  },
  {
   "cell_type": "code",
   "execution_count": 31,
   "metadata": {},
   "outputs": [],
   "source": [
    "# P   y t h o n   P r  o g  r  a  m  m  i  n  g\n",
    "# 0   1 2 3 4 5 6 7 8  9 10 11 12 13 14 15 16 17 - forward indexing\n",
    "# -18 - - - - - - - - -9 -8 -7 -6 -5 -4 -3 -2 -1 - reverse indexing"
   ]
  },
  {
   "cell_type": "code",
   "execution_count": 32,
   "metadata": {},
   "outputs": [
    {
     "data": {
      "text/plain": [
       "'gapt'"
      ]
     },
     "execution_count": 32,
     "metadata": {},
     "output_type": "execute_result"
    }
   ],
   "source": [
    "language[::-5] # [17:-1:-5]"
   ]
  },
  {
   "cell_type": "code",
   "execution_count": 1,
   "metadata": {},
   "outputs": [],
   "source": [
    "name = \"Varun Dhawan\""
   ]
  },
  {
   "cell_type": "code",
   "execution_count": 34,
   "metadata": {},
   "outputs": [
    {
     "data": {
      "text/plain": [
       "'Varun Dhawan'"
      ]
     },
     "execution_count": 34,
     "metadata": {},
     "output_type": "execute_result"
    }
   ],
   "source": [
    "name"
   ]
  },
  {
   "cell_type": "code",
   "execution_count": 35,
   "metadata": {},
   "outputs": [
    {
     "data": {
      "text/plain": [
       "'Varun Dhawan'"
      ]
     },
     "execution_count": 35,
     "metadata": {},
     "output_type": "execute_result"
    }
   ],
   "source": [
    "name[:]"
   ]
  },
  {
   "cell_type": "code",
   "execution_count": 36,
   "metadata": {},
   "outputs": [
    {
     "data": {
      "text/plain": [
       "'Varun Dhawan'"
      ]
     },
     "execution_count": 36,
     "metadata": {},
     "output_type": "execute_result"
    }
   ],
   "source": [
    "name[::]"
   ]
  },
  {
   "cell_type": "code",
   "execution_count": 37,
   "metadata": {},
   "outputs": [
    {
     "data": {
      "text/plain": [
       "'Varun Dhawan'"
      ]
     },
     "execution_count": 37,
     "metadata": {},
     "output_type": "execute_result"
    }
   ],
   "source": [
    "name[::1]"
   ]
  },
  {
   "cell_type": "code",
   "execution_count": 38,
   "metadata": {},
   "outputs": [
    {
     "data": {
      "text/plain": [
       "'nawahD nuraV'"
      ]
     },
     "execution_count": 38,
     "metadata": {},
     "output_type": "execute_result"
    }
   ],
   "source": [
    "name[::-1]"
   ]
  },
  {
   "cell_type": "code",
   "execution_count": 39,
   "metadata": {},
   "outputs": [],
   "source": [
    "# Assignment do perform inplace word reversal for a string\n",
    "# nuraV nawahD"
   ]
  },
  {
   "cell_type": "code",
   "execution_count": 51,
   "metadata": {},
   "outputs": [
    {
     "name": "stdout",
     "output_type": "stream",
     "text": [
      "nuraV nawahD\n"
     ]
    }
   ],
   "source": [
    "print(name[4::-1], name[:5:-1]) # 4, 3, 2, 1, 0"
   ]
  },
  {
   "cell_type": "code",
   "execution_count": 53,
   "metadata": {},
   "outputs": [
    {
     "data": {
      "text/plain": [
       "'raV'"
      ]
     },
     "execution_count": 53,
     "metadata": {},
     "output_type": "execute_result"
    }
   ],
   "source": [
    "name[2::-1] # 2, 1, 0"
   ]
  },
  {
   "cell_type": "code",
   "execution_count": 54,
   "metadata": {},
   "outputs": [
    {
     "data": {
      "text/plain": [
       "''"
      ]
     },
     "execution_count": 54,
     "metadata": {},
     "output_type": "execute_result"
    }
   ],
   "source": [
    "name[2:4:-1]"
   ]
  },
  {
   "cell_type": "code",
   "execution_count": 55,
   "metadata": {},
   "outputs": [],
   "source": [
    "other_str = \"today is good day\"\n",
    "# yadot si doog yad\n",
    "# y a d o t   s i   d o  o  g     y  a  d\n",
    "# 0 1 2 3 4 5 6 7 8 9 10 11 12 13 14 15 16\n",
    "# -17 ................................  -1"
   ]
  },
  {
   "cell_type": "code",
   "execution_count": 58,
   "metadata": {},
   "outputs": [
    {
     "name": "stdout",
     "output_type": "stream",
     "text": [
      "yadot si doog yad\n"
     ]
    }
   ],
   "source": [
    "print(other_str[4::-1], other_str[7:5:-1], \n",
    "      other_str[12:8:-1], other_str[:13:-1])"
   ]
  },
  {
   "cell_type": "code",
   "execution_count": 2,
   "metadata": {},
   "outputs": [
    {
     "data": {
      "text/plain": [
       "'n Dhawan'"
      ]
     },
     "execution_count": 2,
     "metadata": {},
     "output_type": "execute_result"
    }
   ],
   "source": [
    "name[4:]"
   ]
  },
  {
   "cell_type": "code",
   "execution_count": 3,
   "metadata": {},
   "outputs": [
    {
     "data": {
      "text/plain": [
       "'Varu'"
      ]
     },
     "execution_count": 3,
     "metadata": {},
     "output_type": "execute_result"
    }
   ],
   "source": [
    "name[:4]"
   ]
  },
  {
   "cell_type": "code",
   "execution_count": 4,
   "metadata": {},
   "outputs": [
    {
     "data": {
      "text/plain": [
       "'Varun'"
      ]
     },
     "execution_count": 4,
     "metadata": {},
     "output_type": "execute_result"
    }
   ],
   "source": [
    "name[:5]"
   ]
  },
  {
   "cell_type": "code",
   "execution_count": 5,
   "metadata": {},
   "outputs": [
    {
     "data": {
      "text/plain": [
       "'Varun '"
      ]
     },
     "execution_count": 5,
     "metadata": {},
     "output_type": "execute_result"
    }
   ],
   "source": [
    "name[:-6] # Varun Dhawan [0:-6:1] =>[0:6:1] => [0:12-6:1] (-6 == 6) same position"
   ]
  },
  {
   "cell_type": "code",
   "execution_count": 6,
   "metadata": {},
   "outputs": [
    {
     "data": {
      "text/plain": [
       "'Dhawan'"
      ]
     },
     "execution_count": 6,
     "metadata": {},
     "output_type": "execute_result"
    }
   ],
   "source": [
    "name[-6:] # "
   ]
  },
  {
   "cell_type": "code",
   "execution_count": 7,
   "metadata": {},
   "outputs": [
    {
     "data": {
      "text/plain": [
       "'run D'"
      ]
     },
     "execution_count": 7,
     "metadata": {},
     "output_type": "execute_result"
    }
   ],
   "source": [
    "name[2:-5]"
   ]
  },
  {
   "cell_type": "code",
   "execution_count": null,
   "metadata": {},
   "outputs": [],
   "source": []
  }
 ],
 "metadata": {
  "kernelspec": {
   "display_name": "Python 3",
   "language": "python",
   "name": "python3"
  },
  "language_info": {
   "codemirror_mode": {
    "name": "ipython",
    "version": 3
   },
   "file_extension": ".py",
   "mimetype": "text/x-python",
   "name": "python",
   "nbconvert_exporter": "python",
   "pygments_lexer": "ipython3",
   "version": "3.12.1"
  }
 },
 "nbformat": 4,
 "nbformat_minor": 2
}
