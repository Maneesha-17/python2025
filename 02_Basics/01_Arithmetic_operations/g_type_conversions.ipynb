{
 "cells": [
  {
   "cell_type": "markdown",
   "metadata": {},
   "source": [
    "### Data type conversions\n",
    "\n",
    "    - int, float, complex, boolean, string, None\n",
    "\n",
    "    integer family\n",
    "\n",
    "        int - decimal       - int() - base 1 (0-9)\n",
    "            - binary        - bin() - base 2 (0-1)\n",
    "            - hexadecimal   - hex() - base 16 (0-9 A-F)\n",
    "            - octal         - oct() - base 8 (0-7)\n",
    "    float\n",
    "        float()\n",
    "    String\n",
    "        str()"
   ]
  },
  {
   "cell_type": "code",
   "execution_count": 1,
   "metadata": {},
   "outputs": [
    {
     "name": "stdout",
     "output_type": "stream",
     "text": [
      "num = 12 <class 'int'>\n"
     ]
    }
   ],
   "source": [
    "\n",
    "num =12\n",
    "print(\"num =\", num, type(num))"
   ]
  },
  {
   "cell_type": "code",
   "execution_count": 2,
   "metadata": {},
   "outputs": [
    {
     "name": "stdout",
     "output_type": "stream",
     "text": [
      "12 12.0\n"
     ]
    }
   ],
   "source": [
    "# int -> float\n",
    "print(12, float(12))"
   ]
  },
  {
   "cell_type": "code",
   "execution_count": 6,
   "metadata": {},
   "outputs": [
    {
     "data": {
      "text/plain": [
       "(12, '12')"
      ]
     },
     "execution_count": 6,
     "metadata": {},
     "output_type": "execute_result"
    }
   ],
   "source": [
    "# int -> str\n",
    "12, str(12)"
   ]
  },
  {
   "cell_type": "code",
   "execution_count": 7,
   "metadata": {},
   "outputs": [
    {
     "name": "stdout",
     "output_type": "stream",
     "text": [
      "12 12\n"
     ]
    }
   ],
   "source": [
    "print(12, str(12))"
   ]
  },
  {
   "cell_type": "code",
   "execution_count": 8,
   "metadata": {},
   "outputs": [
    {
     "name": "stdout",
     "output_type": "stream",
     "text": [
      "3.1416 3\n",
      "3.1416 3.1416\n"
     ]
    }
   ],
   "source": [
    "print(3.1416, int(3.1416))\n",
    "print(3.1416, str(3.1416))"
   ]
  },
  {
   "cell_type": "code",
   "execution_count": 9,
   "metadata": {},
   "outputs": [
    {
     "data": {
      "text/plain": [
       "(3.1416, '3.1416')"
      ]
     },
     "execution_count": 9,
     "metadata": {},
     "output_type": "execute_result"
    }
   ],
   "source": [
    "3.1416, str(3.1416)"
   ]
  },
  {
   "cell_type": "code",
   "execution_count": 11,
   "metadata": {},
   "outputs": [
    {
     "name": "stdout",
     "output_type": "stream",
     "text": [
      "23 23\n",
      "23  23\n",
      "23  23\n"
     ]
    }
   ],
   "source": [
    "print(\"23\", int(\"23\"))\n",
    "print(\"23 \", int(\"23 \"))\n",
    "print(\"23 \", int(\"  23\"))"
   ]
  },
  {
   "cell_type": "code",
   "execution_count": 12,
   "metadata": {},
   "outputs": [
    {
     "ename": "ValueError",
     "evalue": "invalid literal for int() with base 10: '2 3'",
     "output_type": "error",
     "traceback": [
      "\u001b[0;31m---------------------------------------------------------------------------\u001b[0m",
      "\u001b[0;31mValueError\u001b[0m                                Traceback (most recent call last)",
      "Cell \u001b[0;32mIn[12], line 1\u001b[0m\n\u001b[0;32m----> 1\u001b[0m \u001b[38;5;28mprint\u001b[39m(\u001b[38;5;124m'\u001b[39m\u001b[38;5;124m2 3\u001b[39m\u001b[38;5;124m'\u001b[39m, \u001b[38;5;28;43mint\u001b[39;49m\u001b[43m(\u001b[49m\u001b[38;5;124;43m'\u001b[39;49m\u001b[38;5;124;43m2 3\u001b[39;49m\u001b[38;5;124;43m'\u001b[39;49m\u001b[43m)\u001b[49m)\n",
      "\u001b[0;31mValueError\u001b[0m: invalid literal for int() with base 10: '2 3'"
     ]
    }
   ],
   "source": [
    "\n",
    "print('2 3', int('2 3'))"
   ]
  },
  {
   "cell_type": "code",
   "execution_count": 13,
   "metadata": {},
   "outputs": [
    {
     "ename": "ValueError",
     "evalue": "invalid literal for int() with base 10: 'two'",
     "output_type": "error",
     "traceback": [
      "\u001b[0;31m---------------------------------------------------------------------------\u001b[0m",
      "\u001b[0;31mValueError\u001b[0m                                Traceback (most recent call last)",
      "Cell \u001b[0;32mIn[13], line 1\u001b[0m\n\u001b[0;32m----> 1\u001b[0m \u001b[38;5;28;43mint\u001b[39;49m\u001b[43m(\u001b[49m\u001b[38;5;124;43m'\u001b[39;49m\u001b[38;5;124;43mtwo\u001b[39;49m\u001b[38;5;124;43m'\u001b[39;49m\u001b[43m)\u001b[49m\n",
      "\u001b[0;31mValueError\u001b[0m: invalid literal for int() with base 10: 'two'"
     ]
    }
   ],
   "source": [
    "int('two')"
   ]
  },
  {
   "cell_type": "code",
   "execution_count": 14,
   "metadata": {},
   "outputs": [
    {
     "ename": "ValueError",
     "evalue": "invalid literal for int() with base 10: '23.24'",
     "output_type": "error",
     "traceback": [
      "\u001b[0;31m---------------------------------------------------------------------------\u001b[0m",
      "\u001b[0;31mValueError\u001b[0m                                Traceback (most recent call last)",
      "Cell \u001b[0;32mIn[14], line 1\u001b[0m\n\u001b[0;32m----> 1\u001b[0m \u001b[38;5;28;43mint\u001b[39;49m\u001b[43m(\u001b[49m\u001b[38;5;124;43m'\u001b[39;49m\u001b[38;5;124;43m23.24\u001b[39;49m\u001b[38;5;124;43m'\u001b[39;49m\u001b[43m)\u001b[49m\n",
      "\u001b[0;31mValueError\u001b[0m: invalid literal for int() with base 10: '23.24'"
     ]
    }
   ],
   "source": [
    "int('23.24')"
   ]
  },
  {
   "cell_type": "code",
   "execution_count": 15,
   "metadata": {},
   "outputs": [
    {
     "name": "stdout",
     "output_type": "stream",
     "text": [
      "23   23.0\n",
      "23.24 23.24\n",
      "23   23.0\n"
     ]
    }
   ],
   "source": [
    "print(\"23  \", float(\"23\"))\n",
    "print(\"23.24\", float(\"23.24\"))\n",
    "print(\"23  \", float(\"23.\"))\n",
    "# print('2 3.', float('2 3.'))"
   ]
  },
  {
   "cell_type": "code",
   "execution_count": 18,
   "metadata": {},
   "outputs": [
    {
     "name": "stdout",
     "output_type": "stream",
     "text": [
      "0.0\n",
      "1.23\n",
      "-12345.0\n",
      "0.001\n",
      "1000000.0\n",
      "-inf\n",
      "inf\n"
     ]
    }
   ],
   "source": [
    "print(float())\n",
    "print(float(\"+1.23\"))\n",
    "print(float(\"     -12345\\n\"))\n",
    "print(float(\"1e-003\"))\n",
    "print(float(\"+1E6\"))\n",
    "print(float(\"-Infinity\"))\n",
    "print(float(\"-inf\"))"
   ]
  },
  {
   "cell_type": "code",
   "execution_count": 19,
   "metadata": {},
   "outputs": [
    {
     "name": "stdout",
     "output_type": "stream",
     "text": [
      "str(12)           12\n",
      "str(121233.12323) 121233.12323\n",
      "str(-0.000012)    -1.2e-05\n",
      "str(True)         True\n",
      "str(None)         None\n"
     ]
    }
   ],
   "source": [
    "print(\"str(12)          \", str(12))\n",
    "print(\"str(121233.12323)\", str(121233.12323))\n",
    "print(\"str(-0.000012)   \", str(-0.000012))\n",
    "print(\"str(True)        \", str(True))\n",
    "print(\"str(None)        \", str(None))"
   ]
  },
  {
   "cell_type": "code",
   "execution_count": 20,
   "metadata": {},
   "outputs": [],
   "source": [
    "# int value is same in all four representations\n",
    "# decimal, binary, hexadecimal & octal"
   ]
  },
  {
   "cell_type": "code",
   "execution_count": 21,
   "metadata": {},
   "outputs": [
    {
     "name": "stdout",
     "output_type": "stream",
     "text": [
      "num1:  33 <class 'int'>\n"
     ]
    }
   ],
   "source": [
    "num1 = 33\n",
    "print(\"num1: \", num1, type(num1))"
   ]
  },
  {
   "cell_type": "code",
   "execution_count": 23,
   "metadata": {},
   "outputs": [
    {
     "data": {
      "text/plain": [
       "'0b100001'"
      ]
     },
     "execution_count": 23,
     "metadata": {},
     "output_type": "execute_result"
    }
   ],
   "source": [
    "# decimal -> binary form \n",
    "bin(num1)"
   ]
  },
  {
   "cell_type": "code",
   "execution_count": 24,
   "metadata": {},
   "outputs": [],
   "source": [
    "#           128 64 32 16 8 4 2 1\n",
    "#    33      0   0  1  0 0 0 0 1"
   ]
  },
  {
   "cell_type": "code",
   "execution_count": 25,
   "metadata": {},
   "outputs": [
    {
     "name": "stdout",
     "output_type": "stream",
     "text": [
      "23 0b10111 <class 'str'>\n"
     ]
    }
   ],
   "source": [
    "print(23, bin(23), type(bin(23)))"
   ]
  },
  {
   "cell_type": "code",
   "execution_count": 26,
   "metadata": {},
   "outputs": [
    {
     "ename": "TypeError",
     "evalue": "'float' object cannot be interpreted as an integer",
     "output_type": "error",
     "traceback": [
      "\u001b[0;31m---------------------------------------------------------------------------\u001b[0m",
      "\u001b[0;31mTypeError\u001b[0m                                 Traceback (most recent call last)",
      "Cell \u001b[0;32mIn[26], line 1\u001b[0m\n\u001b[0;32m----> 1\u001b[0m \u001b[38;5;28;43mbin\u001b[39;49m\u001b[43m(\u001b[49m\u001b[38;5;241;43m23.24\u001b[39;49m\u001b[43m)\u001b[49m\n",
      "\u001b[0;31mTypeError\u001b[0m: 'float' object cannot be interpreted as an integer"
     ]
    }
   ],
   "source": [
    "bin(23.24)"
   ]
  },
  {
   "cell_type": "code",
   "execution_count": 27,
   "metadata": {},
   "outputs": [
    {
     "name": "stdout",
     "output_type": "stream",
     "text": [
      "0b1001 9\n",
      "1001 1001\n",
      "bin(9) 9\n"
     ]
    }
   ],
   "source": [
    "print(\"0b1001\", int(\"0b1001\", base = 0))\n",
    "print(\"1001\", int(\"1001\", base = 0))\n",
    "print(\"bin(9)\", int(bin(9), base = 0))"
   ]
  },
  {
   "cell_type": "code",
   "execution_count": 28,
   "metadata": {},
   "outputs": [
    {
     "name": "stdout",
     "output_type": "stream",
     "text": [
      "4\n",
      "5\n"
     ]
    }
   ],
   "source": [
    "print((9).bit_length())\n",
    "print((23).bit_length())"
   ]
  },
  {
   "cell_type": "code",
   "execution_count": 29,
   "metadata": {},
   "outputs": [
    {
     "name": "stdout",
     "output_type": "stream",
     "text": [
      "oct(9)  0o11\n",
      "oct(-23) -0o27\n"
     ]
    }
   ],
   "source": [
    "# octal -> 0-7\n",
    "print(\"oct(9) \", oct(9))\n",
    "print('oct(-23)', oct(-23))"
   ]
  },
  {
   "cell_type": "code",
   "execution_count": 30,
   "metadata": {},
   "outputs": [
    {
     "data": {
      "text/plain": [
       "('0o12', '10')"
      ]
     },
     "execution_count": 30,
     "metadata": {},
     "output_type": "execute_result"
    }
   ],
   "source": [
    "\"%#o\" % 10, \"%o\" % 10\n",
    "format(10, \"#o\"), format(10, \"o\")\n",
    "f\"{10:#o}\", f'{10:0}'"
   ]
  },
  {
   "cell_type": "code",
   "execution_count": 31,
   "metadata": {},
   "outputs": [
    {
     "name": "stdout",
     "output_type": "stream",
     "text": [
      "9\n",
      "9\n",
      "9\n",
      "11\n"
     ]
    }
   ],
   "source": [
    "print(int(oct(9), base = 8))\n",
    "print(int(\"0o11\", base = 8))\n",
    "print(int(\"11\", base = 8))\n",
    "print(int(\"11\"))"
   ]
  },
  {
   "cell_type": "code",
   "execution_count": 32,
   "metadata": {},
   "outputs": [
    {
     "name": "stdout",
     "output_type": "stream",
     "text": [
      "hex(9)   0x9\n",
      "hex(-23) -0x17\n"
     ]
    }
   ],
   "source": [
    "print(\"hex(9)  \", hex(9))\n",
    "print(\"hex(-23)\", hex(-23))"
   ]
  },
  {
   "cell_type": "code",
   "execution_count": 33,
   "metadata": {},
   "outputs": [
    {
     "name": "stdout",
     "output_type": "stream",
     "text": [
      "-23\n",
      "-23\n",
      "-23\n",
      "-17\n"
     ]
    }
   ],
   "source": [
    "print(int(hex(-23), base = 16))\n",
    "print(int(\"-0x17\", base = 16))\n",
    "print(int('-17', base = 16))\n",
    "print(int('-17'))"
   ]
  },
  {
   "cell_type": "code",
   "execution_count": 34,
   "metadata": {},
   "outputs": [
    {
     "data": {
      "text/plain": [
       "('0xff', 'ff', 'FF')"
      ]
     },
     "execution_count": 34,
     "metadata": {},
     "output_type": "execute_result"
    }
   ],
   "source": [
    "\"%#x\" % 255, \"%x\" % 255, '%X' % 255\n",
    "format(255, \"#x\"), format(255, \"x\"), format(255, \"X\")\n",
    "f\"{255:#x}\", f'{255:x}', f'{255:X}'"
   ]
  },
  {
   "cell_type": "code",
   "execution_count": 35,
   "metadata": {},
   "outputs": [
    {
     "name": "stdout",
     "output_type": "stream",
     "text": [
      "True\n",
      "False\n",
      "False\n"
     ]
    }
   ],
   "source": [
    "print((-2).is_integer())\n",
    "print((-2.1).is_integer())\n",
    "print((-1.999999).is_integer())"
   ]
  },
  {
   "cell_type": "code",
   "execution_count": 36,
   "metadata": {},
   "outputs": [],
   "source": [
    "# Ref: https://unicode-table.com/"
   ]
  }
 ],
 "metadata": {
  "kernelspec": {
   "display_name": "Python 3",
   "language": "python",
   "name": "python3"
  },
  "language_info": {
   "codemirror_mode": {
    "name": "ipython",
    "version": 3
   },
   "file_extension": ".py",
   "mimetype": "text/x-python",
   "name": "python",
   "nbconvert_exporter": "python",
   "pygments_lexer": "ipython3",
   "version": "3.12.1"
  }
 },
 "nbformat": 4,
 "nbformat_minor": 2
}
